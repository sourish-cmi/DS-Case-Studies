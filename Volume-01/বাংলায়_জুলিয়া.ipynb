{
 "cells": [
  {
   "cell_type": "markdown",
   "id": "b490f325",
   "metadata": {},
   "source": [
    "# কম্পিউটার প্রোগ্রামিং জুলিয়ার (Julia) সাথে "
   ]
  },
  {
   "cell_type": "markdown",
   "id": "3830f8da",
   "metadata": {},
   "source": [
    "**জুলিয়া** হল বৈজ্ঞানিক কম্পিউটিং-এর জন্য একটি উচ্চ-স্তরের (High-Level), উচ্চ-কর্মক্ষমতা সম্পন্ন গতিশীল প্রোগ্রামিং ভাষা (high-performance dynamic programming language)। জুলিয়ার সিনট্যাক্স খুবই সহজ। এটি একটি পরিশীলিত কম্পাইলার ভাষা (Compiler Language), বিতরণ এবং সমান্তরাল কম্পিউটিং, সংখ্যাগত নির্ভুলতা এবং একটি বিস্তৃত গাণিতিক ফাংশন লাইব্রেরি প্রদান করে। জুলিয়ার সিনট্যাক্সট অন্যান্য বৈজ্ঞানিক কম্পিউটিং পরিবেশের ব্যবহারকারীদের সাথে পরিচিত হওয়ার জন্য ডিজাইন করা হয়েছে, যেমন MATLAB, Python, R, ইত্যাদি। এটি বৈজ্ঞানিক এবং সংখ্যাসূচক কম্পিউটিংয়ের জন্য উপযুক্ত একটি দ্রুত এবং উচ্চ-স্তরের প্রোগ্রামিং ভাষার প্রয়োজনীয়তা মোকাবেলা করার জন্য তৈরি করা হয়েছিল।\n",
    "\n",
    "জুলিয়া প্রায়শই তার গতির জন্য প্রশংসিত হয়, যা কম্পাইল করা ভাষা যেমন C এবং Fortran এর সাথে তুলনীয়, উচ্চ-স্তরের সিনট্যাক্স এবং গতিশীল বৈশিষ্ট্যগুলি বজায় রেখে যা ব্যবহার করা সহজ করে তোলে। এর কার্যক্ষমতা জাস্ট-ইন-টাইম (JIT) সংকলন, টাইপ ইনফারেন্স এবং একটি পরিশীলিত মেমরি ম্যানেজমেন্ট সিস্টেমের মাধ্যমে অর্জন করা হয়।\n",
    "\n",
    "জুলিয়া একটি মুক্ত-উৎস ভাষা (Open Sources Language) এবং ব্যবহারকারী এবং অবদানকারীদের একটি ক্রমবর্ধমান সম্প্রদায় রয়েছে। এটি বৈজ্ঞানিক কম্পিউটিং, মেশিন লার্নিং, ডেটা বিশ্লেষণ এবং আরও অনেক কিছু সহ বিভিন্ন ক্ষেত্রে ব্যবহৃত হয়। জুলিয়া একাধিক প্রেরণকেও সমর্থন করে, একটি প্রোগ্রামিং দৃষ্টান্ত যেখানে একটি ফাংশনের আচরণ তার আর্গুমেন্টের ধরন দ্বারা নির্ধারিত হয়, যা মার্জিত এবং দক্ষ কোড সংগঠন এবং বিমূর্ততা সক্ষম করে।\n",
    "\n",
    "সামগ্রিকভাবে, জুলিয়া প্রযুক্তিগত কম্পিউটিংয়ের জন্য একটি উত্পাদনশীল এবং অভিব্যক্তিপূর্ণ ভাষা হওয়ার লক্ষ্য রাখে, ব্যবহারের সহজলভ্যতাকে ত্যাগ না করে উচ্চ কার্যক্ষমতা প্রদান করে।"
   ]
  },
  {
   "cell_type": "markdown",
   "id": "3abdecd8",
   "metadata": {},
   "source": [
    "## বিভন্ন ধরনের ভ্যারিয়েবল (Variable)"
   ]
  },
  {
   "cell_type": "code",
   "execution_count": 1,
   "id": "7e78a68e",
   "metadata": {},
   "outputs": [
    {
     "data": {
      "text/plain": [
       "42"
      ]
     },
     "execution_count": 1,
     "metadata": {},
     "output_type": "execute_result"
    }
   ],
   "source": [
    "আমার_উত্তর = 42"
   ]
  },
  {
   "cell_type": "code",
   "execution_count": 2,
   "id": "5853b9cd",
   "metadata": {},
   "outputs": [
    {
     "data": {
      "text/plain": [
       "Int64"
      ]
     },
     "execution_count": 2,
     "metadata": {},
     "output_type": "execute_result"
    }
   ],
   "source": [
    "typeof(আমার_উত্তর)"
   ]
  },
  {
   "cell_type": "code",
   "execution_count": 3,
   "id": "7c6f20c4",
   "metadata": {},
   "outputs": [
    {
     "data": {
      "text/plain": [
       "3.141"
      ]
     },
     "execution_count": 3,
     "metadata": {},
     "output_type": "execute_result"
    }
   ],
   "source": [
    "আমার_পাই = 3.141"
   ]
  },
  {
   "cell_type": "code",
   "execution_count": 4,
   "id": "33dd3eb4",
   "metadata": {},
   "outputs": [
    {
     "data": {
      "text/plain": [
       "Float64"
      ]
     },
     "execution_count": 4,
     "metadata": {},
     "output_type": "execute_result"
    }
   ],
   "source": [
    "typeof(আমার_পাই)"
   ]
  },
  {
   "cell_type": "code",
   "execution_count": 5,
   "id": "f0ff35fd",
   "metadata": {},
   "outputs": [
    {
     "data": {
      "text/plain": [
       "\"জুলিয়া\""
      ]
     },
     "execution_count": 5,
     "metadata": {},
     "output_type": "execute_result"
    }
   ],
   "source": [
    "আমার_নাম = \"জুলিয়া\""
   ]
  },
  {
   "cell_type": "code",
   "execution_count": 6,
   "id": "4a4fd202",
   "metadata": {},
   "outputs": [
    {
     "data": {
      "text/plain": [
       "\"জুলিয়া\""
      ]
     },
     "execution_count": 6,
     "metadata": {},
     "output_type": "execute_result"
    }
   ],
   "source": [
    "আমার_উত্তর = আমার_নাম"
   ]
  },
  {
   "cell_type": "code",
   "execution_count": 7,
   "id": "b685e1ea",
   "metadata": {},
   "outputs": [
    {
     "data": {
      "text/plain": [
       "String"
      ]
     },
     "execution_count": 7,
     "metadata": {},
     "output_type": "execute_result"
    }
   ],
   "source": [
    "typeof(আমার_উত্তর)"
   ]
  },
  {
   "cell_type": "code",
   "execution_count": 8,
   "id": "3a015139",
   "metadata": {},
   "outputs": [
    {
     "data": {
      "text/plain": [
       "\"জুলিয়া\""
      ]
     },
     "execution_count": 8,
     "metadata": {},
     "output_type": "execute_result"
    }
   ],
   "source": [
    "আমার_উত্তর"
   ]
  },
  {
   "cell_type": "markdown",
   "id": "2ac7db25",
   "metadata": {},
   "source": [
    "## কিভাবে মন্তব্য করবেন?"
   ]
  },
  {
   "cell_type": "code",
   "execution_count": 9,
   "id": "717124b5",
   "metadata": {},
   "outputs": [],
   "source": [
    "#  এক লাইনে মন্তব্য\n",
    "#=\n",
    "\n",
    "একাধিক লাইন মন্তব্য\n",
    "একাধিক লাইন মন্তব্য\n",
    "\n",
    "=#"
   ]
  },
  {
   "cell_type": "markdown",
   "id": "09bfaa8e",
   "metadata": {},
   "source": [
    "### অঙ্কের জন্য জুলিয়া সিনট্যাক্স"
   ]
  },
  {
   "cell_type": "markdown",
   "id": "58bda959",
   "metadata": {},
   "source": [
    "গণিতের জন্য জুলিয়ার সিনট্যাক্স সাধারণত খুব স্বজ্ঞাত এবং শেখা সহজ। এটি কিছু ছোটখাটো পার্থক্য সহ স্ট্যান্ডার্ড গাণিতিক স্বরলিপির অনেকগুলি নিয়ম অনুসরণ করে। উদাহরণস্বরূপ, জুলিয়া যথাক্রমে যোগ, বিয়োগ, গুণ, ভাগ এবং সূচকের জন্য `+`, `-`, `*`, `/`, এবং `^` অপারেটর ব্যবহার করে। এটি ত্রিকোণমিতিক এবং সূচকীয় ফাংশনের জন্য স্ট্যান্ডার্ড গাণিতিক ফাংশন যেমন `sin()`, `cos()`, এবং `exp()` ব্যবহার করে।"
   ]
  },
  {
   "cell_type": "code",
   "execution_count": 10,
   "id": "9550c755",
   "metadata": {},
   "outputs": [
    {
     "data": {
      "text/plain": [
       "7"
      ]
     },
     "execution_count": 10,
     "metadata": {},
     "output_type": "execute_result"
    }
   ],
   "source": [
    "যোগ = 2 + 5"
   ]
  },
  {
   "cell_type": "code",
   "execution_count": 11,
   "id": "4dcfc402",
   "metadata": {},
   "outputs": [
    {
     "data": {
      "text/plain": [
       "7"
      ]
     },
     "execution_count": 11,
     "metadata": {},
     "output_type": "execute_result"
    }
   ],
   "source": [
    "বিয়োগ = 10 - 3"
   ]
  },
  {
   "cell_type": "code",
   "execution_count": 12,
   "id": "d2f4d6d0",
   "metadata": {},
   "outputs": [
    {
     "data": {
      "text/plain": [
       "30"
      ]
     },
     "execution_count": 12,
     "metadata": {},
     "output_type": "execute_result"
    }
   ],
   "source": [
    "গুণ = 10 * 3"
   ]
  },
  {
   "cell_type": "code",
   "execution_count": 13,
   "id": "6a6a652b",
   "metadata": {},
   "outputs": [
    {
     "data": {
      "text/plain": [
       "7.0"
      ]
     },
     "execution_count": 13,
     "metadata": {},
     "output_type": "execute_result"
    }
   ],
   "source": [
    "ভাগ = 70/10"
   ]
  },
  {
   "cell_type": "code",
   "execution_count": 14,
   "id": "dc42c364",
   "metadata": {},
   "outputs": [
    {
     "data": {
      "text/plain": [
       "100"
      ]
     },
     "execution_count": 14,
     "metadata": {},
     "output_type": "execute_result"
    }
   ],
   "source": [
    "পাওয়ার  = 10^2"
   ]
  },
  {
   "cell_type": "code",
   "execution_count": 15,
   "id": "34aecf69",
   "metadata": {},
   "outputs": [
    {
     "data": {
      "text/plain": [
       "1"
      ]
     },
     "execution_count": 15,
     "metadata": {},
     "output_type": "execute_result"
    }
   ],
   "source": [
    "মডিউলো = 101%2"
   ]
  },
  {
   "cell_type": "markdown",
   "id": "6f96bf46",
   "metadata": {},
   "source": [
    "### স্ট্রিং (String)"
   ]
  },
  {
   "cell_type": "markdown",
   "id": "4df66534",
   "metadata": {},
   "source": [
    "স্ট্রিং (String) হল একটি ডেটা টাইপ যা প্রোগ্রামিংয়ে ব্যবহৃত হয়, যা সংখ্যার পরিবর্তে পাঠ্যকে উপস্থাপন করতে ব্যবহৃত হয়।"
   ]
  },
  {
   "cell_type": "markdown",
   "id": "14f05301",
   "metadata": {},
   "source": [
    "**বিষয়**:\n",
    "\n",
    "১) কিভাবে একটি স্ট্রিং পেতে হয়\n",
    "\n",
    "২) স্ট্রিং ইন্টারপোলেশন\n",
    "\n",
    "৩) স্ট্রিং সংযোগ\n",
    "\n",
    "উদ্ধৃত অক্ষর স্ট্রিংগুলির সাথে কাজ করা অনন্য চ্যালেঞ্জ উপস্থাপন করে। উদাহরণস্বরূপ, আপনি কীভাবে একটি স্ট্রিংয়ের ভিতরে উদ্ধৃতি চিহ্নগুলিকে অন্তর্ভুক্ত করবেন এবং কীভাবে আপনার নতুন লাইনের মতো বিশেষ অক্ষরগুলি পরিচালনা করা উচিত? এই কথোপকথনে, আমরা স্ট্রিংগুলি পরিচালনা করার কৌশলগুলি নিয়ে আলোচনা করব।"
   ]
  },
  {
   "cell_type": "markdown",
   "id": "89ae2fbd",
   "metadata": {},
   "source": [
    "### কিভাবে একটি স্ট্রিং পাবেন?"
   ]
  },
  {
   "cell_type": "markdown",
   "id": "4fa3f285",
   "metadata": {},
   "source": [
    "আপনার চরিত্রকে \" \" বা \"\"\" \"\"\" এ আবদ্ধ করুন!"
   ]
  },
  {
   "cell_type": "code",
   "execution_count": 16,
   "id": "f74622ae",
   "metadata": {},
   "outputs": [
    {
     "data": {
      "text/plain": [
       "\"নমস্কার। আমি জুলিয়া।\""
      ]
     },
     "execution_count": 16,
     "metadata": {},
     "output_type": "execute_result"
    }
   ],
   "source": [
    "s1 = \"নমস্কার। আমি জুলিয়া।\""
   ]
  },
  {
   "cell_type": "code",
   "execution_count": 17,
   "id": "f2508c36",
   "metadata": {},
   "outputs": [
    {
     "data": {
      "text/plain": [
       "\"নমস্কার। আমি জুলিয়া।\""
      ]
     },
     "execution_count": 17,
     "metadata": {},
     "output_type": "execute_result"
    }
   ],
   "source": [
    "s2 = \"\"\"নমস্কার। আমি জুলিয়া।\"\"\""
   ]
  },
  {
   "cell_type": "markdown",
   "id": "641eaebe",
   "metadata": {},
   "source": [
    "**দ্রষ্টব্য**: একক এবং ট্রিপল উদ্ধৃতিতে আবদ্ধ স্ট্রিংগুলির মধ্যে কয়েকটি কার্যকরী পার্থক্য রয়েছে।\n",
    "\n",
    "একটি পার্থক্য হল যে পরবর্তী ক্ষেত্রে, আপনি আপনার স্ট্রিং এর মধ্যে উদ্ধৃতি চিহ্ন ব্যবহার করতে পারেন।"
   ]
  },
  {
   "cell_type": "code",
   "execution_count": 18,
   "id": "1318be36",
   "metadata": {},
   "outputs": [
    {
     "ename": "LoadError",
     "evalue": "syntax: cannot juxtapose string literal",
     "output_type": "error",
     "traceback": [
      "syntax: cannot juxtapose string literal",
      "",
      "Stacktrace:",
      " [1] top-level scope",
      "   @ In[18]:1"
     ]
    }
   ],
   "source": [
    "\"এখানে, আমরা একটি \"ত্রুটি\" পাই কারণ এটি অস্পষ্ট যেখানে স্ট্রিংটি আসলে শেষ হয়।\""
   ]
  },
  {
   "cell_type": "markdown",
   "id": "e8978cf4",
   "metadata": {},
   "source": [
    "একটি স্ট্রিং এর মধ্যে দ্বিগুণ উদ্ধৃতি চিহ্ন সহ বাইরে 3 সেট উদ্ধৃতি সহ একটি স্ট্রিং ঘোষণা করুন।"
   ]
  },
  {
   "cell_type": "code",
   "execution_count": 19,
   "id": "52a37d18",
   "metadata": {},
   "outputs": [
    {
     "data": {
      "text/plain": [
       "\" দেখুন জুলিয়া, কোন \\\"ত্রুটি\\\" নেই !!!\""
      ]
     },
     "execution_count": 19,
     "metadata": {},
     "output_type": "execute_result"
    }
   ],
   "source": [
    "\"\"\" দেখুন জুলিয়া, কোন \"ত্রুটি\" নেই !!!\"\"\""
   ]
  },
  {
   "cell_type": "code",
   "execution_count": 20,
   "id": "df725353",
   "metadata": {},
   "outputs": [
    {
     "ename": "LoadError",
     "evalue": "syntax: cannot juxtapose string literal",
     "output_type": "error",
     "traceback": [
      "syntax: cannot juxtapose string literal",
      "",
      "Stacktrace:",
      " [1] top-level scope",
      "   @ In[20]:1"
     ]
    }
   ],
   "source": [
    "\"এখানে একটি \"ত্রুটি\" আছে। আপনি কি দেখতে পাচ্ছেন?\""
   ]
  },
  {
   "cell_type": "code",
   "execution_count": 21,
   "id": "e860ece9",
   "metadata": {},
   "outputs": [
    {
     "name": "stdout",
     "output_type": "stream",
     "text": [
      "এখানে কোন \"ত্রুটি\" নেই। আপনি কি দেখতে পাচ্ছেন?\n"
     ]
    }
   ],
   "source": [
    "println(\"\"\"এখানে কোন \"ত্রুটি\" নেই। আপনি কি দেখতে পাচ্ছেন?\"\"\")"
   ]
  },
  {
   "cell_type": "markdown",
   "id": "058009d1",
   "metadata": {},
   "source": [
    "মনে রাখবেন যে ' ' একটি অক্ষর সংজ্ঞায়িত করুন কিন্তু একটি স্ট্রিং নয়।"
   ]
  },
  {
   "cell_type": "code",
   "execution_count": 22,
   "id": "28ecafe8",
   "metadata": {},
   "outputs": [
    {
     "data": {
      "text/plain": [
       "Char"
      ]
     },
     "execution_count": 22,
     "metadata": {},
     "output_type": "execute_result"
    }
   ],
   "source": [
    "typeof('ক')"
   ]
  },
  {
   "cell_type": "markdown",
   "id": "72f877a7",
   "metadata": {},
   "source": [
    "Single '' should not be used to create a string of multiple character"
   ]
  },
  {
   "cell_type": "code",
   "execution_count": 23,
   "id": "811e06f9",
   "metadata": {},
   "outputs": [
    {
     "ename": "LoadError",
     "evalue": "syntax: character literal contains multiple characters",
     "output_type": "error",
     "traceback": [
      "syntax: character literal contains multiple characters",
      "",
      "Stacktrace:",
      " [1] top-level scope",
      "   @ In[23]:1"
     ]
    }
   ],
   "source": [
    "'আমরা এখানে একটি ত্রুটি পাব'"
   ]
  },
  {
   "cell_type": "markdown",
   "id": "089f3bc7",
   "metadata": {},
   "source": [
    "## স্ট্রিং ইন্টারপোলেশন¶"
   ]
  },
  {
   "cell_type": "markdown",
   "id": "001020ce",
   "metadata": {},
   "source": [
    "আমরা $ চিহ্ন ব্যবহার করতে পারি একটি স্ট্রিং-এ বিদ্যমান ভেরিয়েবল সন্নিবেশ করতে এবং একটি স্ট্রিং-এর মধ্যে অভিব্যক্তি মূল্যায়ন করতে।\n",
    "\n",
    "নীচে একটি উদাহরণ দেওয়া হল যাতে কিছু অত্যন্ত সংবেদনশীল তথ্য রয়েছে৷"
   ]
  },
  {
   "cell_type": "code",
   "execution_count": 24,
   "id": "e6b27a1b",
   "metadata": {},
   "outputs": [
    {
     "data": {
      "text/plain": [
       "10"
      ]
     },
     "execution_count": 24,
     "metadata": {},
     "output_type": "execute_result"
    }
   ],
   "source": [
    "বাক্য = \"আমার নাম জুলিয়া।\"\n",
    "নাম = \"জুলিয়া\"\n",
    "হাতের_আঙ্গুল = 10\n",
    "পায়ের_আঙ্গুল = 10"
   ]
  },
  {
   "cell_type": "code",
   "execution_count": 25,
   "id": "c8f4fdcf",
   "metadata": {},
   "outputs": [
    {
     "name": "stdout",
     "output_type": "stream",
     "text": [
      "নমস্কার,জুলিয়া\n",
      "নমস্কার, আমার নাম জুলিয়া ।\n",
      "আমার হাতে 10 টি আঙ্গুল এবং পায়ে আরও 10 টি আঙ্গুল আছে। মোট 20 টি আঙ্গুল আছ।\n"
     ]
    }
   ],
   "source": [
    "println(\"নমস্কার,\", নাম)\n",
    "println(\"নমস্কার, আমার নাম $নাম ।\")\n",
    "println(\"আমার হাতে $হাতের_আঙ্গুল টি আঙ্গুল এবং পায়ে আরও $পায়ের_আঙ্গুল টি আঙ্গুল আছে। মোট $(হাতের_আঙ্গুল+পায়ের_আঙ্গুল) টি আঙ্গুল আছ।\" )"
   ]
  },
  {
   "cell_type": "markdown",
   "id": "f1d2fa11",
   "metadata": {},
   "source": [
    "## স্ট্রিং সংযোগ¶ (String concatenation¶)"
   ]
  },
  {
   "cell_type": "markdown",
   "id": "67cf679e",
   "metadata": {},
   "source": [
    "নীচে স্ট্রিংগুলিকে সংযুক্ত করার তিনটি ভিন্ন উপায় রয়েছে!\n",
    "\n",
    "`string()` ফাংশন ব্যবহার করার প্রথম উপায়।\n",
    "\n",
    "`string()` ফাংশন নন-স্ট্রিং ইনপুটকে স্ট্রিং-এ রূপান্তর করবে।"
   ]
  },
  {
   "cell_type": "code",
   "execution_count": 26,
   "id": "a2ac75b3",
   "metadata": {},
   "outputs": [
    {
     "data": {
      "text/plain": [
       "\"কত বই   অনেক বই?\""
      ]
     },
     "execution_count": 26,
     "metadata": {},
     "output_type": "execute_result"
    }
   ],
   "source": [
    "string(\"কত বই  \", \" অনেক বই?\")"
   ]
  },
  {
   "cell_type": "code",
   "execution_count": 27,
   "id": "1a4ae797",
   "metadata": {},
   "outputs": [
    {
     "data": {
      "text/plain": [
       "\"আমি জানি না, কিন্তু 10টি খুবই কম।\""
      ]
     },
     "execution_count": 27,
     "metadata": {},
     "output_type": "execute_result"
    }
   ],
   "source": [
    "string(\"আমি জানি না, কিন্তু \", 10,\"টি খুবই কম।\")"
   ]
  },
  {
   "cell_type": "markdown",
   "id": "b88a01ee",
   "metadata": {},
   "source": [
    "সংযুক্ত করার দ্বিতীয় উপায় হল `*` ফাংশন ব্যবহার করা"
   ]
  },
  {
   "cell_type": "code",
   "execution_count": 28,
   "id": "19cfb774",
   "metadata": {},
   "outputs": [
    {
     "data": {
      "text/plain": [
       "\"কত বই   অনেক বই?\""
      ]
     },
     "execution_count": 28,
     "metadata": {},
     "output_type": "execute_result"
    }
   ],
   "source": [
    "স২ = \"কত বই  \"\n",
    "স৩ = \" অনেক বই?\"\n",
    "স২ * স৩"
   ]
  },
  {
   "cell_type": "code",
   "execution_count": 29,
   "id": "f21b9930",
   "metadata": {},
   "outputs": [
    {
     "data": {
      "text/plain": [
       "\"কত বই   অনেক বই?\""
      ]
     },
     "execution_count": 29,
     "metadata": {},
     "output_type": "execute_result"
    }
   ],
   "source": [
    "\"$স২$স৩\""
   ]
  },
  {
   "cell_type": "code",
   "execution_count": 30,
   "id": "33048762",
   "metadata": {},
   "outputs": [
    {
     "ename": "LoadError",
     "evalue": "MethodError: no method matching +(::String, ::String)\nString concatenation is performed with \u001b[36m*\u001b[39m (See also: https://docs.julialang.org/en/v1/manual/strings/#man-concatenation).\n\n\u001b[0mClosest candidates are:\n\u001b[0m  +(::Any, ::Any, \u001b[91m::Any\u001b[39m, \u001b[91m::Any...\u001b[39m)\n\u001b[0m\u001b[90m   @\u001b[39m \u001b[90mBase\u001b[39m \u001b[90m\u001b[4moperators.jl:578\u001b[24m\u001b[39m\n",
     "output_type": "error",
     "traceback": [
      "MethodError: no method matching +(::String, ::String)\nString concatenation is performed with \u001b[36m*\u001b[39m (See also: https://docs.julialang.org/en/v1/manual/strings/#man-concatenation).\n\n\u001b[0mClosest candidates are:\n\u001b[0m  +(::Any, ::Any, \u001b[91m::Any\u001b[39m, \u001b[91m::Any...\u001b[39m)\n\u001b[0m\u001b[90m   @\u001b[39m \u001b[90mBase\u001b[39m \u001b[90m\u001b[4moperators.jl:578\u001b[24m\u001b[39m\n",
      "",
      "Stacktrace:",
      " [1] top-level scope",
      "   @ In[30]:1"
     ]
    }
   ],
   "source": [
    "স২ + স৩"
   ]
  },
  {
   "cell_type": "markdown",
   "id": "751015c6",
   "metadata": {},
   "source": [
    "## Yahoo Finance থেকে ডেটা ডাউনলোড করুন।"
   ]
  },
  {
   "cell_type": "code",
   "execution_count": 31,
   "id": "a9bdd1e7",
   "metadata": {},
   "outputs": [
    {
     "name": "stderr",
     "output_type": "stream",
     "text": [
      "\u001b[32m\u001b[1m   Resolving\u001b[22m\u001b[39m package versions...\n",
      "\u001b[32m\u001b[1m  No Changes\u001b[22m\u001b[39m to `~/.julia/environments/v1.9/Project.toml`\n",
      "\u001b[32m\u001b[1m  No Changes\u001b[22m\u001b[39m to `~/.julia/environments/v1.9/Manifest.toml`\n"
     ]
    }
   ],
   "source": [
    "using Pkg \n",
    "Pkg.add(\"YFinance\")"
   ]
  },
  {
   "cell_type": "code",
   "execution_count": 32,
   "id": "797b8b01",
   "metadata": {},
   "outputs": [],
   "source": [
    "using YFinance"
   ]
  },
  {
   "cell_type": "code",
   "execution_count": 33,
   "id": "1ca4fe37",
   "metadata": {},
   "outputs": [
    {
     "data": {
      "text/plain": [
       "OrderedCollections.OrderedDict{String, Any} with 8 entries:\n",
       "  \"ticker\"    => \"TCS.NS\"\n",
       "  \"timestamp\" => [DateTime(\"2019-02-21T03:45:00\"), DateTime(\"2019-02-22T03:45:0…\n",
       "  \"open\"      => [1713.67, 1715.87, 1729.56, 1775.65, 1825.77, 1843.67, 1785.54…\n",
       "  \"high\"      => [1736.27, 1727.32, 1781.02, 1830.38, 1857.05, 1853.83, 1794.45…\n",
       "  \"low\"       => [1697.83, 1705.04, 1727.77, 1765.14, 1809.66, 1769.92, 1772.39…\n",
       "  \"close\"     => [1914.2, 1925.65, 1985.15, 2038.7, 2058.1, 1983.45, 1995.4, 19…\n",
       "  \"adjclose\"  => [1713.18, 1723.43, 1776.68, 1824.61, 1841.97, 1775.16, 1785.86…\n",
       "  \"vol\"       => [4.19204e6, 2.03337e6, 2.62668e6, 5.77562e6, 4.23515e6, 7.5664…"
      ]
     },
     "execution_count": 33,
     "metadata": {},
     "output_type": "execute_result"
    }
   ],
   "source": [
    "টিসিএস = get_prices(\"TCS.NS\",interval = \"1d\",range=\"5y\")"
   ]
  },
  {
   "cell_type": "markdown",
   "id": "86639bd0",
   "metadata": {},
   "source": [
    "টিসিএস এর শেষ ভ্যালু।"
   ]
  },
  {
   "cell_type": "code",
   "execution_count": 34,
   "id": "8d88dd74",
   "metadata": {},
   "outputs": [
    {
     "data": {
      "text/plain": [
       "1235-element Vector{Float64}:\n",
       " 1914.199951171875\n",
       " 1925.6500244140625\n",
       " 1985.1500244140625\n",
       " 2038.699951171875\n",
       " 2058.10009765625\n",
       " 1983.449951171875\n",
       " 1995.4000244140625\n",
       " 1988.0999755859375\n",
       " 1999.5999755859375\n",
       " 2013.300048828125\n",
       " 2022.699951171875\n",
       " 2014.800048828125\n",
       " 2012.449951171875\n",
       "    ⋮\n",
       " 4136.0\n",
       " 4083.39990234375\n",
       " 4134.10009765625\n",
       " 4133.7001953125\n",
       " 4120.7001953125\n",
       " 4149.5\n",
       " 4100.10009765625\n",
       " 4103.2001953125\n",
       " 4128.2998046875\n",
       " 4103.7998046875\n",
       " 4030.64990234375\n",
       " 3991.5"
      ]
     },
     "execution_count": 34,
     "metadata": {},
     "output_type": "execute_result"
    }
   ],
   "source": [
    "টিসিএস.vals[6]"
   ]
  },
  {
   "cell_type": "code",
   "execution_count": 35,
   "id": "2ffab6f8",
   "metadata": {},
   "outputs": [
    {
     "data": {
      "image/png": "[encoded data removed]",
      "image/svg+xml": [
       "<?xml version=\"1.0\" encoding=\"utf-8\"?>\n",
       "<svg xmlns=\"http://www.w3.org/2000/svg\" xmlns:xlink=\"http://www.w3.org/1999/xlink\" width=\"600\" height=\"400\" viewBox=\"0 0 2400 1600\">\n",
       "<defs>\n",
       "  <clipPath id=\"clip600\">\n",
       "    <rect x=\"0\" y=\"0\" width=\"2400\" height=\"1600\"/>\n",
       "  </clipPath>\n",
       "</defs>\n",
       "<path clip-path=\"url(#clip600)\" d=\"M0 1600 L2400 1600 L2400 0 L0 0  Z\" fill=\"#ffffff\" fill-rule=\"evenodd\" fill-opacity=\"1\"/>\n",
       "<defs>\n",
       "  <clipPath id=\"clip601\">\n",
       "    <rect x=\"480\" y=\"0\" width=\"1681\" height=\"1600\"/>\n",
       "  </clipPath>\n",
       "</defs>\n",
       "<path clip-path=\"url(#clip600)\" d=\"M265.445 1423.18 L2352.76 1423.18 L2352.76 47.2441 L265.445 47.2441  Z\" fill=\"#ffffff\" fill-rule=\"evenodd\" fill-opacity=\"1\"/>\n",
       "<defs>\n",
       "  <clipPath id=\"clip602\">\n",
       "    <rect x=\"265\" y=\"47\" width=\"2088\" height=\"1377\"/>\n",
       "  </clipPath>\n",
       "</defs>\n",
       "<polyline clip-path=\"url(#clip602)\" style=\"stroke:#000000; stroke-linecap:round; stroke-linejoin:round; stroke-width:2; stroke-opacity:0.1; fill:none\" points=\"269.36,1423.18 269.36,47.2441 \"/>\n",
       "<polyline clip-path=\"url(#clip602)\" style=\"stroke:#000000; stroke-linecap:round; stroke-linejoin:round; stroke-width:2; stroke-opacity:0.1; fill:none\" points=\"662.921,1423.18 662.921,47.2441 \"/>\n",
       "<polyline clip-path=\"url(#clip602)\" style=\"stroke:#000000; stroke-linecap:round; stroke-linejoin:round; stroke-width:2; stroke-opacity:0.1; fill:none\" points=\"1057.56,1423.18 1057.56,47.2441 \"/>\n",
       "<polyline clip-path=\"url(#clip602)\" style=\"stroke:#000000; stroke-linecap:round; stroke-linejoin:round; stroke-width:2; stroke-opacity:0.1; fill:none\" points=\"1451.12,1423.18 1451.12,47.2441 \"/>\n",
       "<polyline clip-path=\"url(#clip602)\" style=\"stroke:#000000; stroke-linecap:round; stroke-linejoin:round; stroke-width:2; stroke-opacity:0.1; fill:none\" points=\"1844.68,1423.18 1844.68,47.2441 \"/>\n",
       "<polyline clip-path=\"url(#clip602)\" style=\"stroke:#000000; stroke-linecap:round; stroke-linejoin:round; stroke-width:2; stroke-opacity:0.1; fill:none\" points=\"2238.24,1423.18 2238.24,47.2441 \"/>\n",
       "<polyline clip-path=\"url(#clip600)\" style=\"stroke:#000000; stroke-linecap:round; stroke-linejoin:round; stroke-width:4; stroke-opacity:1; fill:none\" points=\"265.445,1423.18 2352.76,1423.18 \"/>\n",
       "<polyline clip-path=\"url(#clip600)\" style=\"stroke:#000000; stroke-linecap:round; stroke-linejoin:round; stroke-width:4; stroke-opacity:1; fill:none\" points=\"269.36,1423.18 269.36,1404.28 \"/>\n",
       "<polyline clip-path=\"url(#clip600)\" style=\"stroke:#000000; stroke-linecap:round; stroke-linejoin:round; stroke-width:4; stroke-opacity:1; fill:none\" points=\"662.921,1423.18 662.921,1404.28 \"/>\n",
       "<polyline clip-path=\"url(#clip600)\" style=\"stroke:#000000; stroke-linecap:round; stroke-linejoin:round; stroke-width:4; stroke-opacity:1; fill:none\" points=\"1057.56,1423.18 1057.56,1404.28 \"/>\n",
       "<polyline clip-path=\"url(#clip600)\" style=\"stroke:#000000; stroke-linecap:round; stroke-linejoin:round; stroke-width:4; stroke-opacity:1; fill:none\" points=\"1451.12,1423.18 1451.12,1404.28 \"/>\n",
       "<polyline clip-path=\"url(#clip600)\" style=\"stroke:#000000; stroke-linecap:round; stroke-linejoin:round; stroke-width:4; stroke-opacity:1; fill:none\" points=\"1844.68,1423.18 1844.68,1404.28 \"/>\n",
       "<polyline clip-path=\"url(#clip600)\" style=\"stroke:#000000; stroke-linecap:round; stroke-linejoin:round; stroke-width:4; stroke-opacity:1; fill:none\" points=\"2238.24,1423.18 2238.24,1404.28 \"/>\n",
       "<path clip-path=\"url(#clip600)\" d=\"M141.155 1481.64 L157.474 1481.64 L157.474 1485.58 L135.53 1485.58 L135.53 1481.64 Q138.192 1478.89 142.775 1474.26 Q147.382 1469.61 148.562 1468.27 Q150.808 1465.74 151.687 1464.01 Q152.59 1462.25 152.59 1460.56 Q152.59 1457.8 150.646 1456.07 Q148.725 1454.33 145.623 1454.33 Q143.424 1454.33 140.97 1455.09 Q138.539 1455.86 135.762 1457.41 L135.762 1452.69 Q138.586 1451.55 141.039 1450.97 Q143.493 1450.39 145.53 1450.39 Q150.9 1450.39 154.095 1453.08 Q157.289 1455.77 157.289 1460.26 Q157.289 1462.39 156.479 1464.31 Q155.692 1466.2 153.586 1468.8 Q153.007 1469.47 149.905 1472.69 Q146.803 1475.88 141.155 1481.64 Z\" fill=\"#000000\" fill-rule=\"nonzero\" fill-opacity=\"1\" /><path clip-path=\"url(#clip600)\" d=\"M177.289 1454.1 Q173.678 1454.1 171.849 1457.66 Q170.044 1461.2 170.044 1468.33 Q170.044 1475.44 171.849 1479.01 Q173.678 1482.55 177.289 1482.55 Q180.923 1482.55 182.729 1479.01 Q184.558 1475.44 184.558 1468.33 Q184.558 1461.2 182.729 1457.66 Q180.923 1454.1 177.289 1454.1 M177.289 1450.39 Q183.099 1450.39 186.155 1455 Q189.234 1459.58 189.234 1468.33 Q189.234 1477.06 186.155 1481.67 Q183.099 1486.25 177.289 1486.25 Q171.479 1486.25 168.4 1481.67 Q165.345 1477.06 165.345 1468.33 Q165.345 1459.58 168.4 1455 Q171.479 1450.39 177.289 1450.39 Z\" fill=\"#000000\" fill-rule=\"nonzero\" fill-opacity=\"1\" /><path clip-path=\"url(#clip600)\" d=\"M198.261 1481.64 L205.9 1481.64 L205.9 1455.28 L197.59 1456.95 L197.59 1452.69 L205.854 1451.02 L210.53 1451.02 L210.53 1481.64 L218.169 1481.64 L218.169 1485.58 L198.261 1485.58 L198.261 1481.64 Z\" fill=\"#000000\" fill-rule=\"nonzero\" fill-opacity=\"1\" /><path clip-path=\"url(#clip600)\" d=\"M227.752 1484.86 L227.752 1480.6 Q229.511 1481.44 231.317 1481.88 Q233.122 1482.32 234.858 1482.32 Q239.488 1482.32 241.918 1479.21 Q244.372 1476.09 244.719 1469.75 Q243.377 1471.74 241.317 1472.8 Q239.256 1473.87 236.756 1473.87 Q231.571 1473.87 228.539 1470.74 Q225.53 1467.59 225.53 1462.15 Q225.53 1456.83 228.678 1453.61 Q231.826 1450.39 237.057 1450.39 Q243.053 1450.39 246.201 1455 Q249.372 1459.58 249.372 1468.33 Q249.372 1476.51 245.483 1481.39 Q241.618 1486.25 235.067 1486.25 Q233.307 1486.25 231.502 1485.9 Q229.696 1485.56 227.752 1484.86 M237.057 1470.21 Q240.206 1470.21 242.034 1468.06 Q243.886 1465.9 243.886 1462.15 Q243.886 1458.43 242.034 1456.27 Q240.206 1454.1 237.057 1454.1 Q233.909 1454.1 232.057 1456.27 Q230.229 1458.43 230.229 1462.15 Q230.229 1465.9 232.057 1468.06 Q233.909 1470.21 237.057 1470.21 Z\" fill=\"#000000\" fill-rule=\"nonzero\" fill-opacity=\"1\" /><path clip-path=\"url(#clip600)\" d=\"M255.02 1470.7 L267.497 1470.7 L267.497 1474.49 L255.02 1474.49 L255.02 1470.7 Z\" fill=\"#000000\" fill-rule=\"nonzero\" fill-opacity=\"1\" /><path clip-path=\"url(#clip600)\" d=\"M284.881 1454.1 Q281.27 1454.1 279.441 1457.66 Q277.636 1461.2 277.636 1468.33 Q277.636 1475.44 279.441 1479.01 Q281.27 1482.55 284.881 1482.55 Q288.515 1482.55 290.321 1479.01 Q292.15 1475.44 292.15 1468.33 Q292.15 1461.2 290.321 1457.66 Q288.515 1454.1 284.881 1454.1 M284.881 1450.39 Q290.691 1450.39 293.747 1455 Q296.826 1459.58 296.826 1468.33 Q296.826 1477.06 293.747 1481.67 Q290.691 1486.25 284.881 1486.25 Q279.071 1486.25 275.992 1481.67 Q272.937 1477.06 272.937 1468.33 Q272.937 1459.58 275.992 1455 Q279.071 1450.39 284.881 1450.39 Z\" fill=\"#000000\" fill-rule=\"nonzero\" fill-opacity=\"1\" /><path clip-path=\"url(#clip600)\" d=\"M305.853 1481.64 L313.492 1481.64 L313.492 1455.28 L305.182 1456.95 L305.182 1452.69 L313.446 1451.02 L318.122 1451.02 L318.122 1481.64 L325.761 1481.64 L325.761 1485.58 L305.853 1485.58 L305.853 1481.64 Z\" fill=\"#000000\" fill-rule=\"nonzero\" fill-opacity=\"1\" /><path clip-path=\"url(#clip600)\" d=\"M332.45 1470.7 L344.927 1470.7 L344.927 1474.49 L332.45 1474.49 L332.45 1470.7 Z\" fill=\"#000000\" fill-rule=\"nonzero\" fill-opacity=\"1\" /><path clip-path=\"url(#clip600)\" d=\"M362.311 1454.1 Q358.7 1454.1 356.872 1457.66 Q355.066 1461.2 355.066 1468.33 Q355.066 1475.44 356.872 1479.01 Q358.7 1482.55 362.311 1482.55 Q365.946 1482.55 367.751 1479.01 Q369.58 1475.44 369.58 1468.33 Q369.58 1461.2 367.751 1457.66 Q365.946 1454.1 362.311 1454.1 M362.311 1450.39 Q368.121 1450.39 371.177 1455 Q374.256 1459.58 374.256 1468.33 Q374.256 1477.06 371.177 1481.67 Q368.121 1486.25 362.311 1486.25 Q356.501 1486.25 353.422 1481.67 Q350.367 1477.06 350.367 1468.33 Q350.367 1459.58 353.422 1455 Q356.501 1450.39 362.311 1450.39 Z\" fill=\"#000000\" fill-rule=\"nonzero\" fill-opacity=\"1\" /><path clip-path=\"url(#clip600)\" d=\"M383.283 1481.64 L390.922 1481.64 L390.922 1455.28 L382.612 1456.95 L382.612 1452.69 L390.876 1451.02 L395.552 1451.02 L395.552 1481.64 L403.191 1481.64 L403.191 1485.58 L383.283 1485.58 L383.283 1481.64 Z\" fill=\"#000000\" fill-rule=\"nonzero\" fill-opacity=\"1\" /><path clip-path=\"url(#clip600)\" d=\"M534.716 1481.64 L551.035 1481.64 L551.035 1485.58 L529.091 1485.58 L529.091 1481.64 Q531.753 1478.89 536.336 1474.26 Q540.942 1469.61 542.123 1468.27 Q544.368 1465.74 545.248 1464.01 Q546.151 1462.25 546.151 1460.56 Q546.151 1457.8 544.206 1456.07 Q542.285 1454.33 539.183 1454.33 Q536.984 1454.33 534.53 1455.09 Q532.1 1455.86 529.322 1457.41 L529.322 1452.69 Q532.146 1451.55 534.6 1450.97 Q537.054 1450.39 539.091 1450.39 Q544.461 1450.39 547.655 1453.08 Q550.85 1455.77 550.85 1460.26 Q550.85 1462.39 550.04 1464.31 Q549.253 1466.2 547.146 1468.8 Q546.567 1469.47 543.466 1472.69 Q540.364 1475.88 534.716 1481.64 Z\" fill=\"#000000\" fill-rule=\"nonzero\" fill-opacity=\"1\" /><path clip-path=\"url(#clip600)\" d=\"M570.85 1454.1 Q567.239 1454.1 565.41 1457.66 Q563.604 1461.2 563.604 1468.33 Q563.604 1475.44 565.41 1479.01 Q567.239 1482.55 570.85 1482.55 Q574.484 1482.55 576.289 1479.01 Q578.118 1475.44 578.118 1468.33 Q578.118 1461.2 576.289 1457.66 Q574.484 1454.1 570.85 1454.1 M570.85 1450.39 Q576.66 1450.39 579.715 1455 Q582.794 1459.58 582.794 1468.33 Q582.794 1477.06 579.715 1481.67 Q576.66 1486.25 570.85 1486.25 Q565.04 1486.25 561.961 1481.67 Q558.905 1477.06 558.905 1468.33 Q558.905 1459.58 561.961 1455 Q565.04 1450.39 570.85 1450.39 Z\" fill=\"#000000\" fill-rule=\"nonzero\" fill-opacity=\"1\" /><path clip-path=\"url(#clip600)\" d=\"M595.039 1481.64 L611.359 1481.64 L611.359 1485.58 L589.414 1485.58 L589.414 1481.64 Q592.076 1478.89 596.66 1474.26 Q601.266 1469.61 602.447 1468.27 Q604.692 1465.74 605.572 1464.01 Q606.474 1462.25 606.474 1460.56 Q606.474 1457.8 604.53 1456.07 Q602.609 1454.33 599.507 1454.33 Q597.308 1454.33 594.854 1455.09 Q592.424 1455.86 589.646 1457.41 L589.646 1452.69 Q592.47 1451.55 594.924 1450.97 Q597.377 1450.39 599.414 1450.39 Q604.785 1450.39 607.979 1453.08 Q611.174 1455.77 611.174 1460.26 Q611.174 1462.39 610.363 1464.31 Q609.576 1466.2 607.47 1468.8 Q606.891 1469.47 603.789 1472.69 Q600.687 1475.88 595.039 1481.64 Z\" fill=\"#000000\" fill-rule=\"nonzero\" fill-opacity=\"1\" /><path clip-path=\"url(#clip600)\" d=\"M631.173 1454.1 Q627.562 1454.1 625.734 1457.66 Q623.928 1461.2 623.928 1468.33 Q623.928 1475.44 625.734 1479.01 Q627.562 1482.55 631.173 1482.55 Q634.808 1482.55 636.613 1479.01 Q638.442 1475.44 638.442 1468.33 Q638.442 1461.2 636.613 1457.66 Q634.808 1454.1 631.173 1454.1 M631.173 1450.39 Q636.984 1450.39 640.039 1455 Q643.118 1459.58 643.118 1468.33 Q643.118 1477.06 640.039 1481.67 Q636.984 1486.25 631.173 1486.25 Q625.363 1486.25 622.285 1481.67 Q619.229 1477.06 619.229 1468.33 Q619.229 1459.58 622.285 1455 Q625.363 1450.39 631.173 1450.39 Z\" fill=\"#000000\" fill-rule=\"nonzero\" fill-opacity=\"1\" /><path clip-path=\"url(#clip600)\" d=\"M648.581 1470.7 L661.058 1470.7 L661.058 1474.49 L648.581 1474.49 L648.581 1470.7 Z\" fill=\"#000000\" fill-rule=\"nonzero\" fill-opacity=\"1\" /><path clip-path=\"url(#clip600)\" d=\"M678.442 1454.1 Q674.831 1454.1 673.002 1457.66 Q671.196 1461.2 671.196 1468.33 Q671.196 1475.44 673.002 1479.01 Q674.831 1482.55 678.442 1482.55 Q682.076 1482.55 683.881 1479.01 Q685.71 1475.44 685.71 1468.33 Q685.71 1461.2 683.881 1457.66 Q682.076 1454.1 678.442 1454.1 M678.442 1450.39 Q684.252 1450.39 687.307 1455 Q690.386 1459.58 690.386 1468.33 Q690.386 1477.06 687.307 1481.67 Q684.252 1486.25 678.442 1486.25 Q672.632 1486.25 669.553 1481.67 Q666.497 1477.06 666.497 1468.33 Q666.497 1459.58 669.553 1455 Q672.632 1450.39 678.442 1450.39 Z\" fill=\"#000000\" fill-rule=\"nonzero\" fill-opacity=\"1\" /><path clip-path=\"url(#clip600)\" d=\"M699.414 1481.64 L707.053 1481.64 L707.053 1455.28 L698.743 1456.95 L698.743 1452.69 L707.006 1451.02 L711.682 1451.02 L711.682 1481.64 L719.321 1481.64 L719.321 1485.58 L699.414 1485.58 L699.414 1481.64 Z\" fill=\"#000000\" fill-rule=\"nonzero\" fill-opacity=\"1\" /><path clip-path=\"url(#clip600)\" d=\"M726.011 1470.7 L738.488 1470.7 L738.488 1474.49 L726.011 1474.49 L726.011 1470.7 Z\" fill=\"#000000\" fill-rule=\"nonzero\" fill-opacity=\"1\" /><path clip-path=\"url(#clip600)\" d=\"M755.872 1454.1 Q752.261 1454.1 750.432 1457.66 Q748.626 1461.2 748.626 1468.33 Q748.626 1475.44 750.432 1479.01 Q752.261 1482.55 755.872 1482.55 Q759.506 1482.55 761.312 1479.01 Q763.14 1475.44 763.14 1468.33 Q763.14 1461.2 761.312 1457.66 Q759.506 1454.1 755.872 1454.1 M755.872 1450.39 Q761.682 1450.39 764.738 1455 Q767.816 1459.58 767.816 1468.33 Q767.816 1477.06 764.738 1481.67 Q761.682 1486.25 755.872 1486.25 Q750.062 1486.25 746.983 1481.67 Q743.927 1477.06 743.927 1468.33 Q743.927 1459.58 746.983 1455 Q750.062 1450.39 755.872 1450.39 Z\" fill=\"#000000\" fill-rule=\"nonzero\" fill-opacity=\"1\" /><path clip-path=\"url(#clip600)\" d=\"M776.844 1481.64 L784.483 1481.64 L784.483 1455.28 L776.173 1456.95 L776.173 1452.69 L784.436 1451.02 L789.112 1451.02 L789.112 1481.64 L796.751 1481.64 L796.751 1485.58 L776.844 1485.58 L776.844 1481.64 Z\" fill=\"#000000\" fill-rule=\"nonzero\" fill-opacity=\"1\" /><path clip-path=\"url(#clip600)\" d=\"M929.354 1481.64 L945.674 1481.64 L945.674 1485.58 L923.729 1485.58 L923.729 1481.64 Q926.391 1478.89 930.975 1474.26 Q935.581 1469.61 936.762 1468.27 Q939.007 1465.74 939.887 1464.01 Q940.789 1462.25 940.789 1460.56 Q940.789 1457.8 938.845 1456.07 Q936.924 1454.33 933.822 1454.33 Q931.623 1454.33 929.169 1455.09 Q926.739 1455.86 923.961 1457.41 L923.961 1452.69 Q926.785 1451.55 929.239 1450.97 Q931.692 1450.39 933.729 1450.39 Q939.1 1450.39 942.294 1453.08 Q945.489 1455.77 945.489 1460.26 Q945.489 1462.39 944.678 1464.31 Q943.891 1466.2 941.785 1468.8 Q941.206 1469.47 938.104 1472.69 Q935.002 1475.88 929.354 1481.64 Z\" fill=\"#000000\" fill-rule=\"nonzero\" fill-opacity=\"1\" /><path clip-path=\"url(#clip600)\" d=\"M965.488 1454.1 Q961.877 1454.1 960.049 1457.66 Q958.243 1461.2 958.243 1468.33 Q958.243 1475.44 960.049 1479.01 Q961.877 1482.55 965.488 1482.55 Q969.123 1482.55 970.928 1479.01 Q972.757 1475.44 972.757 1468.33 Q972.757 1461.2 970.928 1457.66 Q969.123 1454.1 965.488 1454.1 M965.488 1450.39 Q971.299 1450.39 974.354 1455 Q977.433 1459.58 977.433 1468.33 Q977.433 1477.06 974.354 1481.67 Q971.299 1486.25 965.488 1486.25 Q959.678 1486.25 956.6 1481.67 Q953.544 1477.06 953.544 1468.33 Q953.544 1459.58 956.6 1455 Q959.678 1450.39 965.488 1450.39 Z\" fill=\"#000000\" fill-rule=\"nonzero\" fill-opacity=\"1\" /><path clip-path=\"url(#clip600)\" d=\"M989.678 1481.64 L1006 1481.64 L1006 1485.58 L984.053 1485.58 L984.053 1481.64 Q986.715 1478.89 991.298 1474.26 Q995.905 1469.61 997.085 1468.27 Q999.331 1465.74 1000.21 1464.01 Q1001.11 1462.25 1001.11 1460.56 Q1001.11 1457.8 999.169 1456.07 Q997.248 1454.33 994.146 1454.33 Q991.947 1454.33 989.493 1455.09 Q987.062 1455.86 984.285 1457.41 L984.285 1452.69 Q987.109 1451.55 989.562 1450.97 Q992.016 1450.39 994.053 1450.39 Q999.423 1450.39 1002.62 1453.08 Q1005.81 1455.77 1005.81 1460.26 Q1005.81 1462.39 1005 1464.31 Q1004.22 1466.2 1002.11 1468.8 Q1001.53 1469.47 998.428 1472.69 Q995.326 1475.88 989.678 1481.64 Z\" fill=\"#000000\" fill-rule=\"nonzero\" fill-opacity=\"1\" /><path clip-path=\"url(#clip600)\" d=\"M1016.62 1481.64 L1024.26 1481.64 L1024.26 1455.28 L1015.95 1456.95 L1015.95 1452.69 L1024.21 1451.02 L1028.89 1451.02 L1028.89 1481.64 L1036.53 1481.64 L1036.53 1485.58 L1016.62 1485.58 L1016.62 1481.64 Z\" fill=\"#000000\" fill-rule=\"nonzero\" fill-opacity=\"1\" /><path clip-path=\"url(#clip600)\" d=\"M1043.22 1470.7 L1055.7 1470.7 L1055.7 1474.49 L1043.22 1474.49 L1043.22 1470.7 Z\" fill=\"#000000\" fill-rule=\"nonzero\" fill-opacity=\"1\" /><path clip-path=\"url(#clip600)\" d=\"M1073.08 1454.1 Q1069.47 1454.1 1067.64 1457.66 Q1065.84 1461.2 1065.84 1468.33 Q1065.84 1475.44 1067.64 1479.01 Q1069.47 1482.55 1073.08 1482.55 Q1076.71 1482.55 1078.52 1479.01 Q1080.35 1475.44 1080.35 1468.33 Q1080.35 1461.2 1078.52 1457.66 Q1076.71 1454.1 1073.08 1454.1 M1073.08 1450.39 Q1078.89 1450.39 1081.95 1455 Q1085.02 1459.58 1085.02 1468.33 Q1085.02 1477.06 1081.95 1481.67 Q1078.89 1486.25 1073.08 1486.25 Q1067.27 1486.25 1064.19 1481.67 Q1061.14 1477.06 1061.14 1468.33 Q1061.14 1459.58 1064.19 1455 Q1067.27 1450.39 1073.08 1450.39 Z\" fill=\"#000000\" fill-rule=\"nonzero\" fill-opacity=\"1\" /><path clip-path=\"url(#clip600)\" d=\"M1094.05 1481.64 L1101.69 1481.64 L1101.69 1455.28 L1093.38 1456.95 L1093.38 1452.69 L1101.65 1451.02 L1106.32 1451.02 L1106.32 1481.64 L1113.96 1481.64 L1113.96 1485.58 L1094.05 1485.58 L1094.05 1481.64 Z\" fill=\"#000000\" fill-rule=\"nonzero\" fill-opacity=\"1\" /><path clip-path=\"url(#clip600)\" d=\"M1120.65 1470.7 L1133.13 1470.7 L1133.13 1474.49 L1120.65 1474.49 L1120.65 1470.7 Z\" fill=\"#000000\" fill-rule=\"nonzero\" fill-opacity=\"1\" /><path clip-path=\"url(#clip600)\" d=\"M1150.51 1454.1 Q1146.9 1454.1 1145.07 1457.66 Q1143.27 1461.2 1143.27 1468.33 Q1143.27 1475.44 1145.07 1479.01 Q1146.9 1482.55 1150.51 1482.55 Q1154.14 1482.55 1155.95 1479.01 Q1157.78 1475.44 1157.78 1468.33 Q1157.78 1461.2 1155.95 1457.66 Q1154.14 1454.1 1150.51 1454.1 M1150.51 1450.39 Q1156.32 1450.39 1159.38 1455 Q1162.45 1459.58 1162.45 1468.33 Q1162.45 1477.06 1159.38 1481.67 Q1156.32 1486.25 1150.51 1486.25 Q1144.7 1486.25 1141.62 1481.67 Q1138.57 1477.06 1138.57 1468.33 Q1138.57 1459.58 1141.62 1455 Q1144.7 1450.39 1150.51 1450.39 Z\" fill=\"#000000\" fill-rule=\"nonzero\" fill-opacity=\"1\" /><path clip-path=\"url(#clip600)\" d=\"M1171.48 1481.64 L1179.12 1481.64 L1179.12 1455.28 L1170.81 1456.95 L1170.81 1452.69 L1179.08 1451.02 L1183.75 1451.02 L1183.75 1481.64 L1191.39 1481.64 L1191.39 1485.58 L1171.48 1485.58 L1171.48 1481.64 Z\" fill=\"#000000\" fill-rule=\"nonzero\" fill-opacity=\"1\" /><path clip-path=\"url(#clip600)\" d=\"M1322.91 1481.64 L1339.23 1481.64 L1339.23 1485.58 L1317.29 1485.58 L1317.29 1481.64 Q1319.95 1478.89 1324.54 1474.26 Q1329.14 1469.61 1330.32 1468.27 Q1332.57 1465.74 1333.45 1464.01 Q1334.35 1462.25 1334.35 1460.56 Q1334.35 1457.8 1332.41 1456.07 Q1330.48 1454.33 1327.38 1454.33 Q1325.18 1454.33 1322.73 1455.09 Q1320.3 1455.86 1317.52 1457.41 L1317.52 1452.69 Q1320.35 1451.55 1322.8 1450.97 Q1325.25 1450.39 1327.29 1450.39 Q1332.66 1450.39 1335.85 1453.08 Q1339.05 1455.77 1339.05 1460.26 Q1339.05 1462.39 1338.24 1464.31 Q1337.45 1466.2 1335.35 1468.8 Q1334.77 1469.47 1331.66 1472.69 Q1328.56 1475.88 1322.91 1481.64 Z\" fill=\"#000000\" fill-rule=\"nonzero\" fill-opacity=\"1\" /><path clip-path=\"url(#clip600)\" d=\"M1359.05 1454.1 Q1355.44 1454.1 1353.61 1457.66 Q1351.8 1461.2 1351.8 1468.33 Q1351.8 1475.44 1353.61 1479.01 Q1355.44 1482.55 1359.05 1482.55 Q1362.68 1482.55 1364.49 1479.01 Q1366.32 1475.44 1366.32 1468.33 Q1366.32 1461.2 1364.49 1457.66 Q1362.68 1454.1 1359.05 1454.1 M1359.05 1450.39 Q1364.86 1450.39 1367.91 1455 Q1370.99 1459.58 1370.99 1468.33 Q1370.99 1477.06 1367.91 1481.67 Q1364.86 1486.25 1359.05 1486.25 Q1353.24 1486.25 1350.16 1481.67 Q1347.1 1477.06 1347.1 1468.33 Q1347.1 1459.58 1350.16 1455 Q1353.24 1450.39 1359.05 1450.39 Z\" fill=\"#000000\" fill-rule=\"nonzero\" fill-opacity=\"1\" /><path clip-path=\"url(#clip600)\" d=\"M1383.24 1481.64 L1399.56 1481.64 L1399.56 1485.58 L1377.61 1485.58 L1377.61 1481.64 Q1380.28 1478.89 1384.86 1474.26 Q1389.47 1469.61 1390.65 1468.27 Q1392.89 1465.74 1393.77 1464.01 Q1394.67 1462.25 1394.67 1460.56 Q1394.67 1457.8 1392.73 1456.07 Q1390.81 1454.33 1387.71 1454.33 Q1385.51 1454.33 1383.05 1455.09 Q1380.62 1455.86 1377.85 1457.41 L1377.85 1452.69 Q1380.67 1451.55 1383.12 1450.97 Q1385.58 1450.39 1387.61 1450.39 Q1392.98 1450.39 1396.18 1453.08 Q1399.37 1455.77 1399.37 1460.26 Q1399.37 1462.39 1398.56 1464.31 Q1397.78 1466.2 1395.67 1468.8 Q1395.09 1469.47 1391.99 1472.69 Q1388.89 1475.88 1383.24 1481.64 Z\" fill=\"#000000\" fill-rule=\"nonzero\" fill-opacity=\"1\" /><path clip-path=\"url(#clip600)\" d=\"M1413.4 1481.64 L1429.72 1481.64 L1429.72 1485.58 L1407.78 1485.58 L1407.78 1481.64 Q1410.44 1478.89 1415.02 1474.26 Q1419.63 1469.61 1420.81 1468.27 Q1423.05 1465.74 1423.93 1464.01 Q1424.84 1462.25 1424.84 1460.56 Q1424.84 1457.8 1422.89 1456.07 Q1420.97 1454.33 1417.87 1454.33 Q1415.67 1454.33 1413.22 1455.09 Q1410.78 1455.86 1408.01 1457.41 L1408.01 1452.69 Q1410.83 1451.55 1413.28 1450.97 Q1415.74 1450.39 1417.78 1450.39 Q1423.15 1450.39 1426.34 1453.08 Q1429.53 1455.77 1429.53 1460.26 Q1429.53 1462.39 1428.72 1464.31 Q1427.94 1466.2 1425.83 1468.8 Q1425.25 1469.47 1422.15 1472.69 Q1419.05 1475.88 1413.4 1481.64 Z\" fill=\"#000000\" fill-rule=\"nonzero\" fill-opacity=\"1\" /><path clip-path=\"url(#clip600)\" d=\"M1436.78 1470.7 L1449.26 1470.7 L1449.26 1474.49 L1436.78 1474.49 L1436.78 1470.7 Z\" fill=\"#000000\" fill-rule=\"nonzero\" fill-opacity=\"1\" /><path clip-path=\"url(#clip600)\" d=\"M1466.64 1454.1 Q1463.03 1454.1 1461.2 1457.66 Q1459.4 1461.2 1459.4 1468.33 Q1459.4 1475.44 1461.2 1479.01 Q1463.03 1482.55 1466.64 1482.55 Q1470.28 1482.55 1472.08 1479.01 Q1473.91 1475.44 1473.91 1468.33 Q1473.91 1461.2 1472.08 1457.66 Q1470.28 1454.1 1466.64 1454.1 M1466.64 1450.39 Q1472.45 1450.39 1475.51 1455 Q1478.59 1459.58 1478.59 1468.33 Q1478.59 1477.06 1475.51 1481.67 Q1472.45 1486.25 1466.64 1486.25 Q1460.83 1486.25 1457.75 1481.67 Q1454.7 1477.06 1454.7 1468.33 Q1454.7 1459.58 1457.75 1455 Q1460.83 1450.39 1466.64 1450.39 Z\" fill=\"#000000\" fill-rule=\"nonzero\" fill-opacity=\"1\" /><path clip-path=\"url(#clip600)\" d=\"M1487.61 1481.64 L1495.25 1481.64 L1495.25 1455.28 L1486.94 1456.95 L1486.94 1452.69 L1495.21 1451.02 L1499.88 1451.02 L1499.88 1481.64 L1507.52 1481.64 L1507.52 1485.58 L1487.61 1485.58 L1487.61 1481.64 Z\" fill=\"#000000\" fill-rule=\"nonzero\" fill-opacity=\"1\" /><path clip-path=\"url(#clip600)\" d=\"M1514.21 1470.7 L1526.69 1470.7 L1526.69 1474.49 L1514.21 1474.49 L1514.21 1470.7 Z\" fill=\"#000000\" fill-rule=\"nonzero\" fill-opacity=\"1\" /><path clip-path=\"url(#clip600)\" d=\"M1544.07 1454.1 Q1540.46 1454.1 1538.63 1457.66 Q1536.83 1461.2 1536.83 1468.33 Q1536.83 1475.44 1538.63 1479.01 Q1540.46 1482.55 1544.07 1482.55 Q1547.71 1482.55 1549.51 1479.01 Q1551.34 1475.44 1551.34 1468.33 Q1551.34 1461.2 1549.51 1457.66 Q1547.71 1454.1 1544.07 1454.1 M1544.07 1450.39 Q1549.88 1450.39 1552.94 1455 Q1556.02 1459.58 1556.02 1468.33 Q1556.02 1477.06 1552.94 1481.67 Q1549.88 1486.25 1544.07 1486.25 Q1538.26 1486.25 1535.18 1481.67 Q1532.13 1477.06 1532.13 1468.33 Q1532.13 1459.58 1535.18 1455 Q1538.26 1450.39 1544.07 1450.39 Z\" fill=\"#000000\" fill-rule=\"nonzero\" fill-opacity=\"1\" /><path clip-path=\"url(#clip600)\" d=\"M1565.04 1481.64 L1572.68 1481.64 L1572.68 1455.28 L1564.37 1456.95 L1564.37 1452.69 L1572.64 1451.02 L1577.31 1451.02 L1577.31 1481.64 L1584.95 1481.64 L1584.95 1485.58 L1565.04 1485.58 L1565.04 1481.64 Z\" fill=\"#000000\" fill-rule=\"nonzero\" fill-opacity=\"1\" /><path clip-path=\"url(#clip600)\" d=\"M1716.48 1481.64 L1732.79 1481.64 L1732.79 1485.58 L1710.85 1485.58 L1710.85 1481.64 Q1713.51 1478.89 1718.1 1474.26 Q1722.7 1469.61 1723.88 1468.27 Q1726.13 1465.74 1727.01 1464.01 Q1727.91 1462.25 1727.91 1460.56 Q1727.91 1457.8 1725.97 1456.07 Q1724.04 1454.33 1720.94 1454.33 Q1718.74 1454.33 1716.29 1455.09 Q1713.86 1455.86 1711.08 1457.41 L1711.08 1452.69 Q1713.91 1451.55 1716.36 1450.97 Q1718.81 1450.39 1720.85 1450.39 Q1726.22 1450.39 1729.42 1453.08 Q1732.61 1455.77 1732.61 1460.26 Q1732.61 1462.39 1731.8 1464.31 Q1731.01 1466.2 1728.91 1468.8 Q1728.33 1469.47 1725.23 1472.69 Q1722.12 1475.88 1716.48 1481.64 Z\" fill=\"#000000\" fill-rule=\"nonzero\" fill-opacity=\"1\" /><path clip-path=\"url(#clip600)\" d=\"M1752.61 1454.1 Q1749 1454.1 1747.17 1457.66 Q1745.36 1461.2 1745.36 1468.33 Q1745.36 1475.44 1747.17 1479.01 Q1749 1482.55 1752.61 1482.55 Q1756.24 1482.55 1758.05 1479.01 Q1759.88 1475.44 1759.88 1468.33 Q1759.88 1461.2 1758.05 1457.66 Q1756.24 1454.1 1752.61 1454.1 M1752.61 1450.39 Q1758.42 1450.39 1761.48 1455 Q1764.55 1459.58 1764.55 1468.33 Q1764.55 1477.06 1761.48 1481.67 Q1758.42 1486.25 1752.61 1486.25 Q1746.8 1486.25 1743.72 1481.67 Q1740.67 1477.06 1740.67 1468.33 Q1740.67 1459.58 1743.72 1455 Q1746.8 1450.39 1752.61 1450.39 Z\" fill=\"#000000\" fill-rule=\"nonzero\" fill-opacity=\"1\" /><path clip-path=\"url(#clip600)\" d=\"M1776.8 1481.64 L1793.12 1481.64 L1793.12 1485.58 L1771.17 1485.58 L1771.17 1481.64 Q1773.84 1478.89 1778.42 1474.26 Q1783.03 1469.61 1784.21 1468.27 Q1786.45 1465.74 1787.33 1464.01 Q1788.23 1462.25 1788.23 1460.56 Q1788.23 1457.8 1786.29 1456.07 Q1784.37 1454.33 1781.27 1454.33 Q1779.07 1454.33 1776.61 1455.09 Q1774.18 1455.86 1771.41 1457.41 L1771.41 1452.69 Q1774.23 1451.55 1776.68 1450.97 Q1779.14 1450.39 1781.17 1450.39 Q1786.54 1450.39 1789.74 1453.08 Q1792.93 1455.77 1792.93 1460.26 Q1792.93 1462.39 1792.12 1464.31 Q1791.34 1466.2 1789.23 1468.8 Q1788.65 1469.47 1785.55 1472.69 Q1782.45 1475.88 1776.8 1481.64 Z\" fill=\"#000000\" fill-rule=\"nonzero\" fill-opacity=\"1\" /><path clip-path=\"url(#clip600)\" d=\"M1817.1 1466.95 Q1820.46 1467.66 1822.33 1469.93 Q1824.23 1472.2 1824.23 1475.53 Q1824.23 1480.65 1820.71 1483.45 Q1817.19 1486.25 1810.71 1486.25 Q1808.54 1486.25 1806.22 1485.81 Q1803.93 1485.39 1801.47 1484.54 L1801.47 1480.02 Q1803.42 1481.16 1805.73 1481.74 Q1808.05 1482.32 1810.57 1482.32 Q1814.97 1482.32 1817.26 1480.58 Q1819.58 1478.84 1819.58 1475.53 Q1819.58 1472.48 1817.42 1470.77 Q1815.29 1469.03 1811.47 1469.03 L1807.45 1469.03 L1807.45 1465.19 L1811.66 1465.19 Q1815.11 1465.19 1816.94 1463.82 Q1818.77 1462.43 1818.77 1459.84 Q1818.77 1457.18 1816.87 1455.77 Q1814.99 1454.33 1811.47 1454.33 Q1809.55 1454.33 1807.35 1454.75 Q1805.16 1455.16 1802.52 1456.04 L1802.52 1451.88 Q1805.18 1451.14 1807.49 1450.77 Q1809.83 1450.39 1811.89 1450.39 Q1817.22 1450.39 1820.32 1452.83 Q1823.42 1455.23 1823.42 1459.35 Q1823.42 1462.22 1821.78 1464.21 Q1820.13 1466.18 1817.1 1466.95 Z\" fill=\"#000000\" fill-rule=\"nonzero\" fill-opacity=\"1\" /><path clip-path=\"url(#clip600)\" d=\"M1830.34 1470.7 L1842.82 1470.7 L1842.82 1474.49 L1830.34 1474.49 L1830.34 1470.7 Z\" fill=\"#000000\" fill-rule=\"nonzero\" fill-opacity=\"1\" /><path clip-path=\"url(#clip600)\" d=\"M1860.2 1454.1 Q1856.59 1454.1 1854.76 1457.66 Q1852.96 1461.2 1852.96 1468.33 Q1852.96 1475.44 1854.76 1479.01 Q1856.59 1482.55 1860.2 1482.55 Q1863.84 1482.55 1865.64 1479.01 Q1867.47 1475.44 1867.47 1468.33 Q1867.47 1461.2 1865.64 1457.66 Q1863.84 1454.1 1860.2 1454.1 M1860.2 1450.39 Q1866.01 1450.39 1869.07 1455 Q1872.15 1459.58 1872.15 1468.33 Q1872.15 1477.06 1869.07 1481.67 Q1866.01 1486.25 1860.2 1486.25 Q1854.39 1486.25 1851.31 1481.67 Q1848.26 1477.06 1848.26 1468.33 Q1848.26 1459.58 1851.31 1455 Q1854.39 1450.39 1860.2 1450.39 Z\" fill=\"#000000\" fill-rule=\"nonzero\" fill-opacity=\"1\" /><path clip-path=\"url(#clip600)\" d=\"M1881.17 1481.64 L1888.81 1481.64 L1888.81 1455.28 L1880.5 1456.95 L1880.5 1452.69 L1888.77 1451.02 L1893.44 1451.02 L1893.44 1481.64 L1901.08 1481.64 L1901.08 1485.58 L1881.17 1485.58 L1881.17 1481.64 Z\" fill=\"#000000\" fill-rule=\"nonzero\" fill-opacity=\"1\" /><path clip-path=\"url(#clip600)\" d=\"M1907.77 1470.7 L1920.25 1470.7 L1920.25 1474.49 L1907.77 1474.49 L1907.77 1470.7 Z\" fill=\"#000000\" fill-rule=\"nonzero\" fill-opacity=\"1\" /><path clip-path=\"url(#clip600)\" d=\"M1937.63 1454.1 Q1934.02 1454.1 1932.19 1457.66 Q1930.39 1461.2 1930.39 1468.33 Q1930.39 1475.44 1932.19 1479.01 Q1934.02 1482.55 1937.63 1482.55 Q1941.27 1482.55 1943.07 1479.01 Q1944.9 1475.44 1944.9 1468.33 Q1944.9 1461.2 1943.07 1457.66 Q1941.27 1454.1 1937.63 1454.1 M1937.63 1450.39 Q1943.44 1450.39 1946.5 1455 Q1949.58 1459.58 1949.58 1468.33 Q1949.58 1477.06 1946.5 1481.67 Q1943.44 1486.25 1937.63 1486.25 Q1931.82 1486.25 1928.74 1481.67 Q1925.69 1477.06 1925.69 1468.33 Q1925.69 1459.58 1928.74 1455 Q1931.82 1450.39 1937.63 1450.39 Z\" fill=\"#000000\" fill-rule=\"nonzero\" fill-opacity=\"1\" /><path clip-path=\"url(#clip600)\" d=\"M1958.6 1481.64 L1966.24 1481.64 L1966.24 1455.28 L1957.93 1456.95 L1957.93 1452.69 L1966.2 1451.02 L1970.87 1451.02 L1970.87 1481.64 L1978.51 1481.64 L1978.51 1485.58 L1958.6 1485.58 L1958.6 1481.64 Z\" fill=\"#000000\" fill-rule=\"nonzero\" fill-opacity=\"1\" /><path clip-path=\"url(#clip600)\" d=\"M2110.04 1481.64 L2126.36 1481.64 L2126.36 1485.58 L2104.41 1485.58 L2104.41 1481.64 Q2107.07 1478.89 2111.66 1474.26 Q2116.26 1469.61 2117.44 1468.27 Q2119.69 1465.74 2120.57 1464.01 Q2121.47 1462.25 2121.47 1460.56 Q2121.47 1457.8 2119.53 1456.07 Q2117.61 1454.33 2114.5 1454.33 Q2112.3 1454.33 2109.85 1455.09 Q2107.42 1455.86 2104.64 1457.41 L2104.64 1452.69 Q2107.47 1451.55 2109.92 1450.97 Q2112.37 1450.39 2114.41 1450.39 Q2119.78 1450.39 2122.98 1453.08 Q2126.17 1455.77 2126.17 1460.26 Q2126.17 1462.39 2125.36 1464.31 Q2124.57 1466.2 2122.47 1468.8 Q2121.89 1469.47 2118.79 1472.69 Q2115.68 1475.88 2110.04 1481.64 Z\" fill=\"#000000\" fill-rule=\"nonzero\" fill-opacity=\"1\" /><path clip-path=\"url(#clip600)\" d=\"M2146.17 1454.1 Q2142.56 1454.1 2140.73 1457.66 Q2138.92 1461.2 2138.92 1468.33 Q2138.92 1475.44 2140.73 1479.01 Q2142.56 1482.55 2146.17 1482.55 Q2149.8 1482.55 2151.61 1479.01 Q2153.44 1475.44 2153.44 1468.33 Q2153.44 1461.2 2151.61 1457.66 Q2149.8 1454.1 2146.17 1454.1 M2146.17 1450.39 Q2151.98 1450.39 2155.04 1455 Q2158.11 1459.58 2158.11 1468.33 Q2158.11 1477.06 2155.04 1481.67 Q2151.98 1486.25 2146.17 1486.25 Q2140.36 1486.25 2137.28 1481.67 Q2134.23 1477.06 2134.23 1468.33 Q2134.23 1459.58 2137.28 1455 Q2140.36 1450.39 2146.17 1450.39 Z\" fill=\"#000000\" fill-rule=\"nonzero\" fill-opacity=\"1\" /><path clip-path=\"url(#clip600)\" d=\"M2170.36 1481.64 L2186.68 1481.64 L2186.68 1485.58 L2164.73 1485.58 L2164.73 1481.64 Q2167.4 1478.89 2171.98 1474.26 Q2176.59 1469.61 2177.77 1468.27 Q2180.01 1465.74 2180.89 1464.01 Q2181.79 1462.25 2181.79 1460.56 Q2181.79 1457.8 2179.85 1456.07 Q2177.93 1454.33 2174.83 1454.33 Q2172.63 1454.33 2170.17 1455.09 Q2167.74 1455.86 2164.97 1457.41 L2164.97 1452.69 Q2167.79 1451.55 2170.24 1450.97 Q2172.7 1450.39 2174.73 1450.39 Q2180.1 1450.39 2183.3 1453.08 Q2186.49 1455.77 2186.49 1460.26 Q2186.49 1462.39 2185.68 1464.31 Q2184.9 1466.2 2182.79 1468.8 Q2182.21 1469.47 2179.11 1472.69 Q2176.01 1475.88 2170.36 1481.64 Z\" fill=\"#000000\" fill-rule=\"nonzero\" fill-opacity=\"1\" /><path clip-path=\"url(#clip600)\" d=\"M2209.34 1455.09 L2197.54 1473.54 L2209.34 1473.54 L2209.34 1455.09 M2208.11 1451.02 L2213.99 1451.02 L2213.99 1473.54 L2218.92 1473.54 L2218.92 1477.43 L2213.99 1477.43 L2213.99 1485.58 L2209.34 1485.58 L2209.34 1477.43 L2193.74 1477.43 L2193.74 1472.92 L2208.11 1451.02 Z\" fill=\"#000000\" fill-rule=\"nonzero\" fill-opacity=\"1\" /><path clip-path=\"url(#clip600)\" d=\"M2223.9 1470.7 L2236.38 1470.7 L2236.38 1474.49 L2223.9 1474.49 L2223.9 1470.7 Z\" fill=\"#000000\" fill-rule=\"nonzero\" fill-opacity=\"1\" /><path clip-path=\"url(#clip600)\" d=\"M2253.76 1454.1 Q2250.15 1454.1 2248.32 1457.66 Q2246.52 1461.2 2246.52 1468.33 Q2246.52 1475.44 2248.32 1479.01 Q2250.15 1482.55 2253.76 1482.55 Q2257.4 1482.55 2259.2 1479.01 Q2261.03 1475.44 2261.03 1468.33 Q2261.03 1461.2 2259.2 1457.66 Q2257.4 1454.1 2253.76 1454.1 M2253.76 1450.39 Q2259.57 1450.39 2262.63 1455 Q2265.71 1459.58 2265.71 1468.33 Q2265.71 1477.06 2262.63 1481.67 Q2259.57 1486.25 2253.76 1486.25 Q2247.95 1486.25 2244.87 1481.67 Q2241.82 1477.06 2241.82 1468.33 Q2241.82 1459.58 2244.87 1455 Q2247.95 1450.39 2253.76 1450.39 Z\" fill=\"#000000\" fill-rule=\"nonzero\" fill-opacity=\"1\" /><path clip-path=\"url(#clip600)\" d=\"M2274.73 1481.64 L2282.37 1481.64 L2282.37 1455.28 L2274.06 1456.95 L2274.06 1452.69 L2282.33 1451.02 L2287 1451.02 L2287 1481.64 L2294.64 1481.64 L2294.64 1485.58 L2274.73 1485.58 L2274.73 1481.64 Z\" fill=\"#000000\" fill-rule=\"nonzero\" fill-opacity=\"1\" /><path clip-path=\"url(#clip600)\" d=\"M2301.33 1470.7 L2313.81 1470.7 L2313.81 1474.49 L2301.33 1474.49 L2301.33 1470.7 Z\" fill=\"#000000\" fill-rule=\"nonzero\" fill-opacity=\"1\" /><path clip-path=\"url(#clip600)\" d=\"M2331.19 1454.1 Q2327.58 1454.1 2325.75 1457.66 Q2323.95 1461.2 2323.95 1468.33 Q2323.95 1475.44 2325.75 1479.01 Q2327.58 1482.55 2331.19 1482.55 Q2334.83 1482.55 2336.63 1479.01 Q2338.46 1475.44 2338.46 1468.33 Q2338.46 1461.2 2336.63 1457.66 Q2334.83 1454.1 2331.19 1454.1 M2331.19 1450.39 Q2337 1450.39 2340.06 1455 Q2343.14 1459.58 2343.14 1468.33 Q2343.14 1477.06 2340.06 1481.67 Q2337 1486.25 2331.19 1486.25 Q2325.38 1486.25 2322.3 1481.67 Q2319.25 1477.06 2319.25 1468.33 Q2319.25 1459.58 2322.3 1455 Q2325.38 1450.39 2331.19 1450.39 Z\" fill=\"#000000\" fill-rule=\"nonzero\" fill-opacity=\"1\" /><path clip-path=\"url(#clip600)\" d=\"M2352.16 1481.64 L2359.8 1481.64 L2359.8 1455.28 L2351.49 1456.95 L2351.49 1452.69 L2359.76 1451.02 L2364.43 1451.02 L2364.43 1481.64 L2372.07 1481.64 L2372.07 1485.58 L2352.16 1485.58 L2352.16 1481.64 Z\" fill=\"#000000\" fill-rule=\"nonzero\" fill-opacity=\"1\" /><path clip-path=\"url(#clip600)\" d=\"M1248.26 1522.27 L1248.26 1532.4 L1260.32 1532.4 L1260.32 1536.95 L1248.26 1536.95 L1248.26 1556.3 Q1248.26 1560.66 1249.44 1561.9 Q1250.65 1563.14 1254.31 1563.14 L1260.32 1563.14 L1260.32 1568.04 L1254.31 1568.04 Q1247.53 1568.04 1244.95 1565.53 Q1242.37 1562.98 1242.37 1556.3 L1242.37 1536.95 L1238.07 1536.95 L1238.07 1532.4 L1242.37 1532.4 L1242.37 1522.27 L1248.26 1522.27 Z\" fill=\"#000000\" fill-rule=\"nonzero\" fill-opacity=\"1\" /><path clip-path=\"url(#clip600)\" d=\"M1268.03 1532.4 L1273.88 1532.4 L1273.88 1568.04 L1268.03 1568.04 L1268.03 1532.4 M1268.03 1518.52 L1273.88 1518.52 L1273.88 1525.93 L1268.03 1525.93 L1268.03 1518.52 Z\" fill=\"#000000\" fill-rule=\"nonzero\" fill-opacity=\"1\" /><path clip-path=\"url(#clip600)\" d=\"M1313.89 1539.24 Q1316.09 1535.29 1319.14 1533.41 Q1322.2 1531.54 1326.34 1531.54 Q1331.91 1531.54 1334.93 1535.45 Q1337.95 1539.33 1337.95 1546.53 L1337.95 1568.04 L1332.06 1568.04 L1332.06 1546.72 Q1332.06 1541.59 1330.25 1539.11 Q1328.44 1536.63 1324.71 1536.63 Q1320.16 1536.63 1317.52 1539.65 Q1314.88 1542.68 1314.88 1547.9 L1314.88 1568.04 L1308.99 1568.04 L1308.99 1546.72 Q1308.99 1541.56 1307.17 1539.11 Q1305.36 1536.63 1301.57 1536.63 Q1297.09 1536.63 1294.44 1539.68 Q1291.8 1542.71 1291.8 1547.9 L1291.8 1568.04 L1285.91 1568.04 L1285.91 1532.4 L1291.8 1532.4 L1291.8 1537.93 Q1293.81 1534.66 1296.61 1533.1 Q1299.41 1531.54 1303.26 1531.54 Q1307.14 1531.54 1309.85 1533.51 Q1312.59 1535.48 1313.89 1539.24 Z\" fill=\"#000000\" fill-rule=\"nonzero\" fill-opacity=\"1\" /><path clip-path=\"url(#clip600)\" d=\"M1380.13 1548.76 L1380.13 1551.62 L1353.2 1551.62 Q1353.58 1557.67 1356.83 1560.85 Q1360.11 1564 1365.93 1564 Q1369.3 1564 1372.46 1563.17 Q1375.64 1562.35 1378.76 1560.69 L1378.76 1566.23 Q1375.61 1567.57 1372.3 1568.27 Q1368.99 1568.97 1365.58 1568.97 Q1357.05 1568.97 1352.05 1564 Q1347.09 1559.04 1347.09 1550.57 Q1347.09 1541.82 1351.8 1536.69 Q1356.54 1531.54 1364.56 1531.54 Q1371.75 1531.54 1375.92 1536.18 Q1380.13 1540.8 1380.13 1548.76 M1374.27 1547.04 Q1374.21 1542.23 1371.56 1539.37 Q1368.95 1536.5 1364.63 1536.5 Q1359.72 1536.5 1356.76 1539.27 Q1353.84 1542.04 1353.39 1547.07 L1374.27 1547.04 Z\" fill=\"#000000\" fill-rule=\"nonzero\" fill-opacity=\"1\" /><polyline clip-path=\"url(#clip602)\" style=\"stroke:#000000; stroke-linecap:round; stroke-linejoin:round; stroke-width:2; stroke-opacity:0.1; fill:none\" points=\"265.445,1196.41 2352.76,1196.41 \"/>\n",
       "<polyline clip-path=\"url(#clip602)\" style=\"stroke:#000000; stroke-linecap:round; stroke-linejoin:round; stroke-width:2; stroke-opacity:0.1; fill:none\" points=\"265.445,938.159 2352.76,938.159 \"/>\n",
       "<polyline clip-path=\"url(#clip602)\" style=\"stroke:#000000; stroke-linecap:round; stroke-linejoin:round; stroke-width:2; stroke-opacity:0.1; fill:none\" points=\"265.445,679.907 2352.76,679.907 \"/>\n",
       "<polyline clip-path=\"url(#clip602)\" style=\"stroke:#000000; stroke-linecap:round; stroke-linejoin:round; stroke-width:2; stroke-opacity:0.1; fill:none\" points=\"265.445,421.655 2352.76,421.655 \"/>\n",
       "<polyline clip-path=\"url(#clip602)\" style=\"stroke:#000000; stroke-linecap:round; stroke-linejoin:round; stroke-width:2; stroke-opacity:0.1; fill:none\" points=\"265.445,163.403 2352.76,163.403 \"/>\n",
       "<polyline clip-path=\"url(#clip600)\" style=\"stroke:#000000; stroke-linecap:round; stroke-linejoin:round; stroke-width:4; stroke-opacity:1; fill:none\" points=\"265.445,1423.18 265.445,47.2441 \"/>\n",
       "<polyline clip-path=\"url(#clip600)\" style=\"stroke:#000000; stroke-linecap:round; stroke-linejoin:round; stroke-width:4; stroke-opacity:1; fill:none\" points=\"265.445,1196.41 284.342,1196.41 \"/>\n",
       "<polyline clip-path=\"url(#clip600)\" style=\"stroke:#000000; stroke-linecap:round; stroke-linejoin:round; stroke-width:4; stroke-opacity:1; fill:none\" points=\"265.445,938.159 284.342,938.159 \"/>\n",
       "<polyline clip-path=\"url(#clip600)\" style=\"stroke:#000000; stroke-linecap:round; stroke-linejoin:round; stroke-width:4; stroke-opacity:1; fill:none\" points=\"265.445,679.907 284.342,679.907 \"/>\n",
       "<polyline clip-path=\"url(#clip600)\" style=\"stroke:#000000; stroke-linecap:round; stroke-linejoin:round; stroke-width:4; stroke-opacity:1; fill:none\" points=\"265.445,421.655 284.342,421.655 \"/>\n",
       "<polyline clip-path=\"url(#clip600)\" style=\"stroke:#000000; stroke-linecap:round; stroke-linejoin:round; stroke-width:4; stroke-opacity:1; fill:none\" points=\"265.445,163.403 284.342,163.403 \"/>\n",
       "<path clip-path=\"url(#clip600)\" d=\"M121.043 1209.76 L137.362 1209.76 L137.362 1213.69 L115.418 1213.69 L115.418 1209.76 Q118.08 1207 122.663 1202.37 Q127.269 1197.72 128.45 1196.38 Q130.695 1193.85 131.575 1192.12 Q132.478 1190.36 132.478 1188.67 Q132.478 1185.91 130.533 1184.18 Q128.612 1182.44 125.51 1182.44 Q123.311 1182.44 120.857 1183.21 Q118.427 1183.97 115.649 1185.52 L115.649 1180.8 Q118.473 1179.66 120.927 1179.09 Q123.38 1178.51 125.418 1178.51 Q130.788 1178.51 133.982 1181.19 Q137.177 1183.88 137.177 1188.37 Q137.177 1190.5 136.367 1192.42 Q135.579 1194.32 133.473 1196.91 Q132.894 1197.58 129.792 1200.8 Q126.691 1203.99 121.043 1209.76 Z\" fill=\"#000000\" fill-rule=\"nonzero\" fill-opacity=\"1\" /><path clip-path=\"url(#clip600)\" d=\"M157.177 1182.21 Q153.566 1182.21 151.737 1185.77 Q149.931 1189.32 149.931 1196.45 Q149.931 1203.55 151.737 1207.12 Q153.566 1210.66 157.177 1210.66 Q160.811 1210.66 162.616 1207.12 Q164.445 1203.55 164.445 1196.45 Q164.445 1189.32 162.616 1185.77 Q160.811 1182.21 157.177 1182.21 M157.177 1178.51 Q162.987 1178.51 166.042 1183.11 Q169.121 1187.7 169.121 1196.45 Q169.121 1205.17 166.042 1209.78 Q162.987 1214.36 157.177 1214.36 Q151.366 1214.36 148.288 1209.78 Q145.232 1205.17 145.232 1196.45 Q145.232 1187.7 148.288 1183.11 Q151.366 1178.51 157.177 1178.51 Z\" fill=\"#000000\" fill-rule=\"nonzero\" fill-opacity=\"1\" /><path clip-path=\"url(#clip600)\" d=\"M187.338 1182.21 Q183.727 1182.21 181.899 1185.77 Q180.093 1189.32 180.093 1196.45 Q180.093 1203.55 181.899 1207.12 Q183.727 1210.66 187.338 1210.66 Q190.973 1210.66 192.778 1207.12 Q194.607 1203.55 194.607 1196.45 Q194.607 1189.32 192.778 1185.77 Q190.973 1182.21 187.338 1182.21 M187.338 1178.51 Q193.149 1178.51 196.204 1183.11 Q199.283 1187.7 199.283 1196.45 Q199.283 1205.17 196.204 1209.78 Q193.149 1214.36 187.338 1214.36 Q181.528 1214.36 178.45 1209.78 Q175.394 1205.17 175.394 1196.45 Q175.394 1187.7 178.45 1183.11 Q181.528 1178.51 187.338 1178.51 Z\" fill=\"#000000\" fill-rule=\"nonzero\" fill-opacity=\"1\" /><path clip-path=\"url(#clip600)\" d=\"M217.5 1182.21 Q213.889 1182.21 212.061 1185.77 Q210.255 1189.32 210.255 1196.45 Q210.255 1203.55 212.061 1207.12 Q213.889 1210.66 217.5 1210.66 Q221.135 1210.66 222.94 1207.12 Q224.769 1203.55 224.769 1196.45 Q224.769 1189.32 222.94 1185.77 Q221.135 1182.21 217.5 1182.21 M217.5 1178.51 Q223.31 1178.51 226.366 1183.11 Q229.445 1187.7 229.445 1196.45 Q229.445 1205.17 226.366 1209.78 Q223.31 1214.36 217.5 1214.36 Q211.69 1214.36 208.612 1209.78 Q205.556 1205.17 205.556 1196.45 Q205.556 1187.7 208.612 1183.11 Q211.69 1178.51 217.5 1178.51 Z\" fill=\"#000000\" fill-rule=\"nonzero\" fill-opacity=\"1\" /><path clip-path=\"url(#clip600)\" d=\"M121.043 951.504 L137.362 951.504 L137.362 955.439 L115.418 955.439 L115.418 951.504 Q118.08 948.75 122.663 944.12 Q127.269 939.467 128.45 938.125 Q130.695 935.602 131.575 933.865 Q132.478 932.106 132.478 930.416 Q132.478 927.662 130.533 925.926 Q128.612 924.19 125.51 924.19 Q123.311 924.19 120.857 924.953 Q118.427 925.717 115.649 927.268 L115.649 922.546 Q118.473 921.412 120.927 920.833 Q123.38 920.254 125.418 920.254 Q130.788 920.254 133.982 922.94 Q137.177 925.625 137.177 930.115 Q137.177 932.245 136.367 934.166 Q135.579 936.064 133.473 938.657 Q132.894 939.328 129.792 942.546 Q126.691 945.74 121.043 951.504 Z\" fill=\"#000000\" fill-rule=\"nonzero\" fill-opacity=\"1\" /><path clip-path=\"url(#clip600)\" d=\"M147.223 920.879 L165.579 920.879 L165.579 924.815 L151.505 924.815 L151.505 933.287 Q152.524 932.94 153.542 932.777 Q154.561 932.592 155.579 932.592 Q161.366 932.592 164.746 935.764 Q168.126 938.935 168.126 944.351 Q168.126 949.93 164.653 953.032 Q161.181 956.111 154.862 956.111 Q152.686 956.111 150.417 955.74 Q148.172 955.37 145.765 954.629 L145.765 949.93 Q147.848 951.064 150.07 951.62 Q152.292 952.176 154.769 952.176 Q158.774 952.176 161.112 950.069 Q163.45 947.963 163.45 944.351 Q163.45 940.74 161.112 938.634 Q158.774 936.527 154.769 936.527 Q152.894 936.527 151.019 936.944 Q149.167 937.361 147.223 938.24 L147.223 920.879 Z\" fill=\"#000000\" fill-rule=\"nonzero\" fill-opacity=\"1\" /><path clip-path=\"url(#clip600)\" d=\"M187.338 923.958 Q183.727 923.958 181.899 927.523 Q180.093 931.065 180.093 938.194 Q180.093 945.301 181.899 948.865 Q183.727 952.407 187.338 952.407 Q190.973 952.407 192.778 948.865 Q194.607 945.301 194.607 938.194 Q194.607 931.065 192.778 927.523 Q190.973 923.958 187.338 923.958 M187.338 920.254 Q193.149 920.254 196.204 924.861 Q199.283 929.444 199.283 938.194 Q199.283 946.921 196.204 951.527 Q193.149 956.111 187.338 956.111 Q181.528 956.111 178.45 951.527 Q175.394 946.921 175.394 938.194 Q175.394 929.444 178.45 924.861 Q181.528 920.254 187.338 920.254 Z\" fill=\"#000000\" fill-rule=\"nonzero\" fill-opacity=\"1\" /><path clip-path=\"url(#clip600)\" d=\"M217.5 923.958 Q213.889 923.958 212.061 927.523 Q210.255 931.065 210.255 938.194 Q210.255 945.301 212.061 948.865 Q213.889 952.407 217.5 952.407 Q221.135 952.407 222.94 948.865 Q224.769 945.301 224.769 938.194 Q224.769 931.065 222.94 927.523 Q221.135 923.958 217.5 923.958 M217.5 920.254 Q223.31 920.254 226.366 924.861 Q229.445 929.444 229.445 938.194 Q229.445 946.921 226.366 951.527 Q223.31 956.111 217.5 956.111 Q211.69 956.111 208.612 951.527 Q205.556 946.921 205.556 938.194 Q205.556 929.444 208.612 924.861 Q211.69 920.254 217.5 920.254 Z\" fill=\"#000000\" fill-rule=\"nonzero\" fill-opacity=\"1\" /><path clip-path=\"url(#clip600)\" d=\"M131.181 678.553 Q134.538 679.271 136.413 681.539 Q138.311 683.808 138.311 687.141 Q138.311 692.257 134.792 695.058 Q131.274 697.859 124.793 697.859 Q122.617 697.859 120.302 697.419 Q118.01 697.002 115.556 696.146 L115.556 691.632 Q117.501 692.766 119.816 693.345 Q122.13 693.923 124.654 693.923 Q129.052 693.923 131.343 692.187 Q133.658 690.451 133.658 687.141 Q133.658 684.085 131.505 682.373 Q129.376 680.636 125.556 680.636 L121.529 680.636 L121.529 676.794 L125.742 676.794 Q129.191 676.794 131.019 675.428 Q132.848 674.039 132.848 671.447 Q132.848 668.785 130.95 667.373 Q129.075 665.937 125.556 665.937 Q123.635 665.937 121.436 666.354 Q119.237 666.771 116.598 667.65 L116.598 663.484 Q119.26 662.743 121.575 662.373 Q123.913 662.002 125.973 662.002 Q131.297 662.002 134.399 664.433 Q137.501 666.84 137.501 670.961 Q137.501 673.831 135.857 675.822 Q134.214 677.789 131.181 678.553 Z\" fill=\"#000000\" fill-rule=\"nonzero\" fill-opacity=\"1\" /><path clip-path=\"url(#clip600)\" d=\"M157.177 665.706 Q153.566 665.706 151.737 669.271 Q149.931 672.812 149.931 679.942 Q149.931 687.048 151.737 690.613 Q153.566 694.155 157.177 694.155 Q160.811 694.155 162.616 690.613 Q164.445 687.048 164.445 679.942 Q164.445 672.812 162.616 669.271 Q160.811 665.706 157.177 665.706 M157.177 662.002 Q162.987 662.002 166.042 666.609 Q169.121 671.192 169.121 679.942 Q169.121 688.669 166.042 693.275 Q162.987 697.859 157.177 697.859 Q151.366 697.859 148.288 693.275 Q145.232 688.669 145.232 679.942 Q145.232 671.192 148.288 666.609 Q151.366 662.002 157.177 662.002 Z\" fill=\"#000000\" fill-rule=\"nonzero\" fill-opacity=\"1\" /><path clip-path=\"url(#clip600)\" d=\"M187.338 665.706 Q183.727 665.706 181.899 669.271 Q180.093 672.812 180.093 679.942 Q180.093 687.048 181.899 690.613 Q183.727 694.155 187.338 694.155 Q190.973 694.155 192.778 690.613 Q194.607 687.048 194.607 679.942 Q194.607 672.812 192.778 669.271 Q190.973 665.706 187.338 665.706 M187.338 662.002 Q193.149 662.002 196.204 666.609 Q199.283 671.192 199.283 679.942 Q199.283 688.669 196.204 693.275 Q193.149 697.859 187.338 697.859 Q181.528 697.859 178.45 693.275 Q175.394 688.669 175.394 679.942 Q175.394 671.192 178.45 666.609 Q181.528 662.002 187.338 662.002 Z\" fill=\"#000000\" fill-rule=\"nonzero\" fill-opacity=\"1\" /><path clip-path=\"url(#clip600)\" d=\"M217.5 665.706 Q213.889 665.706 212.061 669.271 Q210.255 672.812 210.255 679.942 Q210.255 687.048 212.061 690.613 Q213.889 694.155 217.5 694.155 Q221.135 694.155 222.94 690.613 Q224.769 687.048 224.769 679.942 Q224.769 672.812 222.94 669.271 Q221.135 665.706 217.5 665.706 M217.5 662.002 Q223.31 662.002 226.366 666.609 Q229.445 671.192 229.445 679.942 Q229.445 688.669 226.366 693.275 Q223.31 697.859 217.5 697.859 Q211.69 697.859 208.612 693.275 Q205.556 688.669 205.556 679.942 Q205.556 671.192 208.612 666.609 Q211.69 662.002 217.5 662.002 Z\" fill=\"#000000\" fill-rule=\"nonzero\" fill-opacity=\"1\" /><path clip-path=\"url(#clip600)\" d=\"M131.181 420.301 Q134.538 421.019 136.413 423.287 Q138.311 425.556 138.311 428.889 Q138.311 434.005 134.792 436.806 Q131.274 439.606 124.793 439.606 Q122.617 439.606 120.302 439.167 Q118.01 438.75 115.556 437.894 L115.556 433.38 Q117.501 434.514 119.816 435.093 Q122.13 435.671 124.654 435.671 Q129.052 435.671 131.343 433.935 Q133.658 432.199 133.658 428.889 Q133.658 425.833 131.505 424.12 Q129.376 422.384 125.556 422.384 L121.529 422.384 L121.529 418.542 L125.742 418.542 Q129.191 418.542 131.019 417.176 Q132.848 415.787 132.848 413.195 Q132.848 410.533 130.95 409.121 Q129.075 407.685 125.556 407.685 Q123.635 407.685 121.436 408.102 Q119.237 408.519 116.598 409.398 L116.598 405.232 Q119.26 404.491 121.575 404.121 Q123.913 403.75 125.973 403.75 Q131.297 403.75 134.399 406.181 Q137.501 408.588 137.501 412.708 Q137.501 415.579 135.857 417.57 Q134.214 419.537 131.181 420.301 Z\" fill=\"#000000\" fill-rule=\"nonzero\" fill-opacity=\"1\" /><path clip-path=\"url(#clip600)\" d=\"M147.223 404.375 L165.579 404.375 L165.579 408.31 L151.505 408.31 L151.505 416.783 Q152.524 416.435 153.542 416.273 Q154.561 416.088 155.579 416.088 Q161.366 416.088 164.746 419.259 Q168.126 422.431 168.126 427.847 Q168.126 433.426 164.653 436.528 Q161.181 439.606 154.862 439.606 Q152.686 439.606 150.417 439.236 Q148.172 438.866 145.765 438.125 L145.765 433.426 Q147.848 434.56 150.07 435.116 Q152.292 435.671 154.769 435.671 Q158.774 435.671 161.112 433.565 Q163.45 431.458 163.45 427.847 Q163.45 424.236 161.112 422.13 Q158.774 420.023 154.769 420.023 Q152.894 420.023 151.019 420.44 Q149.167 420.857 147.223 421.736 L147.223 404.375 Z\" fill=\"#000000\" fill-rule=\"nonzero\" fill-opacity=\"1\" /><path clip-path=\"url(#clip600)\" d=\"M187.338 407.454 Q183.727 407.454 181.899 411.019 Q180.093 414.56 180.093 421.69 Q180.093 428.796 181.899 432.361 Q183.727 435.903 187.338 435.903 Q190.973 435.903 192.778 432.361 Q194.607 428.796 194.607 421.69 Q194.607 414.56 192.778 411.019 Q190.973 407.454 187.338 407.454 M187.338 403.75 Q193.149 403.75 196.204 408.357 Q199.283 412.94 199.283 421.69 Q199.283 430.417 196.204 435.023 Q193.149 439.606 187.338 439.606 Q181.528 439.606 178.45 435.023 Q175.394 430.417 175.394 421.69 Q175.394 412.94 178.45 408.357 Q181.528 403.75 187.338 403.75 Z\" fill=\"#000000\" fill-rule=\"nonzero\" fill-opacity=\"1\" /><path clip-path=\"url(#clip600)\" d=\"M217.5 407.454 Q213.889 407.454 212.061 411.019 Q210.255 414.56 210.255 421.69 Q210.255 428.796 212.061 432.361 Q213.889 435.903 217.5 435.903 Q221.135 435.903 222.94 432.361 Q224.769 428.796 224.769 421.69 Q224.769 414.56 222.94 411.019 Q221.135 407.454 217.5 407.454 M217.5 403.75 Q223.31 403.75 226.366 408.357 Q229.445 412.94 229.445 421.69 Q229.445 430.417 226.366 435.023 Q223.31 439.606 217.5 439.606 Q211.69 439.606 208.612 435.023 Q205.556 430.417 205.556 421.69 Q205.556 412.94 208.612 408.357 Q211.69 403.75 217.5 403.75 Z\" fill=\"#000000\" fill-rule=\"nonzero\" fill-opacity=\"1\" /><path clip-path=\"url(#clip600)\" d=\"M129.862 150.197 L118.056 168.646 L129.862 168.646 L129.862 150.197 M128.635 146.123 L134.515 146.123 L134.515 168.646 L139.445 168.646 L139.445 172.535 L134.515 172.535 L134.515 180.683 L129.862 180.683 L129.862 172.535 L114.26 172.535 L114.26 168.021 L128.635 146.123 Z\" fill=\"#000000\" fill-rule=\"nonzero\" fill-opacity=\"1\" /><path clip-path=\"url(#clip600)\" d=\"M157.177 149.202 Q153.566 149.202 151.737 152.767 Q149.931 156.308 149.931 163.438 Q149.931 170.544 151.737 174.109 Q153.566 177.651 157.177 177.651 Q160.811 177.651 162.616 174.109 Q164.445 170.544 164.445 163.438 Q164.445 156.308 162.616 152.767 Q160.811 149.202 157.177 149.202 M157.177 145.498 Q162.987 145.498 166.042 150.105 Q169.121 154.688 169.121 163.438 Q169.121 172.165 166.042 176.771 Q162.987 181.354 157.177 181.354 Q151.366 181.354 148.288 176.771 Q145.232 172.165 145.232 163.438 Q145.232 154.688 148.288 150.105 Q151.366 145.498 157.177 145.498 Z\" fill=\"#000000\" fill-rule=\"nonzero\" fill-opacity=\"1\" /><path clip-path=\"url(#clip600)\" d=\"M187.338 149.202 Q183.727 149.202 181.899 152.767 Q180.093 156.308 180.093 163.438 Q180.093 170.544 181.899 174.109 Q183.727 177.651 187.338 177.651 Q190.973 177.651 192.778 174.109 Q194.607 170.544 194.607 163.438 Q194.607 156.308 192.778 152.767 Q190.973 149.202 187.338 149.202 M187.338 145.498 Q193.149 145.498 196.204 150.105 Q199.283 154.688 199.283 163.438 Q199.283 172.165 196.204 176.771 Q193.149 181.354 187.338 181.354 Q181.528 181.354 178.45 176.771 Q175.394 172.165 175.394 163.438 Q175.394 154.688 178.45 150.105 Q181.528 145.498 187.338 145.498 Z\" fill=\"#000000\" fill-rule=\"nonzero\" fill-opacity=\"1\" /><path clip-path=\"url(#clip600)\" d=\"M217.5 149.202 Q213.889 149.202 212.061 152.767 Q210.255 156.308 210.255 163.438 Q210.255 170.544 212.061 174.109 Q213.889 177.651 217.5 177.651 Q221.135 177.651 222.94 174.109 Q224.769 170.544 224.769 163.438 Q224.769 156.308 222.94 152.767 Q221.135 149.202 217.5 149.202 M217.5 145.498 Q223.31 145.498 226.366 150.105 Q229.445 154.688 229.445 163.438 Q229.445 172.165 226.366 176.771 Q223.31 181.354 217.5 181.354 Q211.69 181.354 208.612 176.771 Q205.556 172.165 205.556 163.438 Q205.556 154.688 208.612 150.105 Q211.69 145.498 217.5 145.498 Z\" fill=\"#000000\" fill-rule=\"nonzero\" fill-opacity=\"1\" /><path clip-path=\"url(#clip600)\" d=\"M58.657 805.744 L77.5631 805.744 L77.5631 811.632 L28.3562 811.632 L28.3562 805.744 L33.7671 805.744 Q30.5842 803.898 29.0564 801.097 Q27.4968 798.264 27.4968 794.349 Q27.4968 787.856 32.6531 783.814 Q37.8093 779.74 46.212 779.74 Q54.6147 779.74 59.771 783.814 Q64.9272 787.856 64.9272 794.349 Q64.9272 798.264 63.3994 801.097 Q61.8398 803.898 58.657 805.744 M46.212 785.819 Q39.7508 785.819 36.0905 788.493 Q32.3984 791.135 32.3984 795.782 Q32.3984 800.429 36.0905 803.102 Q39.7508 805.744 46.212 805.744 Q52.6732 805.744 56.3653 803.102 Q60.0256 800.429 60.0256 795.782 Q60.0256 791.135 56.3653 788.493 Q52.6732 785.819 46.212 785.819 Z\" fill=\"#000000\" fill-rule=\"nonzero\" fill-opacity=\"1\" /><path clip-path=\"url(#clip600)\" d=\"M33.8307 749.376 Q33.2578 750.362 33.0032 751.54 Q32.7167 752.686 32.7167 754.086 Q32.7167 759.052 35.9632 761.725 Q39.1779 764.367 45.2253 764.367 L64.0042 764.367 L64.0042 770.255 L28.3562 770.255 L28.3562 764.367 L33.8944 764.367 Q30.6479 762.521 29.0883 759.561 Q27.4968 756.601 27.4968 752.368 Q27.4968 751.763 27.5923 751.031 Q27.656 750.299 27.8151 749.407 L33.8307 749.376 Z\" fill=\"#000000\" fill-rule=\"nonzero\" fill-opacity=\"1\" /><path clip-path=\"url(#clip600)\" d=\"M28.3562 743.233 L28.3562 737.376 L64.0042 737.376 L64.0042 743.233 L28.3562 743.233 M14.479 743.233 L14.479 737.376 L21.895 737.376 L21.895 743.233 L14.479 743.233 Z\" fill=\"#000000\" fill-rule=\"nonzero\" fill-opacity=\"1\" /><path clip-path=\"url(#clip600)\" d=\"M29.7248 699.469 L35.1993 699.469 Q33.8307 701.951 33.1623 704.466 Q32.4621 706.948 32.4621 709.495 Q32.4621 715.192 36.0905 718.343 Q39.6872 721.494 46.212 721.494 Q52.7369 721.494 56.3653 718.343 Q59.9619 715.192 59.9619 709.495 Q59.9619 706.948 59.2935 704.466 Q58.5933 701.951 57.2247 699.469 L62.6355 699.469 Q63.7814 701.919 64.3543 704.561 Q64.9272 707.171 64.9272 710.131 Q64.9272 718.184 59.8664 722.926 Q54.8057 727.669 46.212 727.669 Q37.491 727.669 32.4939 722.894 Q27.4968 718.088 27.4968 709.749 Q27.4968 707.044 28.0697 704.466 Q28.6108 701.887 29.7248 699.469 Z\" fill=\"#000000\" fill-rule=\"nonzero\" fill-opacity=\"1\" /><path clip-path=\"url(#clip600)\" d=\"M44.7161 658.792 L47.5806 658.792 L47.5806 685.719 Q53.6281 685.337 56.8109 682.09 Q59.9619 678.812 59.9619 672.987 Q59.9619 669.613 59.1344 666.462 Q58.3069 663.279 56.6518 660.16 L62.1899 660.16 Q63.5267 663.311 64.227 666.621 Q64.9272 669.932 64.9272 673.337 Q64.9272 681.867 59.9619 686.864 Q54.9967 691.83 46.5303 691.83 Q37.7774 691.83 32.6531 687.119 Q27.4968 682.377 27.4968 674.356 Q27.4968 667.163 32.1438 662.993 Q36.7589 658.792 44.7161 658.792 M42.9973 664.648 Q38.1912 664.712 35.3266 667.354 Q32.4621 669.963 32.4621 674.292 Q32.4621 679.194 35.2312 682.154 Q38.0002 685.082 43.0292 685.528 L42.9973 664.648 Z\" fill=\"#000000\" fill-rule=\"nonzero\" fill-opacity=\"1\" /><polyline clip-path=\"url(#clip602)\" style=\"stroke:#009af9; stroke-linecap:round; stroke-linejoin:round; stroke-width:4; stroke-opacity:1; fill:none\" points=\"324.52,1240.73 325.598,1234.81 328.833,1204.08 329.911,1176.42 330.989,1166.4 332.067,1204.96 333.146,1198.79 337.459,1202.56 338.537,1196.62 339.615,1189.54 340.693,1184.69 343.928,1188.77 345.006,1189.98 346.085,1196.15 347.163,1202.92 348.241,1175.78 351.476,1184.64 352.554,1184.64 353.632,1188.64 355.789,1193.49 359.024,1204.55 360.102,1205.37 361.18,1212.99 362.258,1196.26 366.571,1180.06 367.649,1155.45 368.728,1155.45 369.806,1188.92 370.884,1171.46 374.119,1159.87 375.197,1149.15 376.275,1175.62 377.354,1186.34 378.432,1188.92 381.667,1137.89 382.745,1128.34 384.89,1118.91 389.214,1113.02 390.293,1116.33 391.371,1101.66 392.449,1095.69 393.527,1073.2 397.84,1061.94 399.997,1085.16 401.075,1128.23 404.31,1114.88 405.377,1117.93 406.466,1117.46 407.545,1107.29 408.623,1126.27 411.858,1129.91 412.936,1148.71 414.014,1147.14 415.092,1140.24 416.171,1147.11 419.405,1122.06 420.484,1139.73 421.562,1154.19 422.64,1168.49 423.718,1171.62 426.953,1167.93 428.031,1158.32 429.11,1140.86 430.188,1120.85 431.266,1094.89 434.501,1071.26 435.579,1101.84 437.736,1110.62 438.814,1102.54 442.049,1076.84 443.127,1065.84 444.205,1061.66 445.283,1065.17 446.362,1064.96 449.596,1067.7 450.675,1066.85 451.753,1062.17 452.831,1052.85 453.909,1067.36 457.144,1054.11 458.222,1058.09 459.301,1065.12 460.379,1065.97 461.457,1079.06 464.692,1072.68 465.77,1066.2 466.848,1073.66 467.927,1071.08 469.005,1112.17 472.24,1105.82 473.318,1127.54 474.396,1140.53 475.474,1143.44 476.553,1140.84 479.787,1121.16 480.866,1141.66 481.944,1135.85 483.022,1162.35 484.1,1156.67 487.335,1139.65 488.413,1138.33 489.492,1146.41 490.57,1130.35 491.648,1140.09 494.883,1129.27 495.961,1103.88 497.039,1090.17 498.117,1103.41 499.196,1090.37 502.43,1068.01 503.509,1085.41 504.587,1086.16 505.665,1063.1 506.743,1069.22 511.056,1093.39 512.135,1090.84 514.291,1111.14 517.526,1112.22 518.604,1099.95 519.682,1100.24 520.761,1084.85 521.839,1068.47 525.074,1053.7 526.152,1074.26 527.23,1072.84 528.308,1075.83 529.387,1062.33 533.7,1066.46 534.778,1069.66 535.856,1085.21 536.934,1094.4 540.169,1101.97 542.326,1116.87 543.404,1127.41 544.482,1123.09 547.717,1118.94 548.795,1133.06 549.873,1124.85 550.952,1143.75 552.03,1162.61 555.265,1188.25 556.343,1173.32 557.421,1150.73 558.499,1151.17 559.578,1167.41 562.812,1145.12 563.891,1165.45 566.047,1165.29 567.125,1155.43 570.36,1171.77 572.517,1186.03 573.595,1194.11 574.673,1203.2 577.908,1185.56 578.986,1177.15 580.064,1172.45 581.143,1180.43 582.221,1166.79 586.534,1169.86 587.612,1160.2 588.69,1154.06 589.757,1131.87 592.284,1136.65 594.082,1095.77 595.16,1065.84 596.238,1057.14 597.316,1092.65 600.551,1096.24 601.629,1092.16 602.708,1099.05 603.786,1100.68 604.864,1129.29 608.099,1144.27 610.255,1104.16 611.334,1094.76 612.412,1106.31 615.647,1117.59 616.725,1140.22 617.803,1140.34 618.881,1135.41 619.959,1159.38 623.194,1154.32 624.272,1172.32 625.351,1168.37 626.429,1156.46 627.507,1168.91 630.742,1185.54 631.82,1170.07 632.898,1155.87 633.977,1133.76 635.055,1132.57 638.29,1165.19 639.368,1189.77 640.446,1174.77 641.524,1185.62 642.603,1159.61 645.837,1130.94 646.916,1111.21 647.994,1109.77 649.072,1078.11 650.15,1081.28 653.385,1076.74 654.463,1085.05 656.62,1092.1 657.698,1093.89 660.933,1101.79 662.011,1112.89 663.089,1109.85 664.168,1114.98 665.246,1092.77 668.481,1092.88 669.559,1090.09 670.637,1064.57 671.715,1085.7 672.794,1086.11 676.028,1098.09 677.107,1089.55 678.185,1079.22 679.263,1073.07 680.341,1083.25 683.576,1108.42 684.654,1108.06 685.733,1089.55 686.811,1097.79 687.889,1101.68 691.124,1108.99 692.202,1101.5 693.28,1116.56 694.359,1125.21 695.437,1155.58 698.672,1143.47 699.75,1140.76 700.828,1120.72 701.906,1130.12 702.985,1125.88 706.219,1112.76 707.298,1117.18 708.376,1108.22 709.454,1097.27 710.532,1101.27 713.767,1091.43 714.845,1084.98 715.924,1095 717.002,1115.42 721.315,1136.83 722.393,1115.76 723.471,1132.57 724.55,1141.92 725.628,1196.33 728.863,1195.74 729.941,1177.71 731.019,1153.44 732.097,1131.82 733.176,1136.26 736.41,1210.69 738.567,1220.33 739.645,1315.28 740.723,1296.46 743.958,1353.22 745.036,1373.06 746.115,1374.92 747.193,1384.24 748.271,1301.03 751.506,1367.01 752.584,1349.74 753.662,1325.38 754.74,1304.39 755.819,1287.06 759.053,1310.82 760.132,1286.23 761.21,1346.84 763.366,1375.02 767.679,1312.52 768.758,1348.55 769.836,1317.2 774.149,1320.76 776.305,1333.21 777.384,1343.07 778.462,1296.51 781.697,1290.08 782.775,1331.92 783.853,1315.47 784.931,1259.3 786.01,1290.13 789.244,1280.81 790.323,1269.21 791.401,1245.14 792.479,1188.95 796.792,1232.33 797.87,1231.15 798.949,1246.2 800.027,1252.37 801.105,1251.47 804.34,1229.83 805.418,1222.49 806.496,1222.42 807.575,1246.85 808.653,1251.73 811.888,1224.51 812.966,1222.93 814.044,1220.38 815.122,1200.96 816.201,1185.9 820.514,1225.85 821.592,1193.67 822.67,1194.19 823.748,1210.69 826.983,1173.04 828.061,1172.06 829.14,1172.57 830.218,1149.13 831.296,1171.49 834.531,1159.35 835.609,1159.2 836.687,1140.24 837.766,1161.47 838.844,1176.01 842.079,1180.97 843.157,1172.76 844.235,1171.72 845.313,1176.73 846.392,1173.38 849.626,1181.98 850.705,1178.18 851.783,1174.62 852.861,1188.1 853.939,1135.02 857.174,1143.91 858.252,1153.98 859.331,1148.87 860.409,1115.24 861.487,1093.29 864.722,1060.47 865.8,1057.01 866.878,1083.35 867.957,1090.86 869.035,1081.57 872.27,1082.78 873.348,1107.6 874.426,1075.6 875.504,1075.16 876.583,1092.72 879.817,1089.03 880.895,1080.17 881.974,1097.79 883.052,1107.99 884.13,1115.11 887.365,1089.6 888.443,1036.42 889.521,1053.83 890.6,1052.05 891.678,1051.07 894.913,1065.14 895.991,1067.44 897.069,1062.38 898.147,1037.28 899.226,1043.86 902.46,1050.34 903.539,1051.84 904.617,1063.49 905.695,1064.99 906.773,1071.34 910.008,1065.53 911.086,1057.08 912.165,1063.88 913.243,1065.81 914.321,1068.01 917.556,1068.27 918.634,1071.08 919.712,1065.48 920.791,1068.11 921.869,1073.2 925.104,1063.54 926.182,1069.17 927.26,1059.46 928.338,1041.72 929.417,1047.25 932.651,1027.49 933.73,1016.56 934.808,1027.18 935.886,1025.37 936.964,1003.19 940.199,942.601 941.277,942.601 942.356,936.61 943.434,958.329 944.512,964.036 947.747,956.082 948.825,926.306 949.903,954.972 950.982,1024.8 952.06,978.292 955.295,976.226 956.373,944.151 957.451,942.136 958.529,926.047 962.842,831.863 963.921,827.473 964.999,816.29 966.077,769.934 967.155,776.519 970.39,767.713 971.468,769.495 972.547,778.25 973.625,813.888 974.703,802.164 977.938,828.893 979.016,814.715 980.094,847.565 981.173,849.76 982.251,841.676 985.486,840.953 986.564,870.936 987.642,875.043 988.72,869.645 989.799,853.014 993.033,884.133 994.112,869.154 995.19,859.057 996.268,842.245 997.346,831.011 1000.58,821.119 1001.66,860.89 1002.74,841.16 1003.82,849.811 1004.89,857.146 1006.33,850.173 1009.21,852.394 1010.29,872.744 1011.36,867.45 1012.44,855.39 1015.68,822.333 1016.75,823.47 1017.83,834.187 1018.91,824.219 1019.99,845.369 1024.3,821.016 1025.38,809.266 1026.46,829.978 1027.54,820.629 1030.77,815.386 1031.85,784.603 1032.93,777.63 1034.01,791.317 1035.08,791.679 1038.32,784.396 1039.4,803.068 1040.48,775.874 1041.55,763.478 1042.63,751.701 1045.87,772.801 1046.95,745.762 1048.02,727.038 1049.1,726.728 1053.42,716.373 1054.49,715.804 1055.57,726.754 1056.65,750.797 1057.73,716.966 1060.96,659.531 1062.04,631.872 1063.12,653.307 1064.2,662.966 1065.28,617.462 1068.51,588.77 1069.59,589.596 1070.67,597.809 1071.75,550.42 1072.82,559.381 1076.06,565.372 1077.14,545.255 1078.21,520.411 1079.29,538.463 1080.37,523.355 1083.61,529.45 1085.76,545.074 1086.84,578.388 1087.92,622.394 1091.15,607.932 1092.23,574.825 1093.31,576.581 1094.39,582.572 1095.47,598.325 1098.7,569.324 1099.78,588.538 1100.86,569.737 1101.94,573.507 1103.01,581.358 1106.25,607.674 1107.33,623.712 1108.41,642.151 1109.48,650.286 1110.56,642.796 1113.8,701.368 1114.88,690.134 1115.95,706.714 1117.03,682.335 1118.11,734.502 1121.34,719.058 1122.42,676.627 1123.5,649.382 1124.58,654.237 1125.66,675.749 1128.89,676.318 1129.97,653.591 1131.05,643.261 1133.21,649.976 1136.44,645.741 1137.52,623.066 1138.6,621.568 1139.67,661.055 1140.75,653.979 1143.99,612.943 1145.07,606.254 1146.14,617.359 1147.22,646.412 1148.3,645.405 1152.61,598.016 1153.69,588.047 1154.77,594.684 1159.08,556.514 1160.16,543.189 1161.24,539.728 1162.32,515.995 1163.4,513.464 1166.63,552.563 1167.71,626.165 1169.87,566.819 1170.94,579.112 1174.18,596.337 1175.26,605.247 1177.41,618.547 1178.49,623.35 1181.73,627.844 1182.8,611.729 1183.88,615.809 1184.96,620.38 1186.04,661.494 1189.27,660.797 1190.35,654.211 1191.43,630.478 1192.51,622.343 1193.59,611.264 1196.82,604.756 1197.9,616.584 1198.98,634.661 1201.14,653.307 1204.37,643.881 1205.45,634.042 1206.53,637.554 1207.6,648.917 1208.68,638.329 1211.92,637.812 1213,621.026 1214.07,598.041 1215.15,586.937 1216.23,605.737 1219.47,597.706 1220.54,600.882 1221.62,613.046 1222.7,606.951 1223.78,605.66 1227.01,585.284 1228.09,576.529 1229.17,576.477 1230.25,567.929 1231.33,538.488 1234.56,537.171 1235.64,544.196 1236.72,538.204 1237.8,515.788 1238.87,526.351 1242.11,538.85 1243.19,524.336 1244.27,544.893 1245.34,486.941 1246.42,483.222 1249.66,505.974 1250.73,503.857 1251.81,501.326 1252.89,503.521 1253.97,511.811 1257.2,514.109 1258.28,544.428 1259.36,537.894 1260.44,546.391 1261.52,572.397 1264.75,580.17 1265.83,583.037 1266.91,569.091 1267.99,575.083 1269.06,579.292 1272.3,584.561 1273.38,573.611 1275.53,568.162 1276.61,569.969 1279.85,577.872 1280.93,585.413 1282,577.743 1283.08,578.776 1284.16,593.419 1287.39,566.586 1288.47,532.755 1289.55,538.411 1290.63,533.246 1291.71,519.894 1294.94,513.231 1296.02,507.447 1297.1,502.127 1298.18,498.227 1299.26,440.559 1302.49,435.627 1303.57,394.255 1304.65,390.381 1306.8,390.923 1310.04,350.688 1311.12,363.187 1312.19,339.531 1313.27,332.894 1314.35,307.947 1317.59,317.683 1318.66,273.703 1319.74,310.633 1320.82,247.722 1321.9,244.985 1325.13,239.846 1326.21,258.492 1327.29,280.056 1328.37,271.146 1332.68,243.28 1333.76,222.336 1334.84,186.878 1335.92,213.349 1336.99,252.319 1340.23,254.566 1341.31,234.19 1342.39,234.603 1343.46,230.936 1344.54,229.877 1347.78,247.619 1348.86,277.473 1349.93,270.888 1351.01,279.332 1352.09,302.756 1355.32,280.495 1356.4,249.504 1357.48,261.074 1358.56,218.721 1359.64,196.64 1362.87,325.792 1363.95,342.707 1365.03,341.494 1366.11,364.091 1370.42,345.652 1371.5,352.366 1372.58,365.434 1373.65,404.869 1374.73,422.249 1377.97,425.297 1379.05,430.642 1380.12,426.949 1381.2,462.123 1382.28,474.468 1385.52,433.845 1386.59,429.816 1387.67,425.658 1389.15,417.187 1393.06,420.235 1394.14,418.711 1395.22,429.764 1396.3,427.75 1397.38,408.2 1400.61,394.125 1401.69,392.524 1402.77,410.344 1403.85,434.206 1408.16,443.142 1409.24,440.12 1410.32,450.941 1411.39,449.598 1412.47,449.107 1415.71,420.622 1416.78,406.599 1417.86,381.471 1418.94,347.847 1420.02,349.112 1423.25,402.854 1424.33,378.011 1425.41,356.111 1426.49,369.101 1427.57,350.997 1430.8,365.021 1431.88,357.712 1432.96,385.319 1434.04,379.508 1435.11,378.088 1438.35,392.266 1439.43,365.718 1440.51,354.122 1441.58,337.62 1442.66,333.385 1445.9,320.369 1446.98,314.971 1448.05,321.092 1449.13,300.922 1450.21,298.546 1453.45,257.536 1454.52,222.93 1455.6,235.223 1456.68,262.856 1457.76,239.071 1460.99,225.461 1462.07,206.841 1463.15,235.765 1464.23,216.138 1465.31,179.854 1468.54,153.512 1469.62,168.258 1470.7,207.487 1471.78,252.991 1472.85,249.401 1476.09,281.502 1477.17,282.251 1479.32,344.567 1480.4,323.494 1483.64,299.631 1484.71,266.368 1485.79,237.676 1486.87,253.998 1487.95,259.008 1491.18,277.55 1492.26,295.912 1493.34,287.08 1494.42,282.018 1495.5,320.963 1498.73,300.922 1499.81,257.51 1500.89,259.938 1501.97,274.865 1503.04,269.855 1506.28,308.334 1507.36,377.029 1508.44,388.702 1509.51,472.453 1510.59,410.938 1513.83,393.661 1515.98,397.819 1517.06,398.722 1518.14,409.078 1521.37,429.454 1522.45,370.031 1523.53,353.167 1524.61,359.184 1525.69,370.444 1528.92,347.795 1530,373.155 1531.08,341.132 1532.16,332.429 1536.47,356.214 1537.55,317.864 1538.63,311.95 1539.7,292.607 1540.78,314.506 1544.02,314.377 1545.1,315.591 1546.17,302.059 1547.25,297.72 1548.33,288.01 1551.57,282.018 1552.64,259.06 1553.72,289.766 1554.8,326.541 1555.88,325.766 1559.11,320.214 1560.19,322.951 1561.27,338.007 1566.66,407.167 1567.74,436.169 1568.82,392.318 1569.9,355.207 1570.97,363.523 1574.21,396.76 1575.29,397.741 1576.37,390.045 1577.44,378.114 1578.52,397.534 1581.76,399.755 1583.91,432.114 1584.99,414.734 1586.07,456.467 1589.3,450.011 1590.38,453.291 1591.46,467.108 1592.54,468.838 1593.62,465.61 1596.85,485.288 1597.93,446.654 1599.01,448.1 1600.09,544.609 1601.17,528.572 1604.4,513.722 1605.48,531.154 1606.56,593.315 1607.63,562.687 1608.71,544.945 1611.95,486.089 1613.03,491.719 1614.1,496.445 1615.18,461.426 1616.26,452.568 1619.5,457.32 1620.57,492.571 1621.65,471.162 1622.73,459.308 1623.81,494.017 1627.04,566.483 1628.12,571.157 1629.2,573.352 1630.28,606.564 1631.36,633.99 1634.59,621.852 1635.67,570.434 1636.75,564.753 1637.83,520.411 1638.9,528.52 1642.14,517.363 1643.22,515.582 1644.3,529.863 1645.37,541.949 1646.45,517.157 1649.69,558.503 1650.76,568.187 1651.84,545.229 1652.92,531.231 1654,542.801 1657.23,621.129 1658.31,636.159 1659.39,659.893 1660.47,680.553 1661.55,682.696 1664.78,647.109 1665.86,641.557 1666.94,594.787 1668.02,588.331 1669.09,591.585 1672.33,593.78 1673.41,620.044 1674.49,582.365 1675.56,545.358 1676.64,523.975 1679.88,525.576 1680.96,529.191 1682.03,504.554 1683.11,496.574 1684.19,491.357 1687.42,486.502 1689.58,496.936 1690.66,461.684 1691.74,472.505 1696.05,477.076 1697.13,472.737 1698.21,482.99 1699.29,480.666 1702.52,496.781 1703.6,532.91 1704.68,548.018 1705.76,567.206 1706.83,565.14 1710.07,611.445 1711.15,570.847 1713.3,611.884 1714.38,612.555 1717.62,611.006 1718.69,614.285 1719.77,602.638 1720.85,592.282 1721.93,567.49 1725.16,554.423 1726.24,561.447 1727.32,617.72 1728.4,626.01 1729.48,675.414 1732.71,665.032 1733.79,659.092 1734.87,679.287 1735.95,676.085 1737.02,689.178 1740.26,682.8 1741.34,670.894 1742.42,661.494 1743.49,681.302 1744.57,677.557 1747.81,687.681 1748.89,632.828 1751.04,627.25 1752.12,646.386 1755.35,618.676 1756.43,643.984 1757.51,627.869 1758.59,626.552 1759.67,628.696 1762.9,622.188 1763.98,605.169 1765.06,616.971 1766.14,598.661 1767.22,608.94 1770.85,596.389 1771.53,596.182 1773.68,598.61 1774.76,595.588 1778,580.145 1779.08,545.771 1780.15,555.068 1781.23,573.12 1782.31,567.619 1785.55,559.2 1787.7,568.317 1788.78,573.688 1789.86,516.718 1793.09,506.62 1794.17,508.118 1795.25,496.367 1796.33,499.647 1797.41,502.514 1800.64,533.478 1801.72,517.234 1802.8,520.669 1803.88,483.558 1804.95,478.651 1808.19,475.759 1809.27,474.674 1810.35,478.057 1811.42,434.232 1812.5,453.084 1815.74,459.928 1816.81,480.872 1817.89,483.326 1818.97,498.847 1820.05,528.701 1823.28,531.955 1824.36,508.376 1825.44,491.202 1826.52,522.322 1827.6,555.817 1830.83,575.548 1831.91,553.906 1832.99,541.2 1834.07,545.771 1835.14,561.963 1838.38,549.283 1839.46,545.874 1840.54,547.114 1841.61,541.097 1842.69,547.321 1845.93,544.867 1847.01,519.094 1848.08,517.389 1849.16,519.223 1850.24,570.641 1853.48,514.652 1854.55,531.981 1855.63,510.132 1856.71,507.214 1857.79,486.451 1861.02,507.369 1862.1,484.462 1863.18,478.471 1864.26,487.199 1865.34,492.365 1868.57,465.61 1869.65,454.556 1870.73,457.94 1872.88,467.598 1876.12,455.925 1877.2,494.637 1878.27,468.993 1879.35,442.109 1880.43,430.797 1883.67,442.341 1884.74,435.833 1885.82,411.273 1886.9,400.556 1887.98,402.26 1891.21,430.746 1892.29,421.603 1893.37,410.989 1894.45,391.672 1895.53,421.061 1898.76,428.215 1899.84,446.964 1900.92,472.505 1902,466.178 1903.07,473.073 1906.31,508.505 1907.39,518.319 1908.47,480.692 1909.54,513.877 1910.62,503.185 1913.86,487.845 1916.01,478.264 1917.09,505.923 1918.17,508.944 1921.4,534.279 1922.48,568.885 1923.56,577.175 1924.64,584.354 1925.72,587.298 1928.95,605.892 1930.03,625.106 1931.11,612.348 1932.19,615.525 1933.27,617.669 1936.5,616.739 1937.58,620.044 1938.66,608.165 1940.81,573.559 1944.05,576.606 1946.2,556.05 1947.28,565.915 1951.6,543.86 1952.67,569.479 1953.75,555.094 1954.83,582.365 1959.14,607.855 1960.22,612.374 1961.3,633.628 1962.38,625.778 1963.46,596.828 1966.69,589.622 1967.77,589.003 1968.85,577.562 1969.93,582.83 1971,566.664 1975.32,566.586 1976.4,586.988 1977.47,565.915 1978.55,560.75 1981.79,550.471 1982.86,533.607 1983.94,531.774 1985.02,534.176 1986.1,538.23 1989.33,548.173 1990.41,546.572 1991.49,572.113 1992.57,576.684 1993.65,564.804 1996.88,525.627 1997.96,526.48 1999.04,523.226 2000.12,528.313 2001.2,510.029 2004.43,514.445 2005.51,516.589 2006.59,530.379 2007.66,512.56 2008.74,522.064 2011.98,530.689 2013.06,559.923 2014.13,537.92 2015.21,557.78 2016.29,571.803 2019.53,552.382 2020.6,554.035 2021.68,550.239 2022.76,568.187 2023.84,589.571 2027.07,571.235 2028.15,562.299 2029.23,546.546 2030.31,556.721 2031.39,568.162 2034.62,581.952 2035.7,577.975 2036.78,568.626 2038.93,523.794 2042.17,539.263 2043.25,520.385 2044.32,514.652 2045.4,513.128 2046.48,509.848 2049.72,539.444 2050.79,539.212 2051.87,545.668 2052.95,504.012 2054.03,414.088 2057.26,425.942 2058.34,423.282 2059.42,437.124 2060.5,440.611 2061.58,489.679 2064.81,476.017 2065.89,473.745 2066.97,479.349 2068.05,474.907 2069.12,496.342 2072.36,462.227 2073.44,446.422 2074.52,452.31 2075.59,473.331 2076.67,450.812 2079.91,429.893 2080.99,436.84 2082.06,441.024 2083.14,451.561 2084.22,448.1 2087.45,447.558 2089.61,443.142 2090.69,454.841 2091.77,490.299 2095,472.453 2096.08,482.525 2097.16,474.209 2098.24,479.633 2099.32,482.964 2102.55,485.934 2103.63,485.624 2104.71,477.98 2105.79,495.619 2106.86,484.049 2110.1,463.75 2111.18,458.146 2112.25,457.862 2113.33,444.769 2114.41,451.664 2117.65,431.65 2118.72,379.922 2119.8,386.61 2120.88,390.639 2121.96,370.883 2125.19,366.828 2127.35,366.88 2128.43,377.597 2129.51,368.12 2132.74,381.807 2133.82,377.391 2134.9,375.531 2135.98,402.674 2137.05,406.883 2141.37,414.502 2142.45,402.157 2143.52,375.505 2144.6,358.952 2147.84,350.197 2148.92,355.078 2149.99,364.891 2151.07,399.678 2152.15,385.061 2155.38,409.233 2156.46,418.014 2157.54,428.241 2158.62,444.562 2159.7,424.47 2162.93,468.063 2165.09,478.419 2166.17,505.974 2167.25,498.64 2170.48,484.385 2171.56,489.446 2172.64,509.125 2173.71,493.914 2174.79,498.666 2178.03,483.507 2179.11,488.568 2180.18,482.835 2181.26,500.448 2182.34,507.679 2185.58,508.66 2187.73,471.085 2188.81,422.766 2189.89,420.39 2193.12,411.532 2194.2,416.387 2195.28,406.083 2196.36,417.394 2197.44,443.813 2201.75,437.073 2202.83,414.553 2203.91,428.06 2204.98,415.638 2208.22,415.225 2209.3,405.334 2210.38,367.887 2211.45,362.309 2212.53,356.214 2215.77,347.847 2216.84,332.765 2217.92,373.336 2219,335.27 2220.08,235.197 2223.31,236.127 2224.39,258.337 2225.47,277.008 2226.55,273.16 2227.63,254.308 2231.94,269.002 2233.02,260.919 2234.1,266.756 2235.17,270.113 2238.41,260.971 2239.49,275.381 2240.57,322.615 2241.64,335.502 2242.72,298.779 2245.96,329.562 2247.04,323.571 2248.11,311.614 2249.19,299.993 2250.27,223.937 2253.51,213.091 2254.58,235.042 2255.66,223.008 2256.74,213.711 2257.82,192.818 2262.13,236.618 2263.21,245.114 2264.29,261.384 2268.6,266.187 2269.68,266.42 2270.76,258.466 2271.84,238.735 2272.91,180.809 2276.15,177.194 2277.23,93.1585 2278.3,120.327 2279.38,94.1398 2280.46,94.3463 2283.7,101.061 2284.77,86.1857 2285.85,111.701 2286.93,110.1 2288.01,97.1357 2291.24,109.79 2292.32,147.572 2293.68,167.793 \"/>\n",
       "</svg>\n"
      ],
      "text/html": [
       "<?xml version=\"1.0\" encoding=\"utf-8\"?>\n",
       "<svg xmlns=\"http://www.w3.org/2000/svg\" xmlns:xlink=\"http://www.w3.org/1999/xlink\" width=\"600\" height=\"400\" viewBox=\"0 0 2400 1600\">\n",
       "<defs>\n",
       "  <clipPath id=\"clip650\">\n",
       "    <rect x=\"0\" y=\"0\" width=\"2400\" height=\"1600\"/>\n",
       "  </clipPath>\n",
       "</defs>\n",
       "<path clip-path=\"url(#clip650)\" d=\"M0 1600 L2400 1600 L2400 0 L0 0  Z\" fill=\"#ffffff\" fill-rule=\"evenodd\" fill-opacity=\"1\"/>\n",
       "<defs>\n",
       "  <clipPath id=\"clip651\">\n",
       "    <rect x=\"480\" y=\"0\" width=\"1681\" height=\"1600\"/>\n",
       "  </clipPath>\n",
       "</defs>\n",
       "<path clip-path=\"url(#clip650)\" d=\"M265.445 1423.18 L2352.76 1423.18 L2352.76 47.2441 L265.445 47.2441  Z\" fill=\"#ffffff\" fill-rule=\"evenodd\" fill-opacity=\"1\"/>\n",
       "<defs>\n",
       "  <clipPath id=\"clip652\">\n",
       "    <rect x=\"265\" y=\"47\" width=\"2088\" height=\"1377\"/>\n",
       "  </clipPath>\n",
       "</defs>\n",
       "<polyline clip-path=\"url(#clip652)\" style=\"stroke:#000000; stroke-linecap:round; stroke-linejoin:round; stroke-width:2; stroke-opacity:0.1; fill:none\" points=\"269.36,1423.18 269.36,47.2441 \"/>\n",
       "<polyline clip-path=\"url(#clip652)\" style=\"stroke:#000000; stroke-linecap:round; stroke-linejoin:round; stroke-width:2; stroke-opacity:0.1; fill:none\" points=\"662.921,1423.18 662.921,47.2441 \"/>\n",
       "<polyline clip-path=\"url(#clip652)\" style=\"stroke:#000000; stroke-linecap:round; stroke-linejoin:round; stroke-width:2; stroke-opacity:0.1; fill:none\" points=\"1057.56,1423.18 1057.56,47.2441 \"/>\n",
       "<polyline clip-path=\"url(#clip652)\" style=\"stroke:#000000; stroke-linecap:round; stroke-linejoin:round; stroke-width:2; stroke-opacity:0.1; fill:none\" points=\"1451.12,1423.18 1451.12,47.2441 \"/>\n",
       "<polyline clip-path=\"url(#clip652)\" style=\"stroke:#000000; stroke-linecap:round; stroke-linejoin:round; stroke-width:2; stroke-opacity:0.1; fill:none\" points=\"1844.68,1423.18 1844.68,47.2441 \"/>\n",
       "<polyline clip-path=\"url(#clip652)\" style=\"stroke:#000000; stroke-linecap:round; stroke-linejoin:round; stroke-width:2; stroke-opacity:0.1; fill:none\" points=\"2238.24,1423.18 2238.24,47.2441 \"/>\n",
       "<polyline clip-path=\"url(#clip650)\" style=\"stroke:#000000; stroke-linecap:round; stroke-linejoin:round; stroke-width:4; stroke-opacity:1; fill:none\" points=\"265.445,1423.18 2352.76,1423.18 \"/>\n",
       "<polyline clip-path=\"url(#clip650)\" style=\"stroke:#000000; stroke-linecap:round; stroke-linejoin:round; stroke-width:4; stroke-opacity:1; fill:none\" points=\"269.36,1423.18 269.36,1404.28 \"/>\n",
       "<polyline clip-path=\"url(#clip650)\" style=\"stroke:#000000; stroke-linecap:round; stroke-linejoin:round; stroke-width:4; stroke-opacity:1; fill:none\" points=\"662.921,1423.18 662.921,1404.28 \"/>\n",
       "<polyline clip-path=\"url(#clip650)\" style=\"stroke:#000000; stroke-linecap:round; stroke-linejoin:round; stroke-width:4; stroke-opacity:1; fill:none\" points=\"1057.56,1423.18 1057.56,1404.28 \"/>\n",
       "<polyline clip-path=\"url(#clip650)\" style=\"stroke:#000000; stroke-linecap:round; stroke-linejoin:round; stroke-width:4; stroke-opacity:1; fill:none\" points=\"1451.12,1423.18 1451.12,1404.28 \"/>\n",
       "<polyline clip-path=\"url(#clip650)\" style=\"stroke:#000000; stroke-linecap:round; stroke-linejoin:round; stroke-width:4; stroke-opacity:1; fill:none\" points=\"1844.68,1423.18 1844.68,1404.28 \"/>\n",
       "<polyline clip-path=\"url(#clip650)\" style=\"stroke:#000000; stroke-linecap:round; stroke-linejoin:round; stroke-width:4; stroke-opacity:1; fill:none\" points=\"2238.24,1423.18 2238.24,1404.28 \"/>\n",
       "<path clip-path=\"url(#clip650)\" d=\"M141.155 1481.64 L157.474 1481.64 L157.474 1485.58 L135.53 1485.58 L135.53 1481.64 Q138.192 1478.89 142.775 1474.26 Q147.382 1469.61 148.562 1468.27 Q150.808 1465.74 151.687 1464.01 Q152.59 1462.25 152.59 1460.56 Q152.59 1457.8 150.646 1456.07 Q148.725 1454.33 145.623 1454.33 Q143.424 1454.33 140.97 1455.09 Q138.539 1455.86 135.762 1457.41 L135.762 1452.69 Q138.586 1451.55 141.039 1450.97 Q143.493 1450.39 145.53 1450.39 Q150.9 1450.39 154.095 1453.08 Q157.289 1455.77 157.289 1460.26 Q157.289 1462.39 156.479 1464.31 Q155.692 1466.2 153.586 1468.8 Q153.007 1469.47 149.905 1472.69 Q146.803 1475.88 141.155 1481.64 Z\" fill=\"#000000\" fill-rule=\"nonzero\" fill-opacity=\"1\" /><path clip-path=\"url(#clip650)\" d=\"M177.289 1454.1 Q173.678 1454.1 171.849 1457.66 Q170.044 1461.2 170.044 1468.33 Q170.044 1475.44 171.849 1479.01 Q173.678 1482.55 177.289 1482.55 Q180.923 1482.55 182.729 1479.01 Q184.558 1475.44 184.558 1468.33 Q184.558 1461.2 182.729 1457.66 Q180.923 1454.1 177.289 1454.1 M177.289 1450.39 Q183.099 1450.39 186.155 1455 Q189.234 1459.58 189.234 1468.33 Q189.234 1477.06 186.155 1481.67 Q183.099 1486.25 177.289 1486.25 Q171.479 1486.25 168.4 1481.67 Q165.345 1477.06 165.345 1468.33 Q165.345 1459.58 168.4 1455 Q171.479 1450.39 177.289 1450.39 Z\" fill=\"#000000\" fill-rule=\"nonzero\" fill-opacity=\"1\" /><path clip-path=\"url(#clip650)\" d=\"M198.261 1481.64 L205.9 1481.64 L205.9 1455.28 L197.59 1456.95 L197.59 1452.69 L205.854 1451.02 L210.53 1451.02 L210.53 1481.64 L218.169 1481.64 L218.169 1485.58 L198.261 1485.58 L198.261 1481.64 Z\" fill=\"#000000\" fill-rule=\"nonzero\" fill-opacity=\"1\" /><path clip-path=\"url(#clip650)\" d=\"M227.752 1484.86 L227.752 1480.6 Q229.511 1481.44 231.317 1481.88 Q233.122 1482.32 234.858 1482.32 Q239.488 1482.32 241.918 1479.21 Q244.372 1476.09 244.719 1469.75 Q243.377 1471.74 241.317 1472.8 Q239.256 1473.87 236.756 1473.87 Q231.571 1473.87 228.539 1470.74 Q225.53 1467.59 225.53 1462.15 Q225.53 1456.83 228.678 1453.61 Q231.826 1450.39 237.057 1450.39 Q243.053 1450.39 246.201 1455 Q249.372 1459.58 249.372 1468.33 Q249.372 1476.51 245.483 1481.39 Q241.618 1486.25 235.067 1486.25 Q233.307 1486.25 231.502 1485.9 Q229.696 1485.56 227.752 1484.86 M237.057 1470.21 Q240.206 1470.21 242.034 1468.06 Q243.886 1465.9 243.886 1462.15 Q243.886 1458.43 242.034 1456.27 Q240.206 1454.1 237.057 1454.1 Q233.909 1454.1 232.057 1456.27 Q230.229 1458.43 230.229 1462.15 Q230.229 1465.9 232.057 1468.06 Q233.909 1470.21 237.057 1470.21 Z\" fill=\"#000000\" fill-rule=\"nonzero\" fill-opacity=\"1\" /><path clip-path=\"url(#clip650)\" d=\"M255.02 1470.7 L267.497 1470.7 L267.497 1474.49 L255.02 1474.49 L255.02 1470.7 Z\" fill=\"#000000\" fill-rule=\"nonzero\" fill-opacity=\"1\" /><path clip-path=\"url(#clip650)\" d=\"M284.881 1454.1 Q281.27 1454.1 279.441 1457.66 Q277.636 1461.2 277.636 1468.33 Q277.636 1475.44 279.441 1479.01 Q281.27 1482.55 284.881 1482.55 Q288.515 1482.55 290.321 1479.01 Q292.15 1475.44 292.15 1468.33 Q292.15 1461.2 290.321 1457.66 Q288.515 1454.1 284.881 1454.1 M284.881 1450.39 Q290.691 1450.39 293.747 1455 Q296.826 1459.58 296.826 1468.33 Q296.826 1477.06 293.747 1481.67 Q290.691 1486.25 284.881 1486.25 Q279.071 1486.25 275.992 1481.67 Q272.937 1477.06 272.937 1468.33 Q272.937 1459.58 275.992 1455 Q279.071 1450.39 284.881 1450.39 Z\" fill=\"#000000\" fill-rule=\"nonzero\" fill-opacity=\"1\" /><path clip-path=\"url(#clip650)\" d=\"M305.853 1481.64 L313.492 1481.64 L313.492 1455.28 L305.182 1456.95 L305.182 1452.69 L313.446 1451.02 L318.122 1451.02 L318.122 1481.64 L325.761 1481.64 L325.761 1485.58 L305.853 1485.58 L305.853 1481.64 Z\" fill=\"#000000\" fill-rule=\"nonzero\" fill-opacity=\"1\" /><path clip-path=\"url(#clip650)\" d=\"M332.45 1470.7 L344.927 1470.7 L344.927 1474.49 L332.45 1474.49 L332.45 1470.7 Z\" fill=\"#000000\" fill-rule=\"nonzero\" fill-opacity=\"1\" /><path clip-path=\"url(#clip650)\" d=\"M362.311 1454.1 Q358.7 1454.1 356.872 1457.66 Q355.066 1461.2 355.066 1468.33 Q355.066 1475.44 356.872 1479.01 Q358.7 1482.55 362.311 1482.55 Q365.946 1482.55 367.751 1479.01 Q369.58 1475.44 369.58 1468.33 Q369.58 1461.2 367.751 1457.66 Q365.946 1454.1 362.311 1454.1 M362.311 1450.39 Q368.121 1450.39 371.177 1455 Q374.256 1459.58 374.256 1468.33 Q374.256 1477.06 371.177 1481.67 Q368.121 1486.25 362.311 1486.25 Q356.501 1486.25 353.422 1481.67 Q350.367 1477.06 350.367 1468.33 Q350.367 1459.58 353.422 1455 Q356.501 1450.39 362.311 1450.39 Z\" fill=\"#000000\" fill-rule=\"nonzero\" fill-opacity=\"1\" /><path clip-path=\"url(#clip650)\" d=\"M383.283 1481.64 L390.922 1481.64 L390.922 1455.28 L382.612 1456.95 L382.612 1452.69 L390.876 1451.02 L395.552 1451.02 L395.552 1481.64 L403.191 1481.64 L403.191 1485.58 L383.283 1485.58 L383.283 1481.64 Z\" fill=\"#000000\" fill-rule=\"nonzero\" fill-opacity=\"1\" /><path clip-path=\"url(#clip650)\" d=\"M534.716 1481.64 L551.035 1481.64 L551.035 1485.58 L529.091 1485.58 L529.091 1481.64 Q531.753 1478.89 536.336 1474.26 Q540.942 1469.61 542.123 1468.27 Q544.368 1465.74 545.248 1464.01 Q546.151 1462.25 546.151 1460.56 Q546.151 1457.8 544.206 1456.07 Q542.285 1454.33 539.183 1454.33 Q536.984 1454.33 534.53 1455.09 Q532.1 1455.86 529.322 1457.41 L529.322 1452.69 Q532.146 1451.55 534.6 1450.97 Q537.054 1450.39 539.091 1450.39 Q544.461 1450.39 547.655 1453.08 Q550.85 1455.77 550.85 1460.26 Q550.85 1462.39 550.04 1464.31 Q549.253 1466.2 547.146 1468.8 Q546.567 1469.47 543.466 1472.69 Q540.364 1475.88 534.716 1481.64 Z\" fill=\"#000000\" fill-rule=\"nonzero\" fill-opacity=\"1\" /><path clip-path=\"url(#clip650)\" d=\"M570.85 1454.1 Q567.239 1454.1 565.41 1457.66 Q563.604 1461.2 563.604 1468.33 Q563.604 1475.44 565.41 1479.01 Q567.239 1482.55 570.85 1482.55 Q574.484 1482.55 576.289 1479.01 Q578.118 1475.44 578.118 1468.33 Q578.118 1461.2 576.289 1457.66 Q574.484 1454.1 570.85 1454.1 M570.85 1450.39 Q576.66 1450.39 579.715 1455 Q582.794 1459.58 582.794 1468.33 Q582.794 1477.06 579.715 1481.67 Q576.66 1486.25 570.85 1486.25 Q565.04 1486.25 561.961 1481.67 Q558.905 1477.06 558.905 1468.33 Q558.905 1459.58 561.961 1455 Q565.04 1450.39 570.85 1450.39 Z\" fill=\"#000000\" fill-rule=\"nonzero\" fill-opacity=\"1\" /><path clip-path=\"url(#clip650)\" d=\"M595.039 1481.64 L611.359 1481.64 L611.359 1485.58 L589.414 1485.58 L589.414 1481.64 Q592.076 1478.89 596.66 1474.26 Q601.266 1469.61 602.447 1468.27 Q604.692 1465.74 605.572 1464.01 Q606.474 1462.25 606.474 1460.56 Q606.474 1457.8 604.53 1456.07 Q602.609 1454.33 599.507 1454.33 Q597.308 1454.33 594.854 1455.09 Q592.424 1455.86 589.646 1457.41 L589.646 1452.69 Q592.47 1451.55 594.924 1450.97 Q597.377 1450.39 599.414 1450.39 Q604.785 1450.39 607.979 1453.08 Q611.174 1455.77 611.174 1460.26 Q611.174 1462.39 610.363 1464.31 Q609.576 1466.2 607.47 1468.8 Q606.891 1469.47 603.789 1472.69 Q600.687 1475.88 595.039 1481.64 Z\" fill=\"#000000\" fill-rule=\"nonzero\" fill-opacity=\"1\" /><path clip-path=\"url(#clip650)\" d=\"M631.173 1454.1 Q627.562 1454.1 625.734 1457.66 Q623.928 1461.2 623.928 1468.33 Q623.928 1475.44 625.734 1479.01 Q627.562 1482.55 631.173 1482.55 Q634.808 1482.55 636.613 1479.01 Q638.442 1475.44 638.442 1468.33 Q638.442 1461.2 636.613 1457.66 Q634.808 1454.1 631.173 1454.1 M631.173 1450.39 Q636.984 1450.39 640.039 1455 Q643.118 1459.58 643.118 1468.33 Q643.118 1477.06 640.039 1481.67 Q636.984 1486.25 631.173 1486.25 Q625.363 1486.25 622.285 1481.67 Q619.229 1477.06 619.229 1468.33 Q619.229 1459.58 622.285 1455 Q625.363 1450.39 631.173 1450.39 Z\" fill=\"#000000\" fill-rule=\"nonzero\" fill-opacity=\"1\" /><path clip-path=\"url(#clip650)\" d=\"M648.581 1470.7 L661.058 1470.7 L661.058 1474.49 L648.581 1474.49 L648.581 1470.7 Z\" fill=\"#000000\" fill-rule=\"nonzero\" fill-opacity=\"1\" /><path clip-path=\"url(#clip650)\" d=\"M678.442 1454.1 Q674.831 1454.1 673.002 1457.66 Q671.196 1461.2 671.196 1468.33 Q671.196 1475.44 673.002 1479.01 Q674.831 1482.55 678.442 1482.55 Q682.076 1482.55 683.881 1479.01 Q685.71 1475.44 685.71 1468.33 Q685.71 1461.2 683.881 1457.66 Q682.076 1454.1 678.442 1454.1 M678.442 1450.39 Q684.252 1450.39 687.307 1455 Q690.386 1459.58 690.386 1468.33 Q690.386 1477.06 687.307 1481.67 Q684.252 1486.25 678.442 1486.25 Q672.632 1486.25 669.553 1481.67 Q666.497 1477.06 666.497 1468.33 Q666.497 1459.58 669.553 1455 Q672.632 1450.39 678.442 1450.39 Z\" fill=\"#000000\" fill-rule=\"nonzero\" fill-opacity=\"1\" /><path clip-path=\"url(#clip650)\" d=\"M699.414 1481.64 L707.053 1481.64 L707.053 1455.28 L698.743 1456.95 L698.743 1452.69 L707.006 1451.02 L711.682 1451.02 L711.682 1481.64 L719.321 1481.64 L719.321 1485.58 L699.414 1485.58 L699.414 1481.64 Z\" fill=\"#000000\" fill-rule=\"nonzero\" fill-opacity=\"1\" /><path clip-path=\"url(#clip650)\" d=\"M726.011 1470.7 L738.488 1470.7 L738.488 1474.49 L726.011 1474.49 L726.011 1470.7 Z\" fill=\"#000000\" fill-rule=\"nonzero\" fill-opacity=\"1\" /><path clip-path=\"url(#clip650)\" d=\"M755.872 1454.1 Q752.261 1454.1 750.432 1457.66 Q748.626 1461.2 748.626 1468.33 Q748.626 1475.44 750.432 1479.01 Q752.261 1482.55 755.872 1482.55 Q759.506 1482.55 761.312 1479.01 Q763.14 1475.44 763.14 1468.33 Q763.14 1461.2 761.312 1457.66 Q759.506 1454.1 755.872 1454.1 M755.872 1450.39 Q761.682 1450.39 764.738 1455 Q767.816 1459.58 767.816 1468.33 Q767.816 1477.06 764.738 1481.67 Q761.682 1486.25 755.872 1486.25 Q750.062 1486.25 746.983 1481.67 Q743.927 1477.06 743.927 1468.33 Q743.927 1459.58 746.983 1455 Q750.062 1450.39 755.872 1450.39 Z\" fill=\"#000000\" fill-rule=\"nonzero\" fill-opacity=\"1\" /><path clip-path=\"url(#clip650)\" d=\"M776.844 1481.64 L784.483 1481.64 L784.483 1455.28 L776.173 1456.95 L776.173 1452.69 L784.436 1451.02 L789.112 1451.02 L789.112 1481.64 L796.751 1481.64 L796.751 1485.58 L776.844 1485.58 L776.844 1481.64 Z\" fill=\"#000000\" fill-rule=\"nonzero\" fill-opacity=\"1\" /><path clip-path=\"url(#clip650)\" d=\"M929.354 1481.64 L945.674 1481.64 L945.674 1485.58 L923.729 1485.58 L923.729 1481.64 Q926.391 1478.89 930.975 1474.26 Q935.581 1469.61 936.762 1468.27 Q939.007 1465.74 939.887 1464.01 Q940.789 1462.25 940.789 1460.56 Q940.789 1457.8 938.845 1456.07 Q936.924 1454.33 933.822 1454.33 Q931.623 1454.33 929.169 1455.09 Q926.739 1455.86 923.961 1457.41 L923.961 1452.69 Q926.785 1451.55 929.239 1450.97 Q931.692 1450.39 933.729 1450.39 Q939.1 1450.39 942.294 1453.08 Q945.489 1455.77 945.489 1460.26 Q945.489 1462.39 944.678 1464.31 Q943.891 1466.2 941.785 1468.8 Q941.206 1469.47 938.104 1472.69 Q935.002 1475.88 929.354 1481.64 Z\" fill=\"#000000\" fill-rule=\"nonzero\" fill-opacity=\"1\" /><path clip-path=\"url(#clip650)\" d=\"M965.488 1454.1 Q961.877 1454.1 960.049 1457.66 Q958.243 1461.2 958.243 1468.33 Q958.243 1475.44 960.049 1479.01 Q961.877 1482.55 965.488 1482.55 Q969.123 1482.55 970.928 1479.01 Q972.757 1475.44 972.757 1468.33 Q972.757 1461.2 970.928 1457.66 Q969.123 1454.1 965.488 1454.1 M965.488 1450.39 Q971.299 1450.39 974.354 1455 Q977.433 1459.58 977.433 1468.33 Q977.433 1477.06 974.354 1481.67 Q971.299 1486.25 965.488 1486.25 Q959.678 1486.25 956.6 1481.67 Q953.544 1477.06 953.544 1468.33 Q953.544 1459.58 956.6 1455 Q959.678 1450.39 965.488 1450.39 Z\" fill=\"#000000\" fill-rule=\"nonzero\" fill-opacity=\"1\" /><path clip-path=\"url(#clip650)\" d=\"M989.678 1481.64 L1006 1481.64 L1006 1485.58 L984.053 1485.58 L984.053 1481.64 Q986.715 1478.89 991.298 1474.26 Q995.905 1469.61 997.085 1468.27 Q999.331 1465.74 1000.21 1464.01 Q1001.11 1462.25 1001.11 1460.56 Q1001.11 1457.8 999.169 1456.07 Q997.248 1454.33 994.146 1454.33 Q991.947 1454.33 989.493 1455.09 Q987.062 1455.86 984.285 1457.41 L984.285 1452.69 Q987.109 1451.55 989.562 1450.97 Q992.016 1450.39 994.053 1450.39 Q999.423 1450.39 1002.62 1453.08 Q1005.81 1455.77 1005.81 1460.26 Q1005.81 1462.39 1005 1464.31 Q1004.22 1466.2 1002.11 1468.8 Q1001.53 1469.47 998.428 1472.69 Q995.326 1475.88 989.678 1481.64 Z\" fill=\"#000000\" fill-rule=\"nonzero\" fill-opacity=\"1\" /><path clip-path=\"url(#clip650)\" d=\"M1016.62 1481.64 L1024.26 1481.64 L1024.26 1455.28 L1015.95 1456.95 L1015.95 1452.69 L1024.21 1451.02 L1028.89 1451.02 L1028.89 1481.64 L1036.53 1481.64 L1036.53 1485.58 L1016.62 1485.58 L1016.62 1481.64 Z\" fill=\"#000000\" fill-rule=\"nonzero\" fill-opacity=\"1\" /><path clip-path=\"url(#clip650)\" d=\"M1043.22 1470.7 L1055.7 1470.7 L1055.7 1474.49 L1043.22 1474.49 L1043.22 1470.7 Z\" fill=\"#000000\" fill-rule=\"nonzero\" fill-opacity=\"1\" /><path clip-path=\"url(#clip650)\" d=\"M1073.08 1454.1 Q1069.47 1454.1 1067.64 1457.66 Q1065.84 1461.2 1065.84 1468.33 Q1065.84 1475.44 1067.64 1479.01 Q1069.47 1482.55 1073.08 1482.55 Q1076.71 1482.55 1078.52 1479.01 Q1080.35 1475.44 1080.35 1468.33 Q1080.35 1461.2 1078.52 1457.66 Q1076.71 1454.1 1073.08 1454.1 M1073.08 1450.39 Q1078.89 1450.39 1081.95 1455 Q1085.02 1459.58 1085.02 1468.33 Q1085.02 1477.06 1081.95 1481.67 Q1078.89 1486.25 1073.08 1486.25 Q1067.27 1486.25 1064.19 1481.67 Q1061.14 1477.06 1061.14 1468.33 Q1061.14 1459.58 1064.19 1455 Q1067.27 1450.39 1073.08 1450.39 Z\" fill=\"#000000\" fill-rule=\"nonzero\" fill-opacity=\"1\" /><path clip-path=\"url(#clip650)\" d=\"M1094.05 1481.64 L1101.69 1481.64 L1101.69 1455.28 L1093.38 1456.95 L1093.38 1452.69 L1101.65 1451.02 L1106.32 1451.02 L1106.32 1481.64 L1113.96 1481.64 L1113.96 1485.58 L1094.05 1485.58 L1094.05 1481.64 Z\" fill=\"#000000\" fill-rule=\"nonzero\" fill-opacity=\"1\" /><path clip-path=\"url(#clip650)\" d=\"M1120.65 1470.7 L1133.13 1470.7 L1133.13 1474.49 L1120.65 1474.49 L1120.65 1470.7 Z\" fill=\"#000000\" fill-rule=\"nonzero\" fill-opacity=\"1\" /><path clip-path=\"url(#clip650)\" d=\"M1150.51 1454.1 Q1146.9 1454.1 1145.07 1457.66 Q1143.27 1461.2 1143.27 1468.33 Q1143.27 1475.44 1145.07 1479.01 Q1146.9 1482.55 1150.51 1482.55 Q1154.14 1482.55 1155.95 1479.01 Q1157.78 1475.44 1157.78 1468.33 Q1157.78 1461.2 1155.95 1457.66 Q1154.14 1454.1 1150.51 1454.1 M1150.51 1450.39 Q1156.32 1450.39 1159.38 1455 Q1162.45 1459.58 1162.45 1468.33 Q1162.45 1477.06 1159.38 1481.67 Q1156.32 1486.25 1150.51 1486.25 Q1144.7 1486.25 1141.62 1481.67 Q1138.57 1477.06 1138.57 1468.33 Q1138.57 1459.58 1141.62 1455 Q1144.7 1450.39 1150.51 1450.39 Z\" fill=\"#000000\" fill-rule=\"nonzero\" fill-opacity=\"1\" /><path clip-path=\"url(#clip650)\" d=\"M1171.48 1481.64 L1179.12 1481.64 L1179.12 1455.28 L1170.81 1456.95 L1170.81 1452.69 L1179.08 1451.02 L1183.75 1451.02 L1183.75 1481.64 L1191.39 1481.64 L1191.39 1485.58 L1171.48 1485.58 L1171.48 1481.64 Z\" fill=\"#000000\" fill-rule=\"nonzero\" fill-opacity=\"1\" /><path clip-path=\"url(#clip650)\" d=\"M1322.91 1481.64 L1339.23 1481.64 L1339.23 1485.58 L1317.29 1485.58 L1317.29 1481.64 Q1319.95 1478.89 1324.54 1474.26 Q1329.14 1469.61 1330.32 1468.27 Q1332.57 1465.74 1333.45 1464.01 Q1334.35 1462.25 1334.35 1460.56 Q1334.35 1457.8 1332.41 1456.07 Q1330.48 1454.33 1327.38 1454.33 Q1325.18 1454.33 1322.73 1455.09 Q1320.3 1455.86 1317.52 1457.41 L1317.52 1452.69 Q1320.35 1451.55 1322.8 1450.97 Q1325.25 1450.39 1327.29 1450.39 Q1332.66 1450.39 1335.85 1453.08 Q1339.05 1455.77 1339.05 1460.26 Q1339.05 1462.39 1338.24 1464.31 Q1337.45 1466.2 1335.35 1468.8 Q1334.77 1469.47 1331.66 1472.69 Q1328.56 1475.88 1322.91 1481.64 Z\" fill=\"#000000\" fill-rule=\"nonzero\" fill-opacity=\"1\" /><path clip-path=\"url(#clip650)\" d=\"M1359.05 1454.1 Q1355.44 1454.1 1353.61 1457.66 Q1351.8 1461.2 1351.8 1468.33 Q1351.8 1475.44 1353.61 1479.01 Q1355.44 1482.55 1359.05 1482.55 Q1362.68 1482.55 1364.49 1479.01 Q1366.32 1475.44 1366.32 1468.33 Q1366.32 1461.2 1364.49 1457.66 Q1362.68 1454.1 1359.05 1454.1 M1359.05 1450.39 Q1364.86 1450.39 1367.91 1455 Q1370.99 1459.58 1370.99 1468.33 Q1370.99 1477.06 1367.91 1481.67 Q1364.86 1486.25 1359.05 1486.25 Q1353.24 1486.25 1350.16 1481.67 Q1347.1 1477.06 1347.1 1468.33 Q1347.1 1459.58 1350.16 1455 Q1353.24 1450.39 1359.05 1450.39 Z\" fill=\"#000000\" fill-rule=\"nonzero\" fill-opacity=\"1\" /><path clip-path=\"url(#clip650)\" d=\"M1383.24 1481.64 L1399.56 1481.64 L1399.56 1485.58 L1377.61 1485.58 L1377.61 1481.64 Q1380.28 1478.89 1384.86 1474.26 Q1389.47 1469.61 1390.65 1468.27 Q1392.89 1465.74 1393.77 1464.01 Q1394.67 1462.25 1394.67 1460.56 Q1394.67 1457.8 1392.73 1456.07 Q1390.81 1454.33 1387.71 1454.33 Q1385.51 1454.33 1383.05 1455.09 Q1380.62 1455.86 1377.85 1457.41 L1377.85 1452.69 Q1380.67 1451.55 1383.12 1450.97 Q1385.58 1450.39 1387.61 1450.39 Q1392.98 1450.39 1396.18 1453.08 Q1399.37 1455.77 1399.37 1460.26 Q1399.37 1462.39 1398.56 1464.31 Q1397.78 1466.2 1395.67 1468.8 Q1395.09 1469.47 1391.99 1472.69 Q1388.89 1475.88 1383.24 1481.64 Z\" fill=\"#000000\" fill-rule=\"nonzero\" fill-opacity=\"1\" /><path clip-path=\"url(#clip650)\" d=\"M1413.4 1481.64 L1429.72 1481.64 L1429.72 1485.58 L1407.78 1485.58 L1407.78 1481.64 Q1410.44 1478.89 1415.02 1474.26 Q1419.63 1469.61 1420.81 1468.27 Q1423.05 1465.74 1423.93 1464.01 Q1424.84 1462.25 1424.84 1460.56 Q1424.84 1457.8 1422.89 1456.07 Q1420.97 1454.33 1417.87 1454.33 Q1415.67 1454.33 1413.22 1455.09 Q1410.78 1455.86 1408.01 1457.41 L1408.01 1452.69 Q1410.83 1451.55 1413.28 1450.97 Q1415.74 1450.39 1417.78 1450.39 Q1423.15 1450.39 1426.34 1453.08 Q1429.53 1455.77 1429.53 1460.26 Q1429.53 1462.39 1428.72 1464.31 Q1427.94 1466.2 1425.83 1468.8 Q1425.25 1469.47 1422.15 1472.69 Q1419.05 1475.88 1413.4 1481.64 Z\" fill=\"#000000\" fill-rule=\"nonzero\" fill-opacity=\"1\" /><path clip-path=\"url(#clip650)\" d=\"M1436.78 1470.7 L1449.26 1470.7 L1449.26 1474.49 L1436.78 1474.49 L1436.78 1470.7 Z\" fill=\"#000000\" fill-rule=\"nonzero\" fill-opacity=\"1\" /><path clip-path=\"url(#clip650)\" d=\"M1466.64 1454.1 Q1463.03 1454.1 1461.2 1457.66 Q1459.4 1461.2 1459.4 1468.33 Q1459.4 1475.44 1461.2 1479.01 Q1463.03 1482.55 1466.64 1482.55 Q1470.28 1482.55 1472.08 1479.01 Q1473.91 1475.44 1473.91 1468.33 Q1473.91 1461.2 1472.08 1457.66 Q1470.28 1454.1 1466.64 1454.1 M1466.64 1450.39 Q1472.45 1450.39 1475.51 1455 Q1478.59 1459.58 1478.59 1468.33 Q1478.59 1477.06 1475.51 1481.67 Q1472.45 1486.25 1466.64 1486.25 Q1460.83 1486.25 1457.75 1481.67 Q1454.7 1477.06 1454.7 1468.33 Q1454.7 1459.58 1457.75 1455 Q1460.83 1450.39 1466.64 1450.39 Z\" fill=\"#000000\" fill-rule=\"nonzero\" fill-opacity=\"1\" /><path clip-path=\"url(#clip650)\" d=\"M1487.61 1481.64 L1495.25 1481.64 L1495.25 1455.28 L1486.94 1456.95 L1486.94 1452.69 L1495.21 1451.02 L1499.88 1451.02 L1499.88 1481.64 L1507.52 1481.64 L1507.52 1485.58 L1487.61 1485.58 L1487.61 1481.64 Z\" fill=\"#000000\" fill-rule=\"nonzero\" fill-opacity=\"1\" /><path clip-path=\"url(#clip650)\" d=\"M1514.21 1470.7 L1526.69 1470.7 L1526.69 1474.49 L1514.21 1474.49 L1514.21 1470.7 Z\" fill=\"#000000\" fill-rule=\"nonzero\" fill-opacity=\"1\" /><path clip-path=\"url(#clip650)\" d=\"M1544.07 1454.1 Q1540.46 1454.1 1538.63 1457.66 Q1536.83 1461.2 1536.83 1468.33 Q1536.83 1475.44 1538.63 1479.01 Q1540.46 1482.55 1544.07 1482.55 Q1547.71 1482.55 1549.51 1479.01 Q1551.34 1475.44 1551.34 1468.33 Q1551.34 1461.2 1549.51 1457.66 Q1547.71 1454.1 1544.07 1454.1 M1544.07 1450.39 Q1549.88 1450.39 1552.94 1455 Q1556.02 1459.58 1556.02 1468.33 Q1556.02 1477.06 1552.94 1481.67 Q1549.88 1486.25 1544.07 1486.25 Q1538.26 1486.25 1535.18 1481.67 Q1532.13 1477.06 1532.13 1468.33 Q1532.13 1459.58 1535.18 1455 Q1538.26 1450.39 1544.07 1450.39 Z\" fill=\"#000000\" fill-rule=\"nonzero\" fill-opacity=\"1\" /><path clip-path=\"url(#clip650)\" d=\"M1565.04 1481.64 L1572.68 1481.64 L1572.68 1455.28 L1564.37 1456.95 L1564.37 1452.69 L1572.64 1451.02 L1577.31 1451.02 L1577.31 1481.64 L1584.95 1481.64 L1584.95 1485.58 L1565.04 1485.58 L1565.04 1481.64 Z\" fill=\"#000000\" fill-rule=\"nonzero\" fill-opacity=\"1\" /><path clip-path=\"url(#clip650)\" d=\"M1716.48 1481.64 L1732.79 1481.64 L1732.79 1485.58 L1710.85 1485.58 L1710.85 1481.64 Q1713.51 1478.89 1718.1 1474.26 Q1722.7 1469.61 1723.88 1468.27 Q1726.13 1465.74 1727.01 1464.01 Q1727.91 1462.25 1727.91 1460.56 Q1727.91 1457.8 1725.97 1456.07 Q1724.04 1454.33 1720.94 1454.33 Q1718.74 1454.33 1716.29 1455.09 Q1713.86 1455.86 1711.08 1457.41 L1711.08 1452.69 Q1713.91 1451.55 1716.36 1450.97 Q1718.81 1450.39 1720.85 1450.39 Q1726.22 1450.39 1729.42 1453.08 Q1732.61 1455.77 1732.61 1460.26 Q1732.61 1462.39 1731.8 1464.31 Q1731.01 1466.2 1728.91 1468.8 Q1728.33 1469.47 1725.23 1472.69 Q1722.12 1475.88 1716.48 1481.64 Z\" fill=\"#000000\" fill-rule=\"nonzero\" fill-opacity=\"1\" /><path clip-path=\"url(#clip650)\" d=\"M1752.61 1454.1 Q1749 1454.1 1747.17 1457.66 Q1745.36 1461.2 1745.36 1468.33 Q1745.36 1475.44 1747.17 1479.01 Q1749 1482.55 1752.61 1482.55 Q1756.24 1482.55 1758.05 1479.01 Q1759.88 1475.44 1759.88 1468.33 Q1759.88 1461.2 1758.05 1457.66 Q1756.24 1454.1 1752.61 1454.1 M1752.61 1450.39 Q1758.42 1450.39 1761.48 1455 Q1764.55 1459.58 1764.55 1468.33 Q1764.55 1477.06 1761.48 1481.67 Q1758.42 1486.25 1752.61 1486.25 Q1746.8 1486.25 1743.72 1481.67 Q1740.67 1477.06 1740.67 1468.33 Q1740.67 1459.58 1743.72 1455 Q1746.8 1450.39 1752.61 1450.39 Z\" fill=\"#000000\" fill-rule=\"nonzero\" fill-opacity=\"1\" /><path clip-path=\"url(#clip650)\" d=\"M1776.8 1481.64 L1793.12 1481.64 L1793.12 1485.58 L1771.17 1485.58 L1771.17 1481.64 Q1773.84 1478.89 1778.42 1474.26 Q1783.03 1469.61 1784.21 1468.27 Q1786.45 1465.74 1787.33 1464.01 Q1788.23 1462.25 1788.23 1460.56 Q1788.23 1457.8 1786.29 1456.07 Q1784.37 1454.33 1781.27 1454.33 Q1779.07 1454.33 1776.61 1455.09 Q1774.18 1455.86 1771.41 1457.41 L1771.41 1452.69 Q1774.23 1451.55 1776.68 1450.97 Q1779.14 1450.39 1781.17 1450.39 Q1786.54 1450.39 1789.74 1453.08 Q1792.93 1455.77 1792.93 1460.26 Q1792.93 1462.39 1792.12 1464.31 Q1791.34 1466.2 1789.23 1468.8 Q1788.65 1469.47 1785.55 1472.69 Q1782.45 1475.88 1776.8 1481.64 Z\" fill=\"#000000\" fill-rule=\"nonzero\" fill-opacity=\"1\" /><path clip-path=\"url(#clip650)\" d=\"M1817.1 1466.95 Q1820.46 1467.66 1822.33 1469.93 Q1824.23 1472.2 1824.23 1475.53 Q1824.23 1480.65 1820.71 1483.45 Q1817.19 1486.25 1810.71 1486.25 Q1808.54 1486.25 1806.22 1485.81 Q1803.93 1485.39 1801.47 1484.54 L1801.47 1480.02 Q1803.42 1481.16 1805.73 1481.74 Q1808.05 1482.32 1810.57 1482.32 Q1814.97 1482.32 1817.26 1480.58 Q1819.58 1478.84 1819.58 1475.53 Q1819.58 1472.48 1817.42 1470.77 Q1815.29 1469.03 1811.47 1469.03 L1807.45 1469.03 L1807.45 1465.19 L1811.66 1465.19 Q1815.11 1465.19 1816.94 1463.82 Q1818.77 1462.43 1818.77 1459.84 Q1818.77 1457.18 1816.87 1455.77 Q1814.99 1454.33 1811.47 1454.33 Q1809.55 1454.33 1807.35 1454.75 Q1805.16 1455.16 1802.52 1456.04 L1802.52 1451.88 Q1805.18 1451.14 1807.49 1450.77 Q1809.83 1450.39 1811.89 1450.39 Q1817.22 1450.39 1820.32 1452.83 Q1823.42 1455.23 1823.42 1459.35 Q1823.42 1462.22 1821.78 1464.21 Q1820.13 1466.18 1817.1 1466.95 Z\" fill=\"#000000\" fill-rule=\"nonzero\" fill-opacity=\"1\" /><path clip-path=\"url(#clip650)\" d=\"M1830.34 1470.7 L1842.82 1470.7 L1842.82 1474.49 L1830.34 1474.49 L1830.34 1470.7 Z\" fill=\"#000000\" fill-rule=\"nonzero\" fill-opacity=\"1\" /><path clip-path=\"url(#clip650)\" d=\"M1860.2 1454.1 Q1856.59 1454.1 1854.76 1457.66 Q1852.96 1461.2 1852.96 1468.33 Q1852.96 1475.44 1854.76 1479.01 Q1856.59 1482.55 1860.2 1482.55 Q1863.84 1482.55 1865.64 1479.01 Q1867.47 1475.44 1867.47 1468.33 Q1867.47 1461.2 1865.64 1457.66 Q1863.84 1454.1 1860.2 1454.1 M1860.2 1450.39 Q1866.01 1450.39 1869.07 1455 Q1872.15 1459.58 1872.15 1468.33 Q1872.15 1477.06 1869.07 1481.67 Q1866.01 1486.25 1860.2 1486.25 Q1854.39 1486.25 1851.31 1481.67 Q1848.26 1477.06 1848.26 1468.33 Q1848.26 1459.58 1851.31 1455 Q1854.39 1450.39 1860.2 1450.39 Z\" fill=\"#000000\" fill-rule=\"nonzero\" fill-opacity=\"1\" /><path clip-path=\"url(#clip650)\" d=\"M1881.17 1481.64 L1888.81 1481.64 L1888.81 1455.28 L1880.5 1456.95 L1880.5 1452.69 L1888.77 1451.02 L1893.44 1451.02 L1893.44 1481.64 L1901.08 1481.64 L1901.08 1485.58 L1881.17 1485.58 L1881.17 1481.64 Z\" fill=\"#000000\" fill-rule=\"nonzero\" fill-opacity=\"1\" /><path clip-path=\"url(#clip650)\" d=\"M1907.77 1470.7 L1920.25 1470.7 L1920.25 1474.49 L1907.77 1474.49 L1907.77 1470.7 Z\" fill=\"#000000\" fill-rule=\"nonzero\" fill-opacity=\"1\" /><path clip-path=\"url(#clip650)\" d=\"M1937.63 1454.1 Q1934.02 1454.1 1932.19 1457.66 Q1930.39 1461.2 1930.39 1468.33 Q1930.39 1475.44 1932.19 1479.01 Q1934.02 1482.55 1937.63 1482.55 Q1941.27 1482.55 1943.07 1479.01 Q1944.9 1475.44 1944.9 1468.33 Q1944.9 1461.2 1943.07 1457.66 Q1941.27 1454.1 1937.63 1454.1 M1937.63 1450.39 Q1943.44 1450.39 1946.5 1455 Q1949.58 1459.58 1949.58 1468.33 Q1949.58 1477.06 1946.5 1481.67 Q1943.44 1486.25 1937.63 1486.25 Q1931.82 1486.25 1928.74 1481.67 Q1925.69 1477.06 1925.69 1468.33 Q1925.69 1459.58 1928.74 1455 Q1931.82 1450.39 1937.63 1450.39 Z\" fill=\"#000000\" fill-rule=\"nonzero\" fill-opacity=\"1\" /><path clip-path=\"url(#clip650)\" d=\"M1958.6 1481.64 L1966.24 1481.64 L1966.24 1455.28 L1957.93 1456.95 L1957.93 1452.69 L1966.2 1451.02 L1970.87 1451.02 L1970.87 1481.64 L1978.51 1481.64 L1978.51 1485.58 L1958.6 1485.58 L1958.6 1481.64 Z\" fill=\"#000000\" fill-rule=\"nonzero\" fill-opacity=\"1\" /><path clip-path=\"url(#clip650)\" d=\"M2110.04 1481.64 L2126.36 1481.64 L2126.36 1485.58 L2104.41 1485.58 L2104.41 1481.64 Q2107.07 1478.89 2111.66 1474.26 Q2116.26 1469.61 2117.44 1468.27 Q2119.69 1465.74 2120.57 1464.01 Q2121.47 1462.25 2121.47 1460.56 Q2121.47 1457.8 2119.53 1456.07 Q2117.61 1454.33 2114.5 1454.33 Q2112.3 1454.33 2109.85 1455.09 Q2107.42 1455.86 2104.64 1457.41 L2104.64 1452.69 Q2107.47 1451.55 2109.92 1450.97 Q2112.37 1450.39 2114.41 1450.39 Q2119.78 1450.39 2122.98 1453.08 Q2126.17 1455.77 2126.17 1460.26 Q2126.17 1462.39 2125.36 1464.31 Q2124.57 1466.2 2122.47 1468.8 Q2121.89 1469.47 2118.79 1472.69 Q2115.68 1475.88 2110.04 1481.64 Z\" fill=\"#000000\" fill-rule=\"nonzero\" fill-opacity=\"1\" /><path clip-path=\"url(#clip650)\" d=\"M2146.17 1454.1 Q2142.56 1454.1 2140.73 1457.66 Q2138.92 1461.2 2138.92 1468.33 Q2138.92 1475.44 2140.73 1479.01 Q2142.56 1482.55 2146.17 1482.55 Q2149.8 1482.55 2151.61 1479.01 Q2153.44 1475.44 2153.44 1468.33 Q2153.44 1461.2 2151.61 1457.66 Q2149.8 1454.1 2146.17 1454.1 M2146.17 1450.39 Q2151.98 1450.39 2155.04 1455 Q2158.11 1459.58 2158.11 1468.33 Q2158.11 1477.06 2155.04 1481.67 Q2151.98 1486.25 2146.17 1486.25 Q2140.36 1486.25 2137.28 1481.67 Q2134.23 1477.06 2134.23 1468.33 Q2134.23 1459.58 2137.28 1455 Q2140.36 1450.39 2146.17 1450.39 Z\" fill=\"#000000\" fill-rule=\"nonzero\" fill-opacity=\"1\" /><path clip-path=\"url(#clip650)\" d=\"M2170.36 1481.64 L2186.68 1481.64 L2186.68 1485.58 L2164.73 1485.58 L2164.73 1481.64 Q2167.4 1478.89 2171.98 1474.26 Q2176.59 1469.61 2177.77 1468.27 Q2180.01 1465.74 2180.89 1464.01 Q2181.79 1462.25 2181.79 1460.56 Q2181.79 1457.8 2179.85 1456.07 Q2177.93 1454.33 2174.83 1454.33 Q2172.63 1454.33 2170.17 1455.09 Q2167.74 1455.86 2164.97 1457.41 L2164.97 1452.69 Q2167.79 1451.55 2170.24 1450.97 Q2172.7 1450.39 2174.73 1450.39 Q2180.1 1450.39 2183.3 1453.08 Q2186.49 1455.77 2186.49 1460.26 Q2186.49 1462.39 2185.68 1464.31 Q2184.9 1466.2 2182.79 1468.8 Q2182.21 1469.47 2179.11 1472.69 Q2176.01 1475.88 2170.36 1481.64 Z\" fill=\"#000000\" fill-rule=\"nonzero\" fill-opacity=\"1\" /><path clip-path=\"url(#clip650)\" d=\"M2209.34 1455.09 L2197.54 1473.54 L2209.34 1473.54 L2209.34 1455.09 M2208.11 1451.02 L2213.99 1451.02 L2213.99 1473.54 L2218.92 1473.54 L2218.92 1477.43 L2213.99 1477.43 L2213.99 1485.58 L2209.34 1485.58 L2209.34 1477.43 L2193.74 1477.43 L2193.74 1472.92 L2208.11 1451.02 Z\" fill=\"#000000\" fill-rule=\"nonzero\" fill-opacity=\"1\" /><path clip-path=\"url(#clip650)\" d=\"M2223.9 1470.7 L2236.38 1470.7 L2236.38 1474.49 L2223.9 1474.49 L2223.9 1470.7 Z\" fill=\"#000000\" fill-rule=\"nonzero\" fill-opacity=\"1\" /><path clip-path=\"url(#clip650)\" d=\"M2253.76 1454.1 Q2250.15 1454.1 2248.32 1457.66 Q2246.52 1461.2 2246.52 1468.33 Q2246.52 1475.44 2248.32 1479.01 Q2250.15 1482.55 2253.76 1482.55 Q2257.4 1482.55 2259.2 1479.01 Q2261.03 1475.44 2261.03 1468.33 Q2261.03 1461.2 2259.2 1457.66 Q2257.4 1454.1 2253.76 1454.1 M2253.76 1450.39 Q2259.57 1450.39 2262.63 1455 Q2265.71 1459.58 2265.71 1468.33 Q2265.71 1477.06 2262.63 1481.67 Q2259.57 1486.25 2253.76 1486.25 Q2247.95 1486.25 2244.87 1481.67 Q2241.82 1477.06 2241.82 1468.33 Q2241.82 1459.58 2244.87 1455 Q2247.95 1450.39 2253.76 1450.39 Z\" fill=\"#000000\" fill-rule=\"nonzero\" fill-opacity=\"1\" /><path clip-path=\"url(#clip650)\" d=\"M2274.73 1481.64 L2282.37 1481.64 L2282.37 1455.28 L2274.06 1456.95 L2274.06 1452.69 L2282.33 1451.02 L2287 1451.02 L2287 1481.64 L2294.64 1481.64 L2294.64 1485.58 L2274.73 1485.58 L2274.73 1481.64 Z\" fill=\"#000000\" fill-rule=\"nonzero\" fill-opacity=\"1\" /><path clip-path=\"url(#clip650)\" d=\"M2301.33 1470.7 L2313.81 1470.7 L2313.81 1474.49 L2301.33 1474.49 L2301.33 1470.7 Z\" fill=\"#000000\" fill-rule=\"nonzero\" fill-opacity=\"1\" /><path clip-path=\"url(#clip650)\" d=\"M2331.19 1454.1 Q2327.58 1454.1 2325.75 1457.66 Q2323.95 1461.2 2323.95 1468.33 Q2323.95 1475.44 2325.75 1479.01 Q2327.58 1482.55 2331.19 1482.55 Q2334.83 1482.55 2336.63 1479.01 Q2338.46 1475.44 2338.46 1468.33 Q2338.46 1461.2 2336.63 1457.66 Q2334.83 1454.1 2331.19 1454.1 M2331.19 1450.39 Q2337 1450.39 2340.06 1455 Q2343.14 1459.58 2343.14 1468.33 Q2343.14 1477.06 2340.06 1481.67 Q2337 1486.25 2331.19 1486.25 Q2325.38 1486.25 2322.3 1481.67 Q2319.25 1477.06 2319.25 1468.33 Q2319.25 1459.58 2322.3 1455 Q2325.38 1450.39 2331.19 1450.39 Z\" fill=\"#000000\" fill-rule=\"nonzero\" fill-opacity=\"1\" /><path clip-path=\"url(#clip650)\" d=\"M2352.16 1481.64 L2359.8 1481.64 L2359.8 1455.28 L2351.49 1456.95 L2351.49 1452.69 L2359.76 1451.02 L2364.43 1451.02 L2364.43 1481.64 L2372.07 1481.64 L2372.07 1485.58 L2352.16 1485.58 L2352.16 1481.64 Z\" fill=\"#000000\" fill-rule=\"nonzero\" fill-opacity=\"1\" /><path clip-path=\"url(#clip650)\" d=\"M1248.26 1522.27 L1248.26 1532.4 L1260.32 1532.4 L1260.32 1536.95 L1248.26 1536.95 L1248.26 1556.3 Q1248.26 1560.66 1249.44 1561.9 Q1250.65 1563.14 1254.31 1563.14 L1260.32 1563.14 L1260.32 1568.04 L1254.31 1568.04 Q1247.53 1568.04 1244.95 1565.53 Q1242.37 1562.98 1242.37 1556.3 L1242.37 1536.95 L1238.07 1536.95 L1238.07 1532.4 L1242.37 1532.4 L1242.37 1522.27 L1248.26 1522.27 Z\" fill=\"#000000\" fill-rule=\"nonzero\" fill-opacity=\"1\" /><path clip-path=\"url(#clip650)\" d=\"M1268.03 1532.4 L1273.88 1532.4 L1273.88 1568.04 L1268.03 1568.04 L1268.03 1532.4 M1268.03 1518.52 L1273.88 1518.52 L1273.88 1525.93 L1268.03 1525.93 L1268.03 1518.52 Z\" fill=\"#000000\" fill-rule=\"nonzero\" fill-opacity=\"1\" /><path clip-path=\"url(#clip650)\" d=\"M1313.89 1539.24 Q1316.09 1535.29 1319.14 1533.41 Q1322.2 1531.54 1326.34 1531.54 Q1331.91 1531.54 1334.93 1535.45 Q1337.95 1539.33 1337.95 1546.53 L1337.95 1568.04 L1332.06 1568.04 L1332.06 1546.72 Q1332.06 1541.59 1330.25 1539.11 Q1328.44 1536.63 1324.71 1536.63 Q1320.16 1536.63 1317.52 1539.65 Q1314.88 1542.68 1314.88 1547.9 L1314.88 1568.04 L1308.99 1568.04 L1308.99 1546.72 Q1308.99 1541.56 1307.17 1539.11 Q1305.36 1536.63 1301.57 1536.63 Q1297.09 1536.63 1294.44 1539.68 Q1291.8 1542.71 1291.8 1547.9 L1291.8 1568.04 L1285.91 1568.04 L1285.91 1532.4 L1291.8 1532.4 L1291.8 1537.93 Q1293.81 1534.66 1296.61 1533.1 Q1299.41 1531.54 1303.26 1531.54 Q1307.14 1531.54 1309.85 1533.51 Q1312.59 1535.48 1313.89 1539.24 Z\" fill=\"#000000\" fill-rule=\"nonzero\" fill-opacity=\"1\" /><path clip-path=\"url(#clip650)\" d=\"M1380.13 1548.76 L1380.13 1551.62 L1353.2 1551.62 Q1353.58 1557.67 1356.83 1560.85 Q1360.11 1564 1365.93 1564 Q1369.3 1564 1372.46 1563.17 Q1375.64 1562.35 1378.76 1560.69 L1378.76 1566.23 Q1375.61 1567.57 1372.3 1568.27 Q1368.99 1568.97 1365.58 1568.97 Q1357.05 1568.97 1352.05 1564 Q1347.09 1559.04 1347.09 1550.57 Q1347.09 1541.82 1351.8 1536.69 Q1356.54 1531.54 1364.56 1531.54 Q1371.75 1531.54 1375.92 1536.18 Q1380.13 1540.8 1380.13 1548.76 M1374.27 1547.04 Q1374.21 1542.23 1371.56 1539.37 Q1368.95 1536.5 1364.63 1536.5 Q1359.72 1536.5 1356.76 1539.27 Q1353.84 1542.04 1353.39 1547.07 L1374.27 1547.04 Z\" fill=\"#000000\" fill-rule=\"nonzero\" fill-opacity=\"1\" /><polyline clip-path=\"url(#clip652)\" style=\"stroke:#000000; stroke-linecap:round; stroke-linejoin:round; stroke-width:2; stroke-opacity:0.1; fill:none\" points=\"265.445,1196.41 2352.76,1196.41 \"/>\n",
       "<polyline clip-path=\"url(#clip652)\" style=\"stroke:#000000; stroke-linecap:round; stroke-linejoin:round; stroke-width:2; stroke-opacity:0.1; fill:none\" points=\"265.445,938.159 2352.76,938.159 \"/>\n",
       "<polyline clip-path=\"url(#clip652)\" style=\"stroke:#000000; stroke-linecap:round; stroke-linejoin:round; stroke-width:2; stroke-opacity:0.1; fill:none\" points=\"265.445,679.907 2352.76,679.907 \"/>\n",
       "<polyline clip-path=\"url(#clip652)\" style=\"stroke:#000000; stroke-linecap:round; stroke-linejoin:round; stroke-width:2; stroke-opacity:0.1; fill:none\" points=\"265.445,421.655 2352.76,421.655 \"/>\n",
       "<polyline clip-path=\"url(#clip652)\" style=\"stroke:#000000; stroke-linecap:round; stroke-linejoin:round; stroke-width:2; stroke-opacity:0.1; fill:none\" points=\"265.445,163.403 2352.76,163.403 \"/>\n",
       "<polyline clip-path=\"url(#clip650)\" style=\"stroke:#000000; stroke-linecap:round; stroke-linejoin:round; stroke-width:4; stroke-opacity:1; fill:none\" points=\"265.445,1423.18 265.445,47.2441 \"/>\n",
       "<polyline clip-path=\"url(#clip650)\" style=\"stroke:#000000; stroke-linecap:round; stroke-linejoin:round; stroke-width:4; stroke-opacity:1; fill:none\" points=\"265.445,1196.41 284.342,1196.41 \"/>\n",
       "<polyline clip-path=\"url(#clip650)\" style=\"stroke:#000000; stroke-linecap:round; stroke-linejoin:round; stroke-width:4; stroke-opacity:1; fill:none\" points=\"265.445,938.159 284.342,938.159 \"/>\n",
       "<polyline clip-path=\"url(#clip650)\" style=\"stroke:#000000; stroke-linecap:round; stroke-linejoin:round; stroke-width:4; stroke-opacity:1; fill:none\" points=\"265.445,679.907 284.342,679.907 \"/>\n",
       "<polyline clip-path=\"url(#clip650)\" style=\"stroke:#000000; stroke-linecap:round; stroke-linejoin:round; stroke-width:4; stroke-opacity:1; fill:none\" points=\"265.445,421.655 284.342,421.655 \"/>\n",
       "<polyline clip-path=\"url(#clip650)\" style=\"stroke:#000000; stroke-linecap:round; stroke-linejoin:round; stroke-width:4; stroke-opacity:1; fill:none\" points=\"265.445,163.403 284.342,163.403 \"/>\n",
       "<path clip-path=\"url(#clip650)\" d=\"M121.043 1209.76 L137.362 1209.76 L137.362 1213.69 L115.418 1213.69 L115.418 1209.76 Q118.08 1207 122.663 1202.37 Q127.269 1197.72 128.45 1196.38 Q130.695 1193.85 131.575 1192.12 Q132.478 1190.36 132.478 1188.67 Q132.478 1185.91 130.533 1184.18 Q128.612 1182.44 125.51 1182.44 Q123.311 1182.44 120.857 1183.21 Q118.427 1183.97 115.649 1185.52 L115.649 1180.8 Q118.473 1179.66 120.927 1179.09 Q123.38 1178.51 125.418 1178.51 Q130.788 1178.51 133.982 1181.19 Q137.177 1183.88 137.177 1188.37 Q137.177 1190.5 136.367 1192.42 Q135.579 1194.32 133.473 1196.91 Q132.894 1197.58 129.792 1200.8 Q126.691 1203.99 121.043 1209.76 Z\" fill=\"#000000\" fill-rule=\"nonzero\" fill-opacity=\"1\" /><path clip-path=\"url(#clip650)\" d=\"M157.177 1182.21 Q153.566 1182.21 151.737 1185.77 Q149.931 1189.32 149.931 1196.45 Q149.931 1203.55 151.737 1207.12 Q153.566 1210.66 157.177 1210.66 Q160.811 1210.66 162.616 1207.12 Q164.445 1203.55 164.445 1196.45 Q164.445 1189.32 162.616 1185.77 Q160.811 1182.21 157.177 1182.21 M157.177 1178.51 Q162.987 1178.51 166.042 1183.11 Q169.121 1187.7 169.121 1196.45 Q169.121 1205.17 166.042 1209.78 Q162.987 1214.36 157.177 1214.36 Q151.366 1214.36 148.288 1209.78 Q145.232 1205.17 145.232 1196.45 Q145.232 1187.7 148.288 1183.11 Q151.366 1178.51 157.177 1178.51 Z\" fill=\"#000000\" fill-rule=\"nonzero\" fill-opacity=\"1\" /><path clip-path=\"url(#clip650)\" d=\"M187.338 1182.21 Q183.727 1182.21 181.899 1185.77 Q180.093 1189.32 180.093 1196.45 Q180.093 1203.55 181.899 1207.12 Q183.727 1210.66 187.338 1210.66 Q190.973 1210.66 192.778 1207.12 Q194.607 1203.55 194.607 1196.45 Q194.607 1189.32 192.778 1185.77 Q190.973 1182.21 187.338 1182.21 M187.338 1178.51 Q193.149 1178.51 196.204 1183.11 Q199.283 1187.7 199.283 1196.45 Q199.283 1205.17 196.204 1209.78 Q193.149 1214.36 187.338 1214.36 Q181.528 1214.36 178.45 1209.78 Q175.394 1205.17 175.394 1196.45 Q175.394 1187.7 178.45 1183.11 Q181.528 1178.51 187.338 1178.51 Z\" fill=\"#000000\" fill-rule=\"nonzero\" fill-opacity=\"1\" /><path clip-path=\"url(#clip650)\" d=\"M217.5 1182.21 Q213.889 1182.21 212.061 1185.77 Q210.255 1189.32 210.255 1196.45 Q210.255 1203.55 212.061 1207.12 Q213.889 1210.66 217.5 1210.66 Q221.135 1210.66 222.94 1207.12 Q224.769 1203.55 224.769 1196.45 Q224.769 1189.32 222.94 1185.77 Q221.135 1182.21 217.5 1182.21 M217.5 1178.51 Q223.31 1178.51 226.366 1183.11 Q229.445 1187.7 229.445 1196.45 Q229.445 1205.17 226.366 1209.78 Q223.31 1214.36 217.5 1214.36 Q211.69 1214.36 208.612 1209.78 Q205.556 1205.17 205.556 1196.45 Q205.556 1187.7 208.612 1183.11 Q211.69 1178.51 217.5 1178.51 Z\" fill=\"#000000\" fill-rule=\"nonzero\" fill-opacity=\"1\" /><path clip-path=\"url(#clip650)\" d=\"M121.043 951.504 L137.362 951.504 L137.362 955.439 L115.418 955.439 L115.418 951.504 Q118.08 948.75 122.663 944.12 Q127.269 939.467 128.45 938.125 Q130.695 935.602 131.575 933.865 Q132.478 932.106 132.478 930.416 Q132.478 927.662 130.533 925.926 Q128.612 924.19 125.51 924.19 Q123.311 924.19 120.857 924.953 Q118.427 925.717 115.649 927.268 L115.649 922.546 Q118.473 921.412 120.927 920.833 Q123.38 920.254 125.418 920.254 Q130.788 920.254 133.982 922.94 Q137.177 925.625 137.177 930.115 Q137.177 932.245 136.367 934.166 Q135.579 936.064 133.473 938.657 Q132.894 939.328 129.792 942.546 Q126.691 945.74 121.043 951.504 Z\" fill=\"#000000\" fill-rule=\"nonzero\" fill-opacity=\"1\" /><path clip-path=\"url(#clip650)\" d=\"M147.223 920.879 L165.579 920.879 L165.579 924.815 L151.505 924.815 L151.505 933.287 Q152.524 932.94 153.542 932.777 Q154.561 932.592 155.579 932.592 Q161.366 932.592 164.746 935.764 Q168.126 938.935 168.126 944.351 Q168.126 949.93 164.653 953.032 Q161.181 956.111 154.862 956.111 Q152.686 956.111 150.417 955.74 Q148.172 955.37 145.765 954.629 L145.765 949.93 Q147.848 951.064 150.07 951.62 Q152.292 952.176 154.769 952.176 Q158.774 952.176 161.112 950.069 Q163.45 947.963 163.45 944.351 Q163.45 940.74 161.112 938.634 Q158.774 936.527 154.769 936.527 Q152.894 936.527 151.019 936.944 Q149.167 937.361 147.223 938.24 L147.223 920.879 Z\" fill=\"#000000\" fill-rule=\"nonzero\" fill-opacity=\"1\" /><path clip-path=\"url(#clip650)\" d=\"M187.338 923.958 Q183.727 923.958 181.899 927.523 Q180.093 931.065 180.093 938.194 Q180.093 945.301 181.899 948.865 Q183.727 952.407 187.338 952.407 Q190.973 952.407 192.778 948.865 Q194.607 945.301 194.607 938.194 Q194.607 931.065 192.778 927.523 Q190.973 923.958 187.338 923.958 M187.338 920.254 Q193.149 920.254 196.204 924.861 Q199.283 929.444 199.283 938.194 Q199.283 946.921 196.204 951.527 Q193.149 956.111 187.338 956.111 Q181.528 956.111 178.45 951.527 Q175.394 946.921 175.394 938.194 Q175.394 929.444 178.45 924.861 Q181.528 920.254 187.338 920.254 Z\" fill=\"#000000\" fill-rule=\"nonzero\" fill-opacity=\"1\" /><path clip-path=\"url(#clip650)\" d=\"M217.5 923.958 Q213.889 923.958 212.061 927.523 Q210.255 931.065 210.255 938.194 Q210.255 945.301 212.061 948.865 Q213.889 952.407 217.5 952.407 Q221.135 952.407 222.94 948.865 Q224.769 945.301 224.769 938.194 Q224.769 931.065 222.94 927.523 Q221.135 923.958 217.5 923.958 M217.5 920.254 Q223.31 920.254 226.366 924.861 Q229.445 929.444 229.445 938.194 Q229.445 946.921 226.366 951.527 Q223.31 956.111 217.5 956.111 Q211.69 956.111 208.612 951.527 Q205.556 946.921 205.556 938.194 Q205.556 929.444 208.612 924.861 Q211.69 920.254 217.5 920.254 Z\" fill=\"#000000\" fill-rule=\"nonzero\" fill-opacity=\"1\" /><path clip-path=\"url(#clip650)\" d=\"M131.181 678.553 Q134.538 679.271 136.413 681.539 Q138.311 683.808 138.311 687.141 Q138.311 692.257 134.792 695.058 Q131.274 697.859 124.793 697.859 Q122.617 697.859 120.302 697.419 Q118.01 697.002 115.556 696.146 L115.556 691.632 Q117.501 692.766 119.816 693.345 Q122.13 693.923 124.654 693.923 Q129.052 693.923 131.343 692.187 Q133.658 690.451 133.658 687.141 Q133.658 684.085 131.505 682.373 Q129.376 680.636 125.556 680.636 L121.529 680.636 L121.529 676.794 L125.742 676.794 Q129.191 676.794 131.019 675.428 Q132.848 674.039 132.848 671.447 Q132.848 668.785 130.95 667.373 Q129.075 665.937 125.556 665.937 Q123.635 665.937 121.436 666.354 Q119.237 666.771 116.598 667.65 L116.598 663.484 Q119.26 662.743 121.575 662.373 Q123.913 662.002 125.973 662.002 Q131.297 662.002 134.399 664.433 Q137.501 666.84 137.501 670.961 Q137.501 673.831 135.857 675.822 Q134.214 677.789 131.181 678.553 Z\" fill=\"#000000\" fill-rule=\"nonzero\" fill-opacity=\"1\" /><path clip-path=\"url(#clip650)\" d=\"M157.177 665.706 Q153.566 665.706 151.737 669.271 Q149.931 672.812 149.931 679.942 Q149.931 687.048 151.737 690.613 Q153.566 694.155 157.177 694.155 Q160.811 694.155 162.616 690.613 Q164.445 687.048 164.445 679.942 Q164.445 672.812 162.616 669.271 Q160.811 665.706 157.177 665.706 M157.177 662.002 Q162.987 662.002 166.042 666.609 Q169.121 671.192 169.121 679.942 Q169.121 688.669 166.042 693.275 Q162.987 697.859 157.177 697.859 Q151.366 697.859 148.288 693.275 Q145.232 688.669 145.232 679.942 Q145.232 671.192 148.288 666.609 Q151.366 662.002 157.177 662.002 Z\" fill=\"#000000\" fill-rule=\"nonzero\" fill-opacity=\"1\" /><path clip-path=\"url(#clip650)\" d=\"M187.338 665.706 Q183.727 665.706 181.899 669.271 Q180.093 672.812 180.093 679.942 Q180.093 687.048 181.899 690.613 Q183.727 694.155 187.338 694.155 Q190.973 694.155 192.778 690.613 Q194.607 687.048 194.607 679.942 Q194.607 672.812 192.778 669.271 Q190.973 665.706 187.338 665.706 M187.338 662.002 Q193.149 662.002 196.204 666.609 Q199.283 671.192 199.283 679.942 Q199.283 688.669 196.204 693.275 Q193.149 697.859 187.338 697.859 Q181.528 697.859 178.45 693.275 Q175.394 688.669 175.394 679.942 Q175.394 671.192 178.45 666.609 Q181.528 662.002 187.338 662.002 Z\" fill=\"#000000\" fill-rule=\"nonzero\" fill-opacity=\"1\" /><path clip-path=\"url(#clip650)\" d=\"M217.5 665.706 Q213.889 665.706 212.061 669.271 Q210.255 672.812 210.255 679.942 Q210.255 687.048 212.061 690.613 Q213.889 694.155 217.5 694.155 Q221.135 694.155 222.94 690.613 Q224.769 687.048 224.769 679.942 Q224.769 672.812 222.94 669.271 Q221.135 665.706 217.5 665.706 M217.5 662.002 Q223.31 662.002 226.366 666.609 Q229.445 671.192 229.445 679.942 Q229.445 688.669 226.366 693.275 Q223.31 697.859 217.5 697.859 Q211.69 697.859 208.612 693.275 Q205.556 688.669 205.556 679.942 Q205.556 671.192 208.612 666.609 Q211.69 662.002 217.5 662.002 Z\" fill=\"#000000\" fill-rule=\"nonzero\" fill-opacity=\"1\" /><path clip-path=\"url(#clip650)\" d=\"M131.181 420.301 Q134.538 421.019 136.413 423.287 Q138.311 425.556 138.311 428.889 Q138.311 434.005 134.792 436.806 Q131.274 439.606 124.793 439.606 Q122.617 439.606 120.302 439.167 Q118.01 438.75 115.556 437.894 L115.556 433.38 Q117.501 434.514 119.816 435.093 Q122.13 435.671 124.654 435.671 Q129.052 435.671 131.343 433.935 Q133.658 432.199 133.658 428.889 Q133.658 425.833 131.505 424.12 Q129.376 422.384 125.556 422.384 L121.529 422.384 L121.529 418.542 L125.742 418.542 Q129.191 418.542 131.019 417.176 Q132.848 415.787 132.848 413.195 Q132.848 410.533 130.95 409.121 Q129.075 407.685 125.556 407.685 Q123.635 407.685 121.436 408.102 Q119.237 408.519 116.598 409.398 L116.598 405.232 Q119.26 404.491 121.575 404.121 Q123.913 403.75 125.973 403.75 Q131.297 403.75 134.399 406.181 Q137.501 408.588 137.501 412.708 Q137.501 415.579 135.857 417.57 Q134.214 419.537 131.181 420.301 Z\" fill=\"#000000\" fill-rule=\"nonzero\" fill-opacity=\"1\" /><path clip-path=\"url(#clip650)\" d=\"M147.223 404.375 L165.579 404.375 L165.579 408.31 L151.505 408.31 L151.505 416.783 Q152.524 416.435 153.542 416.273 Q154.561 416.088 155.579 416.088 Q161.366 416.088 164.746 419.259 Q168.126 422.431 168.126 427.847 Q168.126 433.426 164.653 436.528 Q161.181 439.606 154.862 439.606 Q152.686 439.606 150.417 439.236 Q148.172 438.866 145.765 438.125 L145.765 433.426 Q147.848 434.56 150.07 435.116 Q152.292 435.671 154.769 435.671 Q158.774 435.671 161.112 433.565 Q163.45 431.458 163.45 427.847 Q163.45 424.236 161.112 422.13 Q158.774 420.023 154.769 420.023 Q152.894 420.023 151.019 420.44 Q149.167 420.857 147.223 421.736 L147.223 404.375 Z\" fill=\"#000000\" fill-rule=\"nonzero\" fill-opacity=\"1\" /><path clip-path=\"url(#clip650)\" d=\"M187.338 407.454 Q183.727 407.454 181.899 411.019 Q180.093 414.56 180.093 421.69 Q180.093 428.796 181.899 432.361 Q183.727 435.903 187.338 435.903 Q190.973 435.903 192.778 432.361 Q194.607 428.796 194.607 421.69 Q194.607 414.56 192.778 411.019 Q190.973 407.454 187.338 407.454 M187.338 403.75 Q193.149 403.75 196.204 408.357 Q199.283 412.94 199.283 421.69 Q199.283 430.417 196.204 435.023 Q193.149 439.606 187.338 439.606 Q181.528 439.606 178.45 435.023 Q175.394 430.417 175.394 421.69 Q175.394 412.94 178.45 408.357 Q181.528 403.75 187.338 403.75 Z\" fill=\"#000000\" fill-rule=\"nonzero\" fill-opacity=\"1\" /><path clip-path=\"url(#clip650)\" d=\"M217.5 407.454 Q213.889 407.454 212.061 411.019 Q210.255 414.56 210.255 421.69 Q210.255 428.796 212.061 432.361 Q213.889 435.903 217.5 435.903 Q221.135 435.903 222.94 432.361 Q224.769 428.796 224.769 421.69 Q224.769 414.56 222.94 411.019 Q221.135 407.454 217.5 407.454 M217.5 403.75 Q223.31 403.75 226.366 408.357 Q229.445 412.94 229.445 421.69 Q229.445 430.417 226.366 435.023 Q223.31 439.606 217.5 439.606 Q211.69 439.606 208.612 435.023 Q205.556 430.417 205.556 421.69 Q205.556 412.94 208.612 408.357 Q211.69 403.75 217.5 403.75 Z\" fill=\"#000000\" fill-rule=\"nonzero\" fill-opacity=\"1\" /><path clip-path=\"url(#clip650)\" d=\"M129.862 150.197 L118.056 168.646 L129.862 168.646 L129.862 150.197 M128.635 146.123 L134.515 146.123 L134.515 168.646 L139.445 168.646 L139.445 172.535 L134.515 172.535 L134.515 180.683 L129.862 180.683 L129.862 172.535 L114.26 172.535 L114.26 168.021 L128.635 146.123 Z\" fill=\"#000000\" fill-rule=\"nonzero\" fill-opacity=\"1\" /><path clip-path=\"url(#clip650)\" d=\"M157.177 149.202 Q153.566 149.202 151.737 152.767 Q149.931 156.308 149.931 163.438 Q149.931 170.544 151.737 174.109 Q153.566 177.651 157.177 177.651 Q160.811 177.651 162.616 174.109 Q164.445 170.544 164.445 163.438 Q164.445 156.308 162.616 152.767 Q160.811 149.202 157.177 149.202 M157.177 145.498 Q162.987 145.498 166.042 150.105 Q169.121 154.688 169.121 163.438 Q169.121 172.165 166.042 176.771 Q162.987 181.354 157.177 181.354 Q151.366 181.354 148.288 176.771 Q145.232 172.165 145.232 163.438 Q145.232 154.688 148.288 150.105 Q151.366 145.498 157.177 145.498 Z\" fill=\"#000000\" fill-rule=\"nonzero\" fill-opacity=\"1\" /><path clip-path=\"url(#clip650)\" d=\"M187.338 149.202 Q183.727 149.202 181.899 152.767 Q180.093 156.308 180.093 163.438 Q180.093 170.544 181.899 174.109 Q183.727 177.651 187.338 177.651 Q190.973 177.651 192.778 174.109 Q194.607 170.544 194.607 163.438 Q194.607 156.308 192.778 152.767 Q190.973 149.202 187.338 149.202 M187.338 145.498 Q193.149 145.498 196.204 150.105 Q199.283 154.688 199.283 163.438 Q199.283 172.165 196.204 176.771 Q193.149 181.354 187.338 181.354 Q181.528 181.354 178.45 176.771 Q175.394 172.165 175.394 163.438 Q175.394 154.688 178.45 150.105 Q181.528 145.498 187.338 145.498 Z\" fill=\"#000000\" fill-rule=\"nonzero\" fill-opacity=\"1\" /><path clip-path=\"url(#clip650)\" d=\"M217.5 149.202 Q213.889 149.202 212.061 152.767 Q210.255 156.308 210.255 163.438 Q210.255 170.544 212.061 174.109 Q213.889 177.651 217.5 177.651 Q221.135 177.651 222.94 174.109 Q224.769 170.544 224.769 163.438 Q224.769 156.308 222.94 152.767 Q221.135 149.202 217.5 149.202 M217.5 145.498 Q223.31 145.498 226.366 150.105 Q229.445 154.688 229.445 163.438 Q229.445 172.165 226.366 176.771 Q223.31 181.354 217.5 181.354 Q211.69 181.354 208.612 176.771 Q205.556 172.165 205.556 163.438 Q205.556 154.688 208.612 150.105 Q211.69 145.498 217.5 145.498 Z\" fill=\"#000000\" fill-rule=\"nonzero\" fill-opacity=\"1\" /><path clip-path=\"url(#clip650)\" d=\"M58.657 805.744 L77.5631 805.744 L77.5631 811.632 L28.3562 811.632 L28.3562 805.744 L33.7671 805.744 Q30.5842 803.898 29.0564 801.097 Q27.4968 798.264 27.4968 794.349 Q27.4968 787.856 32.6531 783.814 Q37.8093 779.74 46.212 779.74 Q54.6147 779.74 59.771 783.814 Q64.9272 787.856 64.9272 794.349 Q64.9272 798.264 63.3994 801.097 Q61.8398 803.898 58.657 805.744 M46.212 785.819 Q39.7508 785.819 36.0905 788.493 Q32.3984 791.135 32.3984 795.782 Q32.3984 800.429 36.0905 803.102 Q39.7508 805.744 46.212 805.744 Q52.6732 805.744 56.3653 803.102 Q60.0256 800.429 60.0256 795.782 Q60.0256 791.135 56.3653 788.493 Q52.6732 785.819 46.212 785.819 Z\" fill=\"#000000\" fill-rule=\"nonzero\" fill-opacity=\"1\" /><path clip-path=\"url(#clip650)\" d=\"M33.8307 749.376 Q33.2578 750.362 33.0032 751.54 Q32.7167 752.686 32.7167 754.086 Q32.7167 759.052 35.9632 761.725 Q39.1779 764.367 45.2253 764.367 L64.0042 764.367 L64.0042 770.255 L28.3562 770.255 L28.3562 764.367 L33.8944 764.367 Q30.6479 762.521 29.0883 759.561 Q27.4968 756.601 27.4968 752.368 Q27.4968 751.763 27.5923 751.031 Q27.656 750.299 27.8151 749.407 L33.8307 749.376 Z\" fill=\"#000000\" fill-rule=\"nonzero\" fill-opacity=\"1\" /><path clip-path=\"url(#clip650)\" d=\"M28.3562 743.233 L28.3562 737.376 L64.0042 737.376 L64.0042 743.233 L28.3562 743.233 M14.479 743.233 L14.479 737.376 L21.895 737.376 L21.895 743.233 L14.479 743.233 Z\" fill=\"#000000\" fill-rule=\"nonzero\" fill-opacity=\"1\" /><path clip-path=\"url(#clip650)\" d=\"M29.7248 699.469 L35.1993 699.469 Q33.8307 701.951 33.1623 704.466 Q32.4621 706.948 32.4621 709.495 Q32.4621 715.192 36.0905 718.343 Q39.6872 721.494 46.212 721.494 Q52.7369 721.494 56.3653 718.343 Q59.9619 715.192 59.9619 709.495 Q59.9619 706.948 59.2935 704.466 Q58.5933 701.951 57.2247 699.469 L62.6355 699.469 Q63.7814 701.919 64.3543 704.561 Q64.9272 707.171 64.9272 710.131 Q64.9272 718.184 59.8664 722.926 Q54.8057 727.669 46.212 727.669 Q37.491 727.669 32.4939 722.894 Q27.4968 718.088 27.4968 709.749 Q27.4968 707.044 28.0697 704.466 Q28.6108 701.887 29.7248 699.469 Z\" fill=\"#000000\" fill-rule=\"nonzero\" fill-opacity=\"1\" /><path clip-path=\"url(#clip650)\" d=\"M44.7161 658.792 L47.5806 658.792 L47.5806 685.719 Q53.6281 685.337 56.8109 682.09 Q59.9619 678.812 59.9619 672.987 Q59.9619 669.613 59.1344 666.462 Q58.3069 663.279 56.6518 660.16 L62.1899 660.16 Q63.5267 663.311 64.227 666.621 Q64.9272 669.932 64.9272 673.337 Q64.9272 681.867 59.9619 686.864 Q54.9967 691.83 46.5303 691.83 Q37.7774 691.83 32.6531 687.119 Q27.4968 682.377 27.4968 674.356 Q27.4968 667.163 32.1438 662.993 Q36.7589 658.792 44.7161 658.792 M42.9973 664.648 Q38.1912 664.712 35.3266 667.354 Q32.4621 669.963 32.4621 674.292 Q32.4621 679.194 35.2312 682.154 Q38.0002 685.082 43.0292 685.528 L42.9973 664.648 Z\" fill=\"#000000\" fill-rule=\"nonzero\" fill-opacity=\"1\" /><polyline clip-path=\"url(#clip652)\" style=\"stroke:#009af9; stroke-linecap:round; stroke-linejoin:round; stroke-width:4; stroke-opacity:1; fill:none\" points=\"324.52,1240.73 325.598,1234.81 328.833,1204.08 329.911,1176.42 330.989,1166.4 332.067,1204.96 333.146,1198.79 337.459,1202.56 338.537,1196.62 339.615,1189.54 340.693,1184.69 343.928,1188.77 345.006,1189.98 346.085,1196.15 347.163,1202.92 348.241,1175.78 351.476,1184.64 352.554,1184.64 353.632,1188.64 355.789,1193.49 359.024,1204.55 360.102,1205.37 361.18,1212.99 362.258,1196.26 366.571,1180.06 367.649,1155.45 368.728,1155.45 369.806,1188.92 370.884,1171.46 374.119,1159.87 375.197,1149.15 376.275,1175.62 377.354,1186.34 378.432,1188.92 381.667,1137.89 382.745,1128.34 384.89,1118.91 389.214,1113.02 390.293,1116.33 391.371,1101.66 392.449,1095.69 393.527,1073.2 397.84,1061.94 399.997,1085.16 401.075,1128.23 404.31,1114.88 405.377,1117.93 406.466,1117.46 407.545,1107.29 408.623,1126.27 411.858,1129.91 412.936,1148.71 414.014,1147.14 415.092,1140.24 416.171,1147.11 419.405,1122.06 420.484,1139.73 421.562,1154.19 422.64,1168.49 423.718,1171.62 426.953,1167.93 428.031,1158.32 429.11,1140.86 430.188,1120.85 431.266,1094.89 434.501,1071.26 435.579,1101.84 437.736,1110.62 438.814,1102.54 442.049,1076.84 443.127,1065.84 444.205,1061.66 445.283,1065.17 446.362,1064.96 449.596,1067.7 450.675,1066.85 451.753,1062.17 452.831,1052.85 453.909,1067.36 457.144,1054.11 458.222,1058.09 459.301,1065.12 460.379,1065.97 461.457,1079.06 464.692,1072.68 465.77,1066.2 466.848,1073.66 467.927,1071.08 469.005,1112.17 472.24,1105.82 473.318,1127.54 474.396,1140.53 475.474,1143.44 476.553,1140.84 479.787,1121.16 480.866,1141.66 481.944,1135.85 483.022,1162.35 484.1,1156.67 487.335,1139.65 488.413,1138.33 489.492,1146.41 490.57,1130.35 491.648,1140.09 494.883,1129.27 495.961,1103.88 497.039,1090.17 498.117,1103.41 499.196,1090.37 502.43,1068.01 503.509,1085.41 504.587,1086.16 505.665,1063.1 506.743,1069.22 511.056,1093.39 512.135,1090.84 514.291,1111.14 517.526,1112.22 518.604,1099.95 519.682,1100.24 520.761,1084.85 521.839,1068.47 525.074,1053.7 526.152,1074.26 527.23,1072.84 528.308,1075.83 529.387,1062.33 533.7,1066.46 534.778,1069.66 535.856,1085.21 536.934,1094.4 540.169,1101.97 542.326,1116.87 543.404,1127.41 544.482,1123.09 547.717,1118.94 548.795,1133.06 549.873,1124.85 550.952,1143.75 552.03,1162.61 555.265,1188.25 556.343,1173.32 557.421,1150.73 558.499,1151.17 559.578,1167.41 562.812,1145.12 563.891,1165.45 566.047,1165.29 567.125,1155.43 570.36,1171.77 572.517,1186.03 573.595,1194.11 574.673,1203.2 577.908,1185.56 578.986,1177.15 580.064,1172.45 581.143,1180.43 582.221,1166.79 586.534,1169.86 587.612,1160.2 588.69,1154.06 589.757,1131.87 592.284,1136.65 594.082,1095.77 595.16,1065.84 596.238,1057.14 597.316,1092.65 600.551,1096.24 601.629,1092.16 602.708,1099.05 603.786,1100.68 604.864,1129.29 608.099,1144.27 610.255,1104.16 611.334,1094.76 612.412,1106.31 615.647,1117.59 616.725,1140.22 617.803,1140.34 618.881,1135.41 619.959,1159.38 623.194,1154.32 624.272,1172.32 625.351,1168.37 626.429,1156.46 627.507,1168.91 630.742,1185.54 631.82,1170.07 632.898,1155.87 633.977,1133.76 635.055,1132.57 638.29,1165.19 639.368,1189.77 640.446,1174.77 641.524,1185.62 642.603,1159.61 645.837,1130.94 646.916,1111.21 647.994,1109.77 649.072,1078.11 650.15,1081.28 653.385,1076.74 654.463,1085.05 656.62,1092.1 657.698,1093.89 660.933,1101.79 662.011,1112.89 663.089,1109.85 664.168,1114.98 665.246,1092.77 668.481,1092.88 669.559,1090.09 670.637,1064.57 671.715,1085.7 672.794,1086.11 676.028,1098.09 677.107,1089.55 678.185,1079.22 679.263,1073.07 680.341,1083.25 683.576,1108.42 684.654,1108.06 685.733,1089.55 686.811,1097.79 687.889,1101.68 691.124,1108.99 692.202,1101.5 693.28,1116.56 694.359,1125.21 695.437,1155.58 698.672,1143.47 699.75,1140.76 700.828,1120.72 701.906,1130.12 702.985,1125.88 706.219,1112.76 707.298,1117.18 708.376,1108.22 709.454,1097.27 710.532,1101.27 713.767,1091.43 714.845,1084.98 715.924,1095 717.002,1115.42 721.315,1136.83 722.393,1115.76 723.471,1132.57 724.55,1141.92 725.628,1196.33 728.863,1195.74 729.941,1177.71 731.019,1153.44 732.097,1131.82 733.176,1136.26 736.41,1210.69 738.567,1220.33 739.645,1315.28 740.723,1296.46 743.958,1353.22 745.036,1373.06 746.115,1374.92 747.193,1384.24 748.271,1301.03 751.506,1367.01 752.584,1349.74 753.662,1325.38 754.74,1304.39 755.819,1287.06 759.053,1310.82 760.132,1286.23 761.21,1346.84 763.366,1375.02 767.679,1312.52 768.758,1348.55 769.836,1317.2 774.149,1320.76 776.305,1333.21 777.384,1343.07 778.462,1296.51 781.697,1290.08 782.775,1331.92 783.853,1315.47 784.931,1259.3 786.01,1290.13 789.244,1280.81 790.323,1269.21 791.401,1245.14 792.479,1188.95 796.792,1232.33 797.87,1231.15 798.949,1246.2 800.027,1252.37 801.105,1251.47 804.34,1229.83 805.418,1222.49 806.496,1222.42 807.575,1246.85 808.653,1251.73 811.888,1224.51 812.966,1222.93 814.044,1220.38 815.122,1200.96 816.201,1185.9 820.514,1225.85 821.592,1193.67 822.67,1194.19 823.748,1210.69 826.983,1173.04 828.061,1172.06 829.14,1172.57 830.218,1149.13 831.296,1171.49 834.531,1159.35 835.609,1159.2 836.687,1140.24 837.766,1161.47 838.844,1176.01 842.079,1180.97 843.157,1172.76 844.235,1171.72 845.313,1176.73 846.392,1173.38 849.626,1181.98 850.705,1178.18 851.783,1174.62 852.861,1188.1 853.939,1135.02 857.174,1143.91 858.252,1153.98 859.331,1148.87 860.409,1115.24 861.487,1093.29 864.722,1060.47 865.8,1057.01 866.878,1083.35 867.957,1090.86 869.035,1081.57 872.27,1082.78 873.348,1107.6 874.426,1075.6 875.504,1075.16 876.583,1092.72 879.817,1089.03 880.895,1080.17 881.974,1097.79 883.052,1107.99 884.13,1115.11 887.365,1089.6 888.443,1036.42 889.521,1053.83 890.6,1052.05 891.678,1051.07 894.913,1065.14 895.991,1067.44 897.069,1062.38 898.147,1037.28 899.226,1043.86 902.46,1050.34 903.539,1051.84 904.617,1063.49 905.695,1064.99 906.773,1071.34 910.008,1065.53 911.086,1057.08 912.165,1063.88 913.243,1065.81 914.321,1068.01 917.556,1068.27 918.634,1071.08 919.712,1065.48 920.791,1068.11 921.869,1073.2 925.104,1063.54 926.182,1069.17 927.26,1059.46 928.338,1041.72 929.417,1047.25 932.651,1027.49 933.73,1016.56 934.808,1027.18 935.886,1025.37 936.964,1003.19 940.199,942.601 941.277,942.601 942.356,936.61 943.434,958.329 944.512,964.036 947.747,956.082 948.825,926.306 949.903,954.972 950.982,1024.8 952.06,978.292 955.295,976.226 956.373,944.151 957.451,942.136 958.529,926.047 962.842,831.863 963.921,827.473 964.999,816.29 966.077,769.934 967.155,776.519 970.39,767.713 971.468,769.495 972.547,778.25 973.625,813.888 974.703,802.164 977.938,828.893 979.016,814.715 980.094,847.565 981.173,849.76 982.251,841.676 985.486,840.953 986.564,870.936 987.642,875.043 988.72,869.645 989.799,853.014 993.033,884.133 994.112,869.154 995.19,859.057 996.268,842.245 997.346,831.011 1000.58,821.119 1001.66,860.89 1002.74,841.16 1003.82,849.811 1004.89,857.146 1006.33,850.173 1009.21,852.394 1010.29,872.744 1011.36,867.45 1012.44,855.39 1015.68,822.333 1016.75,823.47 1017.83,834.187 1018.91,824.219 1019.99,845.369 1024.3,821.016 1025.38,809.266 1026.46,829.978 1027.54,820.629 1030.77,815.386 1031.85,784.603 1032.93,777.63 1034.01,791.317 1035.08,791.679 1038.32,784.396 1039.4,803.068 1040.48,775.874 1041.55,763.478 1042.63,751.701 1045.87,772.801 1046.95,745.762 1048.02,727.038 1049.1,726.728 1053.42,716.373 1054.49,715.804 1055.57,726.754 1056.65,750.797 1057.73,716.966 1060.96,659.531 1062.04,631.872 1063.12,653.307 1064.2,662.966 1065.28,617.462 1068.51,588.77 1069.59,589.596 1070.67,597.809 1071.75,550.42 1072.82,559.381 1076.06,565.372 1077.14,545.255 1078.21,520.411 1079.29,538.463 1080.37,523.355 1083.61,529.45 1085.76,545.074 1086.84,578.388 1087.92,622.394 1091.15,607.932 1092.23,574.825 1093.31,576.581 1094.39,582.572 1095.47,598.325 1098.7,569.324 1099.78,588.538 1100.86,569.737 1101.94,573.507 1103.01,581.358 1106.25,607.674 1107.33,623.712 1108.41,642.151 1109.48,650.286 1110.56,642.796 1113.8,701.368 1114.88,690.134 1115.95,706.714 1117.03,682.335 1118.11,734.502 1121.34,719.058 1122.42,676.627 1123.5,649.382 1124.58,654.237 1125.66,675.749 1128.89,676.318 1129.97,653.591 1131.05,643.261 1133.21,649.976 1136.44,645.741 1137.52,623.066 1138.6,621.568 1139.67,661.055 1140.75,653.979 1143.99,612.943 1145.07,606.254 1146.14,617.359 1147.22,646.412 1148.3,645.405 1152.61,598.016 1153.69,588.047 1154.77,594.684 1159.08,556.514 1160.16,543.189 1161.24,539.728 1162.32,515.995 1163.4,513.464 1166.63,552.563 1167.71,626.165 1169.87,566.819 1170.94,579.112 1174.18,596.337 1175.26,605.247 1177.41,618.547 1178.49,623.35 1181.73,627.844 1182.8,611.729 1183.88,615.809 1184.96,620.38 1186.04,661.494 1189.27,660.797 1190.35,654.211 1191.43,630.478 1192.51,622.343 1193.59,611.264 1196.82,604.756 1197.9,616.584 1198.98,634.661 1201.14,653.307 1204.37,643.881 1205.45,634.042 1206.53,637.554 1207.6,648.917 1208.68,638.329 1211.92,637.812 1213,621.026 1214.07,598.041 1215.15,586.937 1216.23,605.737 1219.47,597.706 1220.54,600.882 1221.62,613.046 1222.7,606.951 1223.78,605.66 1227.01,585.284 1228.09,576.529 1229.17,576.477 1230.25,567.929 1231.33,538.488 1234.56,537.171 1235.64,544.196 1236.72,538.204 1237.8,515.788 1238.87,526.351 1242.11,538.85 1243.19,524.336 1244.27,544.893 1245.34,486.941 1246.42,483.222 1249.66,505.974 1250.73,503.857 1251.81,501.326 1252.89,503.521 1253.97,511.811 1257.2,514.109 1258.28,544.428 1259.36,537.894 1260.44,546.391 1261.52,572.397 1264.75,580.17 1265.83,583.037 1266.91,569.091 1267.99,575.083 1269.06,579.292 1272.3,584.561 1273.38,573.611 1275.53,568.162 1276.61,569.969 1279.85,577.872 1280.93,585.413 1282,577.743 1283.08,578.776 1284.16,593.419 1287.39,566.586 1288.47,532.755 1289.55,538.411 1290.63,533.246 1291.71,519.894 1294.94,513.231 1296.02,507.447 1297.1,502.127 1298.18,498.227 1299.26,440.559 1302.49,435.627 1303.57,394.255 1304.65,390.381 1306.8,390.923 1310.04,350.688 1311.12,363.187 1312.19,339.531 1313.27,332.894 1314.35,307.947 1317.59,317.683 1318.66,273.703 1319.74,310.633 1320.82,247.722 1321.9,244.985 1325.13,239.846 1326.21,258.492 1327.29,280.056 1328.37,271.146 1332.68,243.28 1333.76,222.336 1334.84,186.878 1335.92,213.349 1336.99,252.319 1340.23,254.566 1341.31,234.19 1342.39,234.603 1343.46,230.936 1344.54,229.877 1347.78,247.619 1348.86,277.473 1349.93,270.888 1351.01,279.332 1352.09,302.756 1355.32,280.495 1356.4,249.504 1357.48,261.074 1358.56,218.721 1359.64,196.64 1362.87,325.792 1363.95,342.707 1365.03,341.494 1366.11,364.091 1370.42,345.652 1371.5,352.366 1372.58,365.434 1373.65,404.869 1374.73,422.249 1377.97,425.297 1379.05,430.642 1380.12,426.949 1381.2,462.123 1382.28,474.468 1385.52,433.845 1386.59,429.816 1387.67,425.658 1389.15,417.187 1393.06,420.235 1394.14,418.711 1395.22,429.764 1396.3,427.75 1397.38,408.2 1400.61,394.125 1401.69,392.524 1402.77,410.344 1403.85,434.206 1408.16,443.142 1409.24,440.12 1410.32,450.941 1411.39,449.598 1412.47,449.107 1415.71,420.622 1416.78,406.599 1417.86,381.471 1418.94,347.847 1420.02,349.112 1423.25,402.854 1424.33,378.011 1425.41,356.111 1426.49,369.101 1427.57,350.997 1430.8,365.021 1431.88,357.712 1432.96,385.319 1434.04,379.508 1435.11,378.088 1438.35,392.266 1439.43,365.718 1440.51,354.122 1441.58,337.62 1442.66,333.385 1445.9,320.369 1446.98,314.971 1448.05,321.092 1449.13,300.922 1450.21,298.546 1453.45,257.536 1454.52,222.93 1455.6,235.223 1456.68,262.856 1457.76,239.071 1460.99,225.461 1462.07,206.841 1463.15,235.765 1464.23,216.138 1465.31,179.854 1468.54,153.512 1469.62,168.258 1470.7,207.487 1471.78,252.991 1472.85,249.401 1476.09,281.502 1477.17,282.251 1479.32,344.567 1480.4,323.494 1483.64,299.631 1484.71,266.368 1485.79,237.676 1486.87,253.998 1487.95,259.008 1491.18,277.55 1492.26,295.912 1493.34,287.08 1494.42,282.018 1495.5,320.963 1498.73,300.922 1499.81,257.51 1500.89,259.938 1501.97,274.865 1503.04,269.855 1506.28,308.334 1507.36,377.029 1508.44,388.702 1509.51,472.453 1510.59,410.938 1513.83,393.661 1515.98,397.819 1517.06,398.722 1518.14,409.078 1521.37,429.454 1522.45,370.031 1523.53,353.167 1524.61,359.184 1525.69,370.444 1528.92,347.795 1530,373.155 1531.08,341.132 1532.16,332.429 1536.47,356.214 1537.55,317.864 1538.63,311.95 1539.7,292.607 1540.78,314.506 1544.02,314.377 1545.1,315.591 1546.17,302.059 1547.25,297.72 1548.33,288.01 1551.57,282.018 1552.64,259.06 1553.72,289.766 1554.8,326.541 1555.88,325.766 1559.11,320.214 1560.19,322.951 1561.27,338.007 1566.66,407.167 1567.74,436.169 1568.82,392.318 1569.9,355.207 1570.97,363.523 1574.21,396.76 1575.29,397.741 1576.37,390.045 1577.44,378.114 1578.52,397.534 1581.76,399.755 1583.91,432.114 1584.99,414.734 1586.07,456.467 1589.3,450.011 1590.38,453.291 1591.46,467.108 1592.54,468.838 1593.62,465.61 1596.85,485.288 1597.93,446.654 1599.01,448.1 1600.09,544.609 1601.17,528.572 1604.4,513.722 1605.48,531.154 1606.56,593.315 1607.63,562.687 1608.71,544.945 1611.95,486.089 1613.03,491.719 1614.1,496.445 1615.18,461.426 1616.26,452.568 1619.5,457.32 1620.57,492.571 1621.65,471.162 1622.73,459.308 1623.81,494.017 1627.04,566.483 1628.12,571.157 1629.2,573.352 1630.28,606.564 1631.36,633.99 1634.59,621.852 1635.67,570.434 1636.75,564.753 1637.83,520.411 1638.9,528.52 1642.14,517.363 1643.22,515.582 1644.3,529.863 1645.37,541.949 1646.45,517.157 1649.69,558.503 1650.76,568.187 1651.84,545.229 1652.92,531.231 1654,542.801 1657.23,621.129 1658.31,636.159 1659.39,659.893 1660.47,680.553 1661.55,682.696 1664.78,647.109 1665.86,641.557 1666.94,594.787 1668.02,588.331 1669.09,591.585 1672.33,593.78 1673.41,620.044 1674.49,582.365 1675.56,545.358 1676.64,523.975 1679.88,525.576 1680.96,529.191 1682.03,504.554 1683.11,496.574 1684.19,491.357 1687.42,486.502 1689.58,496.936 1690.66,461.684 1691.74,472.505 1696.05,477.076 1697.13,472.737 1698.21,482.99 1699.29,480.666 1702.52,496.781 1703.6,532.91 1704.68,548.018 1705.76,567.206 1706.83,565.14 1710.07,611.445 1711.15,570.847 1713.3,611.884 1714.38,612.555 1717.62,611.006 1718.69,614.285 1719.77,602.638 1720.85,592.282 1721.93,567.49 1725.16,554.423 1726.24,561.447 1727.32,617.72 1728.4,626.01 1729.48,675.414 1732.71,665.032 1733.79,659.092 1734.87,679.287 1735.95,676.085 1737.02,689.178 1740.26,682.8 1741.34,670.894 1742.42,661.494 1743.49,681.302 1744.57,677.557 1747.81,687.681 1748.89,632.828 1751.04,627.25 1752.12,646.386 1755.35,618.676 1756.43,643.984 1757.51,627.869 1758.59,626.552 1759.67,628.696 1762.9,622.188 1763.98,605.169 1765.06,616.971 1766.14,598.661 1767.22,608.94 1770.85,596.389 1771.53,596.182 1773.68,598.61 1774.76,595.588 1778,580.145 1779.08,545.771 1780.15,555.068 1781.23,573.12 1782.31,567.619 1785.55,559.2 1787.7,568.317 1788.78,573.688 1789.86,516.718 1793.09,506.62 1794.17,508.118 1795.25,496.367 1796.33,499.647 1797.41,502.514 1800.64,533.478 1801.72,517.234 1802.8,520.669 1803.88,483.558 1804.95,478.651 1808.19,475.759 1809.27,474.674 1810.35,478.057 1811.42,434.232 1812.5,453.084 1815.74,459.928 1816.81,480.872 1817.89,483.326 1818.97,498.847 1820.05,528.701 1823.28,531.955 1824.36,508.376 1825.44,491.202 1826.52,522.322 1827.6,555.817 1830.83,575.548 1831.91,553.906 1832.99,541.2 1834.07,545.771 1835.14,561.963 1838.38,549.283 1839.46,545.874 1840.54,547.114 1841.61,541.097 1842.69,547.321 1845.93,544.867 1847.01,519.094 1848.08,517.389 1849.16,519.223 1850.24,570.641 1853.48,514.652 1854.55,531.981 1855.63,510.132 1856.71,507.214 1857.79,486.451 1861.02,507.369 1862.1,484.462 1863.18,478.471 1864.26,487.199 1865.34,492.365 1868.57,465.61 1869.65,454.556 1870.73,457.94 1872.88,467.598 1876.12,455.925 1877.2,494.637 1878.27,468.993 1879.35,442.109 1880.43,430.797 1883.67,442.341 1884.74,435.833 1885.82,411.273 1886.9,400.556 1887.98,402.26 1891.21,430.746 1892.29,421.603 1893.37,410.989 1894.45,391.672 1895.53,421.061 1898.76,428.215 1899.84,446.964 1900.92,472.505 1902,466.178 1903.07,473.073 1906.31,508.505 1907.39,518.319 1908.47,480.692 1909.54,513.877 1910.62,503.185 1913.86,487.845 1916.01,478.264 1917.09,505.923 1918.17,508.944 1921.4,534.279 1922.48,568.885 1923.56,577.175 1924.64,584.354 1925.72,587.298 1928.95,605.892 1930.03,625.106 1931.11,612.348 1932.19,615.525 1933.27,617.669 1936.5,616.739 1937.58,620.044 1938.66,608.165 1940.81,573.559 1944.05,576.606 1946.2,556.05 1947.28,565.915 1951.6,543.86 1952.67,569.479 1953.75,555.094 1954.83,582.365 1959.14,607.855 1960.22,612.374 1961.3,633.628 1962.38,625.778 1963.46,596.828 1966.69,589.622 1967.77,589.003 1968.85,577.562 1969.93,582.83 1971,566.664 1975.32,566.586 1976.4,586.988 1977.47,565.915 1978.55,560.75 1981.79,550.471 1982.86,533.607 1983.94,531.774 1985.02,534.176 1986.1,538.23 1989.33,548.173 1990.41,546.572 1991.49,572.113 1992.57,576.684 1993.65,564.804 1996.88,525.627 1997.96,526.48 1999.04,523.226 2000.12,528.313 2001.2,510.029 2004.43,514.445 2005.51,516.589 2006.59,530.379 2007.66,512.56 2008.74,522.064 2011.98,530.689 2013.06,559.923 2014.13,537.92 2015.21,557.78 2016.29,571.803 2019.53,552.382 2020.6,554.035 2021.68,550.239 2022.76,568.187 2023.84,589.571 2027.07,571.235 2028.15,562.299 2029.23,546.546 2030.31,556.721 2031.39,568.162 2034.62,581.952 2035.7,577.975 2036.78,568.626 2038.93,523.794 2042.17,539.263 2043.25,520.385 2044.32,514.652 2045.4,513.128 2046.48,509.848 2049.72,539.444 2050.79,539.212 2051.87,545.668 2052.95,504.012 2054.03,414.088 2057.26,425.942 2058.34,423.282 2059.42,437.124 2060.5,440.611 2061.58,489.679 2064.81,476.017 2065.89,473.745 2066.97,479.349 2068.05,474.907 2069.12,496.342 2072.36,462.227 2073.44,446.422 2074.52,452.31 2075.59,473.331 2076.67,450.812 2079.91,429.893 2080.99,436.84 2082.06,441.024 2083.14,451.561 2084.22,448.1 2087.45,447.558 2089.61,443.142 2090.69,454.841 2091.77,490.299 2095,472.453 2096.08,482.525 2097.16,474.209 2098.24,479.633 2099.32,482.964 2102.55,485.934 2103.63,485.624 2104.71,477.98 2105.79,495.619 2106.86,484.049 2110.1,463.75 2111.18,458.146 2112.25,457.862 2113.33,444.769 2114.41,451.664 2117.65,431.65 2118.72,379.922 2119.8,386.61 2120.88,390.639 2121.96,370.883 2125.19,366.828 2127.35,366.88 2128.43,377.597 2129.51,368.12 2132.74,381.807 2133.82,377.391 2134.9,375.531 2135.98,402.674 2137.05,406.883 2141.37,414.502 2142.45,402.157 2143.52,375.505 2144.6,358.952 2147.84,350.197 2148.92,355.078 2149.99,364.891 2151.07,399.678 2152.15,385.061 2155.38,409.233 2156.46,418.014 2157.54,428.241 2158.62,444.562 2159.7,424.47 2162.93,468.063 2165.09,478.419 2166.17,505.974 2167.25,498.64 2170.48,484.385 2171.56,489.446 2172.64,509.125 2173.71,493.914 2174.79,498.666 2178.03,483.507 2179.11,488.568 2180.18,482.835 2181.26,500.448 2182.34,507.679 2185.58,508.66 2187.73,471.085 2188.81,422.766 2189.89,420.39 2193.12,411.532 2194.2,416.387 2195.28,406.083 2196.36,417.394 2197.44,443.813 2201.75,437.073 2202.83,414.553 2203.91,428.06 2204.98,415.638 2208.22,415.225 2209.3,405.334 2210.38,367.887 2211.45,362.309 2212.53,356.214 2215.77,347.847 2216.84,332.765 2217.92,373.336 2219,335.27 2220.08,235.197 2223.31,236.127 2224.39,258.337 2225.47,277.008 2226.55,273.16 2227.63,254.308 2231.94,269.002 2233.02,260.919 2234.1,266.756 2235.17,270.113 2238.41,260.971 2239.49,275.381 2240.57,322.615 2241.64,335.502 2242.72,298.779 2245.96,329.562 2247.04,323.571 2248.11,311.614 2249.19,299.993 2250.27,223.937 2253.51,213.091 2254.58,235.042 2255.66,223.008 2256.74,213.711 2257.82,192.818 2262.13,236.618 2263.21,245.114 2264.29,261.384 2268.6,266.187 2269.68,266.42 2270.76,258.466 2271.84,238.735 2272.91,180.809 2276.15,177.194 2277.23,93.1585 2278.3,120.327 2279.38,94.1398 2280.46,94.3463 2283.7,101.061 2284.77,86.1857 2285.85,111.701 2286.93,110.1 2288.01,97.1357 2291.24,109.79 2292.32,147.572 2293.68,167.793 \"/>\n",
       "</svg>\n"
      ]
     },
     "execution_count": 35,
     "metadata": {},
     "output_type": "execute_result"
    }
   ],
   "source": [
    "using Plots\n",
    "plot(টিসিএস.vals[2],টিসিএস.vals[6],label=\"\")\n",
    "xlabel!(\"time\")\n",
    "ylabel!(\"price\")"
   ]
  },
  {
   "cell_type": "markdown",
   "id": "497a4f56",
   "metadata": {},
   "source": [
    "### While লুপ"
   ]
  },
  {
   "cell_type": "code",
   "execution_count": 36,
   "id": "96f037a3",
   "metadata": {},
   "outputs": [
    {
     "name": "stdout",
     "output_type": "stream",
     "text": [
      "2\n",
      "4\n",
      "6\n",
      "8\n",
      "10\n"
     ]
    }
   ],
   "source": [
    "ন = 0\n",
    "\n",
    "while ন < 10\n",
    "    ন+= 2\n",
    "    println(ন)\n",
    "end"
   ]
  },
  {
   "cell_type": "code",
   "execution_count": 37,
   "id": "daaaac5c",
   "metadata": {},
   "outputs": [
    {
     "name": "stdout",
     "output_type": "stream",
     "text": [
      "জুলিয়া আমার বন্ধু।\n",
      "বেলা আমার বন্ধু।\n",
      "মালা আমার বন্ধু।\n"
     ]
    }
   ],
   "source": [
    "বন্ধুরা = [\"জুলিয়া\",\"বেলা\",\"মালা\"]\n",
    "\n",
    "প = 1 \n",
    "\n",
    "while প <=length(বন্ধুরা)\n",
    "    বন্ধু = বন্ধুরা[প]\n",
    "    println(\"$বন্ধু আমার বন্ধু।\")\n",
    "    প += 1\n",
    "end"
   ]
  },
  {
   "cell_type": "markdown",
   "id": "49fb6d0d",
   "metadata": {},
   "source": [
    "## ফর Loop"
   ]
  },
  {
   "cell_type": "code",
   "execution_count": 38,
   "id": "af0a4c55",
   "metadata": {},
   "outputs": [
    {
     "name": "stdout",
     "output_type": "stream",
     "text": [
      "1\n",
      "2\n",
      "3\n",
      "4\n",
      "5\n",
      "6\n",
      "7\n",
      "8\n",
      "9\n",
      "10\n"
     ]
    }
   ],
   "source": [
    "for ক in 1:10\n",
    "    println(ক)\n",
    "end"
   ]
  },
  {
   "cell_type": "code",
   "execution_count": 39,
   "id": "adb90652",
   "metadata": {},
   "outputs": [
    {
     "name": "stdout",
     "output_type": "stream",
     "text": [
      "1\n",
      "2\n",
      "3\n",
      "4\n",
      "5\n",
      "6\n",
      "7\n",
      "8\n",
      "9\n",
      "10\n"
     ]
    }
   ],
   "source": [
    "for ক ∈ 1:10\n",
    "    println(ক)\n",
    "end"
   ]
  },
  {
   "cell_type": "code",
   "execution_count": 40,
   "id": "888be693",
   "metadata": {},
   "outputs": [
    {
     "data": {
      "text/plain": [
       "5"
      ]
     },
     "execution_count": 40,
     "metadata": {},
     "output_type": "execute_result"
    }
   ],
   "source": [
    "ক = 2\n",
    "খ = 3\n",
    "ক + খ"
   ]
  },
  {
   "cell_type": "code",
   "execution_count": 41,
   "id": "a78e4240",
   "metadata": {},
   "outputs": [
    {
     "data": {
      "text/plain": [
       "10"
      ]
     },
     "execution_count": 41,
     "metadata": {},
     "output_type": "execute_result"
    }
   ],
   "source": [
    "ஏ = 2\n",
    "\n",
    "பி = 5\n",
    "\n",
    "ஏ * பி\n"
   ]
  },
  {
   "cell_type": "code",
   "execution_count": null,
   "id": "5506dff8",
   "metadata": {},
   "outputs": [],
   "source": []
  }
 ],
 "metadata": {
  "@webio": {
   "lastCommId": null,
   "lastKernelId": null
  },
  "kernelspec": {
   "display_name": "Julia 1.9.2",
   "language": "julia",
   "name": "julia-1.9"
  },
  "language_info": {
   "file_extension": ".jl",
   "mimetype": "application/julia",
   "name": "julia",
   "version": "1.9.3"
  }
 },
 "nbformat": 4,
 "nbformat_minor": 5
}
